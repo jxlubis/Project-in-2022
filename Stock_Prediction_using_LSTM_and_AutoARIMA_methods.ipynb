{
  "cells": [
    {
      "cell_type": "markdown",
      "metadata": {
        "id": "QbH3_Exn7iVN"
      },
      "source": [
        "### install pip"
      ]
    },
    {
      "cell_type": "code",
      "execution_count": null,
      "metadata": {
        "colab": {
          "base_uri": "https://localhost:8080/"
        },
        "id": "RomFmYSkpbgl",
        "outputId": "28a15c28-f7e6-467f-8927-37a0ab4884cd"
      },
      "outputs": [
        {
          "output_type": "stream",
          "name": "stdout",
          "text": [
            "Looking in indexes: https://pypi.org/simple, https://us-python.pkg.dev/colab-wheels/public/simple/\n",
            "Collecting pmdarima\n",
            "  Downloading pmdarima-1.8.5-cp37-cp37m-manylinux_2_17_x86_64.manylinux2014_x86_64.manylinux_2_24_x86_64.whl (1.4 MB)\n",
            "\u001b[K     |████████████████████████████████| 1.4 MB 4.8 MB/s \n",
            "\u001b[?25hCollecting statsmodels!=0.12.0,>=0.11\n",
            "  Downloading statsmodels-0.13.2-cp37-cp37m-manylinux_2_17_x86_64.manylinux2014_x86_64.whl (9.8 MB)\n",
            "\u001b[K     |████████████████████████████████| 9.8 MB 33.7 MB/s \n",
            "\u001b[?25hRequirement already satisfied: pandas>=0.19 in /usr/local/lib/python3.7/dist-packages (from pmdarima) (1.3.5)\n",
            "Requirement already satisfied: Cython!=0.29.18,>=0.29 in /usr/local/lib/python3.7/dist-packages (from pmdarima) (0.29.32)\n",
            "Requirement already satisfied: setuptools!=50.0.0,>=38.6.0 in /usr/local/lib/python3.7/dist-packages (from pmdarima) (57.4.0)\n",
            "Requirement already satisfied: urllib3 in /usr/local/lib/python3.7/dist-packages (from pmdarima) (1.24.3)\n",
            "Requirement already satisfied: scikit-learn>=0.22 in /usr/local/lib/python3.7/dist-packages (from pmdarima) (1.0.2)\n",
            "Requirement already satisfied: numpy>=1.19.3 in /usr/local/lib/python3.7/dist-packages (from pmdarima) (1.21.6)\n",
            "Requirement already satisfied: scipy>=1.3.2 in /usr/local/lib/python3.7/dist-packages (from pmdarima) (1.7.3)\n",
            "Requirement already satisfied: joblib>=0.11 in /usr/local/lib/python3.7/dist-packages (from pmdarima) (1.1.0)\n",
            "Requirement already satisfied: pytz>=2017.3 in /usr/local/lib/python3.7/dist-packages (from pandas>=0.19->pmdarima) (2022.1)\n",
            "Requirement already satisfied: python-dateutil>=2.7.3 in /usr/local/lib/python3.7/dist-packages (from pandas>=0.19->pmdarima) (2.8.2)\n",
            "Requirement already satisfied: six>=1.5 in /usr/local/lib/python3.7/dist-packages (from python-dateutil>=2.7.3->pandas>=0.19->pmdarima) (1.15.0)\n",
            "Requirement already satisfied: threadpoolctl>=2.0.0 in /usr/local/lib/python3.7/dist-packages (from scikit-learn>=0.22->pmdarima) (3.1.0)\n",
            "Requirement already satisfied: patsy>=0.5.2 in /usr/local/lib/python3.7/dist-packages (from statsmodels!=0.12.0,>=0.11->pmdarima) (0.5.2)\n",
            "Requirement already satisfied: packaging>=21.3 in /usr/local/lib/python3.7/dist-packages (from statsmodels!=0.12.0,>=0.11->pmdarima) (21.3)\n",
            "Requirement already satisfied: pyparsing!=3.0.5,>=2.0.2 in /usr/local/lib/python3.7/dist-packages (from packaging>=21.3->statsmodels!=0.12.0,>=0.11->pmdarima) (3.0.9)\n",
            "Installing collected packages: statsmodels, pmdarima\n",
            "  Attempting uninstall: statsmodels\n",
            "    Found existing installation: statsmodels 0.10.2\n",
            "    Uninstalling statsmodels-0.10.2:\n",
            "      Successfully uninstalled statsmodels-0.10.2\n",
            "Successfully installed pmdarima-1.8.5 statsmodels-0.13.2\n",
            "Looking in indexes: https://pypi.org/simple, https://us-python.pkg.dev/colab-wheels/public/simple/\n",
            "Collecting yfinance\n",
            "  Downloading yfinance-0.1.74-py2.py3-none-any.whl (27 kB)\n",
            "Requirement already satisfied: pandas>=0.24.0 in /usr/local/lib/python3.7/dist-packages (from yfinance) (1.3.5)\n",
            "Requirement already satisfied: lxml>=4.5.1 in /usr/local/lib/python3.7/dist-packages (from yfinance) (4.9.1)\n",
            "Collecting requests>=2.26\n",
            "  Downloading requests-2.28.1-py3-none-any.whl (62 kB)\n",
            "\u001b[K     |████████████████████████████████| 62 kB 251 kB/s \n",
            "\u001b[?25hRequirement already satisfied: numpy>=1.15 in /usr/local/lib/python3.7/dist-packages (from yfinance) (1.21.6)\n",
            "Requirement already satisfied: multitasking>=0.0.7 in /usr/local/lib/python3.7/dist-packages (from yfinance) (0.0.11)\n",
            "Requirement already satisfied: python-dateutil>=2.7.3 in /usr/local/lib/python3.7/dist-packages (from pandas>=0.24.0->yfinance) (2.8.2)\n",
            "Requirement already satisfied: pytz>=2017.3 in /usr/local/lib/python3.7/dist-packages (from pandas>=0.24.0->yfinance) (2022.1)\n",
            "Requirement already satisfied: six>=1.5 in /usr/local/lib/python3.7/dist-packages (from python-dateutil>=2.7.3->pandas>=0.24.0->yfinance) (1.15.0)\n",
            "Requirement already satisfied: idna<4,>=2.5 in /usr/local/lib/python3.7/dist-packages (from requests>=2.26->yfinance) (2.10)\n",
            "Requirement already satisfied: certifi>=2017.4.17 in /usr/local/lib/python3.7/dist-packages (from requests>=2.26->yfinance) (2022.6.15)\n",
            "Requirement already satisfied: charset-normalizer<3,>=2 in /usr/local/lib/python3.7/dist-packages (from requests>=2.26->yfinance) (2.1.0)\n",
            "Requirement already satisfied: urllib3<1.27,>=1.21.1 in /usr/local/lib/python3.7/dist-packages (from requests>=2.26->yfinance) (1.24.3)\n",
            "Installing collected packages: requests, yfinance\n",
            "  Attempting uninstall: requests\n",
            "    Found existing installation: requests 2.23.0\n",
            "    Uninstalling requests-2.23.0:\n",
            "      Successfully uninstalled requests-2.23.0\n",
            "Successfully installed requests-2.28.1 yfinance-0.1.74\n",
            "Looking in indexes: https://pypi.org/simple, https://us-python.pkg.dev/colab-wheels/public/simple/\n",
            "Collecting yahoofinancials\n",
            "  Downloading yahoofinancials-1.6.tar.gz (27 kB)\n",
            "Requirement already satisfied: beautifulsoup4 in /usr/local/lib/python3.7/dist-packages (from yahoofinancials) (4.6.3)\n",
            "Requirement already satisfied: pytz in /usr/local/lib/python3.7/dist-packages (from yahoofinancials) (2022.1)\n",
            "Building wheels for collected packages: yahoofinancials\n",
            "  Building wheel for yahoofinancials (setup.py) ... \u001b[?25l\u001b[?25hdone\n",
            "  Created wheel for yahoofinancials: filename=yahoofinancials-1.6-py3-none-any.whl size=15192 sha256=cb9627640802f5a8e3f5583b17ab055e8e6571c566987ef8f1a8c767c5c9e302\n",
            "  Stored in directory: /root/.cache/pip/wheels/4b/63/46/e7110bfee88685fe69e338d1b14d1748921862aa57b6705b60\n",
            "Successfully built yahoofinancials\n",
            "Installing collected packages: yahoofinancials\n",
            "Successfully installed yahoofinancials-1.6\n"
          ]
        }
      ],
      "source": [
        "!pip install pmdarima\n",
        "!pip install yfinance\n",
        "!pip install yahoofinancials"
      ]
    },
    {
      "cell_type": "markdown",
      "metadata": {
        "id": "wRR-O7qdngz0"
      },
      "source": [
        "## IMPORT LIBRARY\n",
        "---"
      ]
    },
    {
      "cell_type": "code",
      "execution_count": null,
      "metadata": {
        "id": "f7314991"
      },
      "outputs": [],
      "source": [
        "import numpy as np\n",
        "import pandas as pd\n",
        "\n",
        "import matplotlib.pyplot as plt\n",
        "\n",
        "import sklearn\n",
        "import sklearn.preprocessing\n",
        "from sklearn.model_selection import train_test_split\n",
        "from sklearn.metrics import r2_score\n",
        "from sklearn.metrics import mean_squared_error, mean_absolute_error, mean_absolute_percentage_error\n",
        "\n",
        "\n",
        "from keras.layers import Dense,LSTM\n",
        "from keras.models import Sequential\n",
        "from keras.backend import square\n",
        "\n",
        "import statsmodels.api as sm\n",
        "from statsmodels.tsa.stattools import adfuller\n",
        "from statsmodels.tsa.statespace.sarimax import SARIMAX\n",
        "from statsmodels.tsa.seasonal import seasonal_decompose\n",
        "from statsmodels.tools.eval_measures import rmse\n",
        "\n",
        "import pmdarima\n",
        "from pmdarima import auto_arima\n",
        "from pmdarima.arima.utils import ndiffs\n",
        "\n",
        "import yfinance as yf\n",
        "from yahoofinancials import YahooFinancials\n",
        "\n",
        "import warnings\n",
        "warnings.filterwarnings(\"ignore\")"
      ]
    },
    {
      "cell_type": "markdown",
      "metadata": {
        "id": "oXJh5odeo35L"
      },
      "source": [
        "### Flow\n",
        "\n",
        "\n",
        "**Data Preparation**\n",
        "\n",
        "- Import Data -> Select the Variables to Analyze -> Data Cleaning (Check for missing data, check for duplicates, check data types, etc.)\n",
        "\n",
        "**Data Preprocessing**\n",
        "\n",
        "- Split Data -> Normalize Training Data -> Build the \"load_data\" function to create variables \"X\" and \"y\"\n",
        "\n",
        "**Base LSTM Model** (this part can later have its parameters adjusted)\n",
        "\n",
        "- Build Model -> Evaluate Training (plot)\n",
        "\n",
        "**Prediction** (The data used is the testing data)\n",
        "\n",
        "- Normalize Testing Data -> \"load_data\" for testing -> Input into the model and start predicting -> Denormalize the prediction results -> Evaluation -> Visualization\n",
        "\n"
      ]
    },
    {
      "cell_type": "markdown",
      "metadata": {
        "id": "r__Tns7doBDc"
      },
      "source": [
        "## Data Preparation\n",
        "---"
      ]
    },
    {
      "cell_type": "code",
      "execution_count": null,
      "metadata": {
        "colab": {
          "base_uri": "https://localhost:8080/"
        },
        "id": "jnHnWIUgo35M",
        "outputId": "218da408-0581-4100-fc58-648aa9650d28"
      },
      "outputs": [
        {
          "output_type": "execute_result",
          "data": {
            "text/plain": [
              "              Open    High     Low   Close    Adj Close  Volume\n",
              "Date                                                           \n",
              "2015-01-02  4050.0  4150.0  4050.0  4120.0  3577.748291  241700\n",
              "2015-01-05  4120.0  4250.0  4060.0  4200.0  3647.218994  388800\n",
              "2015-01-06  4250.0  4250.0  4200.0  4225.0  3668.928711  193000\n",
              "2015-01-07  4240.0  4240.0  4110.0  4200.0  3647.218994  958400\n",
              "2015-01-08  4205.0  4255.0  4150.0  4250.0  3690.638428  358300"
            ],
            "text/html": [
              "\n",
              "  <div id=\"df-56d41b2c-9c64-4457-8e29-8307cb90e29a\">\n",
              "    <div class=\"colab-df-container\">\n",
              "      <div>\n",
              "<style scoped>\n",
              "    .dataframe tbody tr th:only-of-type {\n",
              "        vertical-align: middle;\n",
              "    }\n",
              "\n",
              "    .dataframe tbody tr th {\n",
              "        vertical-align: top;\n",
              "    }\n",
              "\n",
              "    .dataframe thead th {\n",
              "        text-align: right;\n",
              "    }\n",
              "</style>\n",
              "<table border=\"1\" class=\"dataframe\">\n",
              "  <thead>\n",
              "    <tr style=\"text-align: right;\">\n",
              "      <th></th>\n",
              "      <th>Open</th>\n",
              "      <th>High</th>\n",
              "      <th>Low</th>\n",
              "      <th>Close</th>\n",
              "      <th>Adj Close</th>\n",
              "      <th>Volume</th>\n",
              "    </tr>\n",
              "    <tr>\n",
              "      <th>Date</th>\n",
              "      <th></th>\n",
              "      <th></th>\n",
              "      <th></th>\n",
              "      <th></th>\n",
              "      <th></th>\n",
              "      <th></th>\n",
              "    </tr>\n",
              "  </thead>\n",
              "  <tbody>\n",
              "    <tr>\n",
              "      <th>2015-01-02</th>\n",
              "      <td>4050.0</td>\n",
              "      <td>4150.0</td>\n",
              "      <td>4050.0</td>\n",
              "      <td>4120.0</td>\n",
              "      <td>3577.748291</td>\n",
              "      <td>241700</td>\n",
              "    </tr>\n",
              "    <tr>\n",
              "      <th>2015-01-05</th>\n",
              "      <td>4120.0</td>\n",
              "      <td>4250.0</td>\n",
              "      <td>4060.0</td>\n",
              "      <td>4200.0</td>\n",
              "      <td>3647.218994</td>\n",
              "      <td>388800</td>\n",
              "    </tr>\n",
              "    <tr>\n",
              "      <th>2015-01-06</th>\n",
              "      <td>4250.0</td>\n",
              "      <td>4250.0</td>\n",
              "      <td>4200.0</td>\n",
              "      <td>4225.0</td>\n",
              "      <td>3668.928711</td>\n",
              "      <td>193000</td>\n",
              "    </tr>\n",
              "    <tr>\n",
              "      <th>2015-01-07</th>\n",
              "      <td>4240.0</td>\n",
              "      <td>4240.0</td>\n",
              "      <td>4110.0</td>\n",
              "      <td>4200.0</td>\n",
              "      <td>3647.218994</td>\n",
              "      <td>958400</td>\n",
              "    </tr>\n",
              "    <tr>\n",
              "      <th>2015-01-08</th>\n",
              "      <td>4205.0</td>\n",
              "      <td>4255.0</td>\n",
              "      <td>4150.0</td>\n",
              "      <td>4250.0</td>\n",
              "      <td>3690.638428</td>\n",
              "      <td>358300</td>\n",
              "    </tr>\n",
              "  </tbody>\n",
              "</table>\n",
              "</div>\n",
              "      <button class=\"colab-df-convert\" onclick=\"convertToInteractive('df-56d41b2c-9c64-4457-8e29-8307cb90e29a')\"\n",
              "              title=\"Convert this dataframe to an interactive table.\"\n",
              "              style=\"display:none;\">\n",
              "        \n",
              "  <svg xmlns=\"http://www.w3.org/2000/svg\" height=\"24px\"viewBox=\"0 0 24 24\"\n",
              "       width=\"24px\">\n",
              "    <path d=\"M0 0h24v24H0V0z\" fill=\"none\"/>\n",
              "    <path d=\"M18.56 5.44l.94 2.06.94-2.06 2.06-.94-2.06-.94-.94-2.06-.94 2.06-2.06.94zm-11 1L8.5 8.5l.94-2.06 2.06-.94-2.06-.94L8.5 2.5l-.94 2.06-2.06.94zm10 10l.94 2.06.94-2.06 2.06-.94-2.06-.94-.94-2.06-.94 2.06-2.06.94z\"/><path d=\"M17.41 7.96l-1.37-1.37c-.4-.4-.92-.59-1.43-.59-.52 0-1.04.2-1.43.59L10.3 9.45l-7.72 7.72c-.78.78-.78 2.05 0 2.83L4 21.41c.39.39.9.59 1.41.59.51 0 1.02-.2 1.41-.59l7.78-7.78 2.81-2.81c.8-.78.8-2.07 0-2.86zM5.41 20L4 18.59l7.72-7.72 1.47 1.35L5.41 20z\"/>\n",
              "  </svg>\n",
              "      </button>\n",
              "      \n",
              "  <style>\n",
              "    .colab-df-container {\n",
              "      display:flex;\n",
              "      flex-wrap:wrap;\n",
              "      gap: 12px;\n",
              "    }\n",
              "\n",
              "    .colab-df-convert {\n",
              "      background-color: #E8F0FE;\n",
              "      border: none;\n",
              "      border-radius: 50%;\n",
              "      cursor: pointer;\n",
              "      display: none;\n",
              "      fill: #1967D2;\n",
              "      height: 32px;\n",
              "      padding: 0 0 0 0;\n",
              "      width: 32px;\n",
              "    }\n",
              "\n",
              "    .colab-df-convert:hover {\n",
              "      background-color: #E2EBFA;\n",
              "      box-shadow: 0px 1px 2px rgba(60, 64, 67, 0.3), 0px 1px 3px 1px rgba(60, 64, 67, 0.15);\n",
              "      fill: #174EA6;\n",
              "    }\n",
              "\n",
              "    [theme=dark] .colab-df-convert {\n",
              "      background-color: #3B4455;\n",
              "      fill: #D2E3FC;\n",
              "    }\n",
              "\n",
              "    [theme=dark] .colab-df-convert:hover {\n",
              "      background-color: #434B5C;\n",
              "      box-shadow: 0px 1px 3px 1px rgba(0, 0, 0, 0.15);\n",
              "      filter: drop-shadow(0px 1px 2px rgba(0, 0, 0, 0.3));\n",
              "      fill: #FFFFFF;\n",
              "    }\n",
              "  </style>\n",
              "\n",
              "      <script>\n",
              "        const buttonEl =\n",
              "          document.querySelector('#df-56d41b2c-9c64-4457-8e29-8307cb90e29a button.colab-df-convert');\n",
              "        buttonEl.style.display =\n",
              "          google.colab.kernel.accessAllowed ? 'block' : 'none';\n",
              "\n",
              "        async function convertToInteractive(key) {\n",
              "          const element = document.querySelector('#df-56d41b2c-9c64-4457-8e29-8307cb90e29a');\n",
              "          const dataTable =\n",
              "            await google.colab.kernel.invokeFunction('convertToInteractive',\n",
              "                                                     [key], {});\n",
              "          if (!dataTable) return;\n",
              "\n",
              "          const docLinkHtml = 'Like what you see? Visit the ' +\n",
              "            '<a target=\"_blank\" href=https://colab.research.google.com/notebooks/data_table.ipynb>data table notebook</a>'\n",
              "            + ' to learn more about interactive tables.';\n",
              "          element.innerHTML = '';\n",
              "          dataTable['output_type'] = 'display_data';\n",
              "          await google.colab.output.renderOutput(dataTable, element);\n",
              "          const docLink = document.createElement('div');\n",
              "          docLink.innerHTML = docLinkHtml;\n",
              "          element.appendChild(docLink);\n",
              "        }\n",
              "      </script>\n",
              "    </div>\n",
              "  </div>\n",
              "  "
            ]
          },
          "metadata": {},
          "execution_count": 3
        }
      ],
      "source": [
        "data = yf.download('ISAT.JK',\n",
        "                      start='2015-01-01',\n",
        "                      end='2020-12-31',\n",
        "                      progress=False,\n",
        ")\n",
        "data.head()"
      ]
    },
    {
      "cell_type": "code",
      "execution_count": null,
      "metadata": {
        "id": "0SFi_45eo35O",
        "colab": {
          "base_uri": "https://localhost:8080/"
        },
        "outputId": "ddee557e-56cf-4ef7-b57f-03034cef7afb"
      },
      "outputs": [
        {
          "output_type": "execute_result",
          "data": {
            "text/plain": [
              "              Open         High          Low        Close    Adj Close  \\\n",
              "count  1505.000000  1505.000000  1505.000000  1505.000000  1505.000000   \n",
              "mean   4260.770764  4327.093023  4191.202658  4256.764120  3739.557197   \n",
              "std    1682.818893  1686.359121  1666.951661  1683.211304  1440.278967   \n",
              "min    1220.000000  1330.000000  1190.000000  1200.000000  1077.314087   \n",
              "25%    2730.000000  2800.000000  2680.000000  2730.000000  2450.889404   \n",
              "50%    4005.000000  4060.000000  3975.000000  4025.000000  3499.593750   \n",
              "75%    6025.000000  6125.000000  5950.000000  6025.000000  5253.732910   \n",
              "max    7450.000000  7500.000000  7350.000000  7500.000000  6512.891113   \n",
              "\n",
              "             Volume  \n",
              "count  1.505000e+03  \n",
              "mean   3.577951e+06  \n",
              "std    9.028612e+06  \n",
              "min    0.000000e+00  \n",
              "25%    1.880000e+05  \n",
              "50%    6.501000e+05  \n",
              "75%    3.304200e+06  \n",
              "max    1.067741e+08  "
            ],
            "text/html": [
              "\n",
              "  <div id=\"df-56a1b71e-e8ee-4d16-a3e7-222393d2823d\">\n",
              "    <div class=\"colab-df-container\">\n",
              "      <div>\n",
              "<style scoped>\n",
              "    .dataframe tbody tr th:only-of-type {\n",
              "        vertical-align: middle;\n",
              "    }\n",
              "\n",
              "    .dataframe tbody tr th {\n",
              "        vertical-align: top;\n",
              "    }\n",
              "\n",
              "    .dataframe thead th {\n",
              "        text-align: right;\n",
              "    }\n",
              "</style>\n",
              "<table border=\"1\" class=\"dataframe\">\n",
              "  <thead>\n",
              "    <tr style=\"text-align: right;\">\n",
              "      <th></th>\n",
              "      <th>Open</th>\n",
              "      <th>High</th>\n",
              "      <th>Low</th>\n",
              "      <th>Close</th>\n",
              "      <th>Adj Close</th>\n",
              "      <th>Volume</th>\n",
              "    </tr>\n",
              "  </thead>\n",
              "  <tbody>\n",
              "    <tr>\n",
              "      <th>count</th>\n",
              "      <td>1505.000000</td>\n",
              "      <td>1505.000000</td>\n",
              "      <td>1505.000000</td>\n",
              "      <td>1505.000000</td>\n",
              "      <td>1505.000000</td>\n",
              "      <td>1.505000e+03</td>\n",
              "    </tr>\n",
              "    <tr>\n",
              "      <th>mean</th>\n",
              "      <td>4260.770764</td>\n",
              "      <td>4327.093023</td>\n",
              "      <td>4191.202658</td>\n",
              "      <td>4256.764120</td>\n",
              "      <td>3739.557197</td>\n",
              "      <td>3.577951e+06</td>\n",
              "    </tr>\n",
              "    <tr>\n",
              "      <th>std</th>\n",
              "      <td>1682.818893</td>\n",
              "      <td>1686.359121</td>\n",
              "      <td>1666.951661</td>\n",
              "      <td>1683.211304</td>\n",
              "      <td>1440.278967</td>\n",
              "      <td>9.028612e+06</td>\n",
              "    </tr>\n",
              "    <tr>\n",
              "      <th>min</th>\n",
              "      <td>1220.000000</td>\n",
              "      <td>1330.000000</td>\n",
              "      <td>1190.000000</td>\n",
              "      <td>1200.000000</td>\n",
              "      <td>1077.314087</td>\n",
              "      <td>0.000000e+00</td>\n",
              "    </tr>\n",
              "    <tr>\n",
              "      <th>25%</th>\n",
              "      <td>2730.000000</td>\n",
              "      <td>2800.000000</td>\n",
              "      <td>2680.000000</td>\n",
              "      <td>2730.000000</td>\n",
              "      <td>2450.889404</td>\n",
              "      <td>1.880000e+05</td>\n",
              "    </tr>\n",
              "    <tr>\n",
              "      <th>50%</th>\n",
              "      <td>4005.000000</td>\n",
              "      <td>4060.000000</td>\n",
              "      <td>3975.000000</td>\n",
              "      <td>4025.000000</td>\n",
              "      <td>3499.593750</td>\n",
              "      <td>6.501000e+05</td>\n",
              "    </tr>\n",
              "    <tr>\n",
              "      <th>75%</th>\n",
              "      <td>6025.000000</td>\n",
              "      <td>6125.000000</td>\n",
              "      <td>5950.000000</td>\n",
              "      <td>6025.000000</td>\n",
              "      <td>5253.732910</td>\n",
              "      <td>3.304200e+06</td>\n",
              "    </tr>\n",
              "    <tr>\n",
              "      <th>max</th>\n",
              "      <td>7450.000000</td>\n",
              "      <td>7500.000000</td>\n",
              "      <td>7350.000000</td>\n",
              "      <td>7500.000000</td>\n",
              "      <td>6512.891113</td>\n",
              "      <td>1.067741e+08</td>\n",
              "    </tr>\n",
              "  </tbody>\n",
              "</table>\n",
              "</div>\n",
              "      <button class=\"colab-df-convert\" onclick=\"convertToInteractive('df-56a1b71e-e8ee-4d16-a3e7-222393d2823d')\"\n",
              "              title=\"Convert this dataframe to an interactive table.\"\n",
              "              style=\"display:none;\">\n",
              "        \n",
              "  <svg xmlns=\"http://www.w3.org/2000/svg\" height=\"24px\"viewBox=\"0 0 24 24\"\n",
              "       width=\"24px\">\n",
              "    <path d=\"M0 0h24v24H0V0z\" fill=\"none\"/>\n",
              "    <path d=\"M18.56 5.44l.94 2.06.94-2.06 2.06-.94-2.06-.94-.94-2.06-.94 2.06-2.06.94zm-11 1L8.5 8.5l.94-2.06 2.06-.94-2.06-.94L8.5 2.5l-.94 2.06-2.06.94zm10 10l.94 2.06.94-2.06 2.06-.94-2.06-.94-.94-2.06-.94 2.06-2.06.94z\"/><path d=\"M17.41 7.96l-1.37-1.37c-.4-.4-.92-.59-1.43-.59-.52 0-1.04.2-1.43.59L10.3 9.45l-7.72 7.72c-.78.78-.78 2.05 0 2.83L4 21.41c.39.39.9.59 1.41.59.51 0 1.02-.2 1.41-.59l7.78-7.78 2.81-2.81c.8-.78.8-2.07 0-2.86zM5.41 20L4 18.59l7.72-7.72 1.47 1.35L5.41 20z\"/>\n",
              "  </svg>\n",
              "      </button>\n",
              "      \n",
              "  <style>\n",
              "    .colab-df-container {\n",
              "      display:flex;\n",
              "      flex-wrap:wrap;\n",
              "      gap: 12px;\n",
              "    }\n",
              "\n",
              "    .colab-df-convert {\n",
              "      background-color: #E8F0FE;\n",
              "      border: none;\n",
              "      border-radius: 50%;\n",
              "      cursor: pointer;\n",
              "      display: none;\n",
              "      fill: #1967D2;\n",
              "      height: 32px;\n",
              "      padding: 0 0 0 0;\n",
              "      width: 32px;\n",
              "    }\n",
              "\n",
              "    .colab-df-convert:hover {\n",
              "      background-color: #E2EBFA;\n",
              "      box-shadow: 0px 1px 2px rgba(60, 64, 67, 0.3), 0px 1px 3px 1px rgba(60, 64, 67, 0.15);\n",
              "      fill: #174EA6;\n",
              "    }\n",
              "\n",
              "    [theme=dark] .colab-df-convert {\n",
              "      background-color: #3B4455;\n",
              "      fill: #D2E3FC;\n",
              "    }\n",
              "\n",
              "    [theme=dark] .colab-df-convert:hover {\n",
              "      background-color: #434B5C;\n",
              "      box-shadow: 0px 1px 3px 1px rgba(0, 0, 0, 0.15);\n",
              "      filter: drop-shadow(0px 1px 2px rgba(0, 0, 0, 0.3));\n",
              "      fill: #FFFFFF;\n",
              "    }\n",
              "  </style>\n",
              "\n",
              "      <script>\n",
              "        const buttonEl =\n",
              "          document.querySelector('#df-56a1b71e-e8ee-4d16-a3e7-222393d2823d button.colab-df-convert');\n",
              "        buttonEl.style.display =\n",
              "          google.colab.kernel.accessAllowed ? 'block' : 'none';\n",
              "\n",
              "        async function convertToInteractive(key) {\n",
              "          const element = document.querySelector('#df-56a1b71e-e8ee-4d16-a3e7-222393d2823d');\n",
              "          const dataTable =\n",
              "            await google.colab.kernel.invokeFunction('convertToInteractive',\n",
              "                                                     [key], {});\n",
              "          if (!dataTable) return;\n",
              "\n",
              "          const docLinkHtml = 'Like what you see? Visit the ' +\n",
              "            '<a target=\"_blank\" href=https://colab.research.google.com/notebooks/data_table.ipynb>data table notebook</a>'\n",
              "            + ' to learn more about interactive tables.';\n",
              "          element.innerHTML = '';\n",
              "          dataTable['output_type'] = 'display_data';\n",
              "          await google.colab.output.renderOutput(dataTable, element);\n",
              "          const docLink = document.createElement('div');\n",
              "          docLink.innerHTML = docLinkHtml;\n",
              "          element.appendChild(docLink);\n",
              "        }\n",
              "      </script>\n",
              "    </div>\n",
              "  </div>\n",
              "  "
            ]
          },
          "metadata": {},
          "execution_count": 4
        }
      ],
      "source": [
        "#Descriptive statistics\n",
        "data.describe()"
      ]
    },
    {
      "cell_type": "code",
      "execution_count": null,
      "metadata": {
        "id": "Y-3Zx6Plo35P",
        "outputId": "9e875388-a8e0-47cd-91a0-ff802b683a7e",
        "colab": {
          "base_uri": "https://localhost:8080/"
        }
      },
      "outputs": [
        {
          "output_type": "stream",
          "name": "stdout",
          "text": [
            "<class 'pandas.core.frame.DataFrame'>\n",
            "DatetimeIndex: 1505 entries, 2015-01-02 to 2020-12-30\n",
            "Data columns (total 6 columns):\n",
            " #   Column     Non-Null Count  Dtype  \n",
            "---  ------     --------------  -----  \n",
            " 0   Open       1505 non-null   float64\n",
            " 1   High       1505 non-null   float64\n",
            " 2   Low        1505 non-null   float64\n",
            " 3   Close      1505 non-null   float64\n",
            " 4   Adj Close  1505 non-null   float64\n",
            " 5   Volume     1505 non-null   int64  \n",
            "dtypes: float64(5), int64(1)\n",
            "memory usage: 82.3 KB\n",
            "Jumlah data hilang: Open         0\n",
            "High         0\n",
            "Low          0\n",
            "Close        0\n",
            "Adj Close    0\n",
            "Volume       0\n",
            "dtype: int64\n"
          ]
        }
      ],
      "source": [
        "# Data Cleaning -> Check the type of variables, check for missing data\n",
        "\n",
        "# Check the type of variables\n",
        "data.info() # -> Type: float, non-null: no null values (data can proceed)\n",
        "\n",
        "missing_value = data.isna().sum()\n",
        "\n",
        "print(f\"Jumlah data hilang: {missing_value}\")"
      ]
    },
    {
      "cell_type": "code",
      "execution_count": null,
      "metadata": {
        "colab": {
          "base_uri": "https://localhost:8080/"
        },
        "id": "VAXi9FolodrT",
        "outputId": "83624ef4-10ee-4409-b0ce-939efd19c209"
      },
      "outputs": [
        {
          "output_type": "execute_result",
          "data": {
            "text/plain": [
              "<bound method NDFrame.head of Date\n",
              "2015-01-02    4120.0\n",
              "2015-01-05    4200.0\n",
              "2015-01-06    4225.0\n",
              "2015-01-07    4200.0\n",
              "2015-01-08    4250.0\n",
              "               ...  \n",
              "2020-12-22    5250.0\n",
              "2020-12-23    5650.0\n",
              "2020-12-28    5650.0\n",
              "2020-12-29    5275.0\n",
              "2020-12-30    5050.0\n",
              "Name: Close, Length: 1505, dtype: float64>"
            ]
          },
          "metadata": {},
          "execution_count": 6
        }
      ],
      "source": [
        "# Select the variable to be analyzed (Close)\n",
        "\n",
        "df = data['Close']\n",
        "df.head\n"
      ]
    },
    {
      "cell_type": "code",
      "execution_count": null,
      "metadata": {
        "id": "7GUhuPe-o9nv",
        "outputId": "ab77dfab-1da1-4c36-dfa7-fba66e6a376f",
        "colab": {
          "base_uri": "https://localhost:8080/"
        }
      },
      "outputs": [
        {
          "output_type": "display_data",
          "data": {
            "text/plain": [
              "<Figure size 1152x720 with 1 Axes>"
            ],
            "image/png": "[encoded data removed]"
          },
          "metadata": {
            "needs_background": "light"
          }
        }
      ],
      "source": [
        "# Visualization\n",
        "\n",
        "plt.figure(figsize = (16,10))\n",
        "plt.plot(df,'-')\n",
        "plt.gcf()\n",
        "plt.title('ISAT 2015-2020', fontsize=20)\n",
        "plt.xlabel('Dates', fontsize=18)\n",
        "plt.ylabel('Close in Rp', fontsize=18)\n",
        "plt.show()"
      ]
    },
    {
      "cell_type": "markdown",
      "metadata": {
        "id": "eAITV3o1pAXE"
      },
      "source": [
        "## DATA PREPOCESSING\n",
        "---"
      ]
    },
    {
      "cell_type": "code",
      "execution_count": null,
      "metadata": {
        "colab": {
          "base_uri": "https://localhost:8080/"
        },
        "id": "dhXrdJX8pU29",
        "outputId": "eb8ae74a-82cf-49a1-ab80-9d494658c435"
      },
      "outputs": [
        {
          "output_type": "stream",
          "name": "stdout",
          "text": [
            "df_train:  (1204,)\n",
            "df_test:  (301,)\n"
          ]
        }
      ],
      "source": [
        "# Splitting data into training and testing\n",
        "split_value = df.shape[0] * 0.8\n",
        "\n",
        "df_train = df[:int(split_value)]\n",
        "df_test = df[int(split_value):]\n",
        "\n",
        "# Check the size of the data\n",
        "# df.shape -> (rows, columns) / (number of data points, number of features/variables)\n",
        "print(\"df_train: \", df_train.shape) # -> df_train: (1204,) -> Number of data points: 1204\n",
        "print(\"df_test: \", df_test.shape)"
      ]
    },
    {
      "cell_type": "code",
      "execution_count": null,
      "metadata": {
        "id": "e87Wr3lep4e_",
        "outputId": "f52b7cb5-d626-4299-eaba-e5db6b9d7e86",
        "colab": {
          "base_uri": "https://localhost:8080/"
        }
      },
      "outputs": [
        {
          "output_type": "execute_result",
          "data": {
            "text/plain": [
              "<bound method NDFrame.head of Date\n",
              "2015-01-02    4120.0\n",
              "2015-01-05    4200.0\n",
              "2015-01-06    4225.0\n",
              "2015-01-07    4200.0\n",
              "2015-01-08    4250.0\n",
              "               ...  \n",
              "2019-09-30    2850.0\n",
              "2019-10-01    2830.0\n",
              "2019-10-02    2670.0\n",
              "2019-10-03    2700.0\n",
              "2019-10-04    2810.0\n",
              "Name: Close, Length: 1204, dtype: float64>"
            ]
          },
          "metadata": {},
          "execution_count": 9
        }
      ],
      "source": [
        "df_train.head"
      ]
    },
    {
      "cell_type": "code",
      "execution_count": null,
      "metadata": {
        "id": "G0BAFFpSo35U",
        "outputId": "46e03c1d-779c-4ed5-e19f-90c28d0e1eac",
        "colab": {
          "base_uri": "https://localhost:8080/"
        }
      },
      "outputs": [
        {
          "output_type": "execute_result",
          "data": {
            "text/plain": [
              "<bound method NDFrame.head of Date\n",
              "2019-10-07    2730.0\n",
              "2019-10-08    2720.0\n",
              "2019-10-09    2710.0\n",
              "2019-10-10    2670.0\n",
              "2019-10-11    2680.0\n",
              "               ...  \n",
              "2020-12-22    5250.0\n",
              "2020-12-23    5650.0\n",
              "2020-12-28    5650.0\n",
              "2020-12-29    5275.0\n",
              "2020-12-30    5050.0\n",
              "Name: Close, Length: 301, dtype: float64>"
            ]
          },
          "metadata": {},
          "execution_count": 10
        }
      ],
      "source": [
        "df_test.head"
      ]
    },
    {
      "cell_type": "code",
      "execution_count": null,
      "metadata": {
        "colab": {
          "base_uri": "https://localhost:8080/"
        },
        "id": "Mm6P82Mzo35U",
        "outputId": "fd700a3b-1c99-4fab-de08-467d15d4b0f8"
      },
      "outputs": [
        {
          "output_type": "stream",
          "name": "stdout",
          "text": [
            "df_test_norm:  (1204,)\n"
          ]
        }
      ],
      "source": [
        "# Normalize data testing\n",
        "\n",
        "scaler = sklearn.preprocessing.MinMaxScaler()\n",
        "df_train_norm = scaler.fit_transform(df_train.values.reshape(-1,1))\n",
        "df_train_norm = df_train_norm.flatten()\n",
        "print(\"df_test_norm: \", df_train_norm.shape)"
      ]
    },
    {
      "cell_type": "code",
      "execution_count": null,
      "metadata": {
        "id": "UH6MBGzRpm8N",
        "outputId": "debf0bc8-2181-4c2e-8b4b-135981b07f46",
        "colab": {
          "base_uri": "https://localhost:8080/"
        }
      },
      "outputs": [
        {
          "output_type": "display_data",
          "data": {
            "text/plain": [
              "<Figure size 432x288 with 1 Axes>"
            ],
            "image/png": "[encoded data removed]"
          },
          "metadata": {
            "needs_background": "light"
          }
        }
      ],
      "source": [
        "# Visualize df_norm train\n",
        "plt.plot(df_train_norm)\n",
        "plt.title('ISAT LSTM Training 2015-2020 - After Normalization')\n",
        "plt.show()"
      ]
    },
    {
      "cell_type": "code",
      "execution_count": null,
      "metadata": {
        "colab": {
          "base_uri": "https://localhost:8080/"
        },
        "id": "jTwRzaMTo35X",
        "outputId": "895bcc87-15a4-4417-c4a0-533fc419ca5c"
      },
      "outputs": [
        {
          "output_type": "stream",
          "name": "stdout",
          "text": [
            "df_test_norm:  (301,)\n"
          ]
        }
      ],
      "source": [
        "# Normalize data testing\n",
        "\n",
        "scaler = sklearn.preprocessing.MinMaxScaler()\n",
        "df_test_norm = scaler.fit_transform(df_test.values.reshape(-1,1))\n",
        "df_test_norm = df_test_norm.flatten()\n",
        "print(\"df_test_norm: \", df_test_norm.shape)"
      ]
    },
    {
      "cell_type": "code",
      "execution_count": null,
      "metadata": {
        "id": "btXnlBaAptVp",
        "outputId": "6569c26e-042f-4c8e-b102-5af58b2b7aa4",
        "colab": {
          "base_uri": "https://localhost:8080/"
        }
      },
      "outputs": [
        {
          "output_type": "display_data",
          "data": {
            "text/plain": [
              "<Figure size 432x288 with 1 Axes>"
            ],
            "image/png": "[encoded data removed]"
          },
          "metadata": {
            "needs_background": "light"
          }
        }
      ],
      "source": [
        "# Visualize df_norm test\n",
        "plt.plot(df_test_norm)\n",
        "plt.title('ISAT LSTM Testing 2015-2020 - After Normalization')\n",
        "plt.show()"
      ]
    },
    {
      "cell_type": "markdown",
      "metadata": {
        "id": "cf8e850c"
      },
      "source": [
        "## Prepare data for training\n",
        "---\n",
        "Note: Since we have already split the dataset into training and testing sets, the coding is slightly different. In the 'load_data' function, there is no step for splitting the data into train and test sets. Instead, the function will be run twice."
      ]
    },
    {
      "cell_type": "code",
      "execution_count": null,
      "metadata": {
        "id": "2fc9e620"
      },
      "outputs": [],
      "source": [
        "# Build function to prepare dataset for training using LSTM\n",
        "\n",
        "# Basic Concept:\n",
        "# In the LSTM model, two variables X and Y are required\n",
        "# \"Y\" is the predicted price value based on several previous prices (previous dates)\n",
        "# \"X\" ais the predictor used to predict the value of \"Y\"\n",
        "# Since the data is in sequence form (where there is no distinct \"X\" and \"Y\"), we need to create data for the X and Y variables\n",
        "\n",
        "# Step 1: Determine the sequence length\n",
        "# For example, if we have data [1, 2, 3, 4, 5, 6, 7, 8, 9, 10] and we set the sequence length = 3,\n",
        "# we will have 3 values for each \"X\"\n",
        "# and 1 value for \"Y\", which is taken from the sequence after the 3rd \"X\" values\n",
        "\n",
        "# X, y\n",
        "# [1,2,3], [4]\n",
        "# [2,3,4], [5]\n",
        "# ...\n",
        "# [7,8,9], [10]\n",
        "\n",
        "# Step 2: Convert list -> matrix(array)\n",
        "# Step 3: Reshape into 3D matrix form (number of rows \"X\" * sequence length * 1)\n",
        "\n",
        "\n",
        "def load_data(data, seq_len):\n",
        "    X = [] # Container for the \"X\" values\n",
        "    y = [] # Container for the \"Y\" values\n",
        "\n",
        "    # Create a loop from sequence length -> data length\n",
        "    for i in range(seq_len, len(data)):\n",
        "        X.append(data[i-seq_len : i])\n",
        "        y.append(data[i])\n",
        "\n",
        "    # convert to numpy array\n",
        "    X = np.array(X)\n",
        "    y = np.array(y)\n",
        "\n",
        "    # reshape data to input into RNN models\n",
        "    X = np.reshape(X, (X.shape[0], seq_len, 1))\n",
        "\n",
        "    return [X, y]"
      ]
    },
    {
      "cell_type": "code",
      "execution_count": null,
      "metadata": {
        "colab": {
          "base_uri": "https://localhost:8080/"
        },
        "id": "z1YCxcBfp_6m",
        "outputId": "6ea372a9-4d0f-41ba-8015-f29e1b9c6134"
      },
      "outputs": [
        {
          "output_type": "stream",
          "name": "stdout",
          "text": [
            "X_train.shape =  (1104, 100, 1)\n",
            "y_train.shape =  (1104,)\n"
          ]
        }
      ],
      "source": [
        "# Sequence length\n",
        "seq_len = 100 # 5 values in the \"X\"\n",
        "\n",
        "# Processed data\n",
        "X_train_norm, y_train_norm = load_data(df_train_norm, seq_len) # For training data (using data that has already been normalized)\n",
        "\n",
        "print('X_train.shape = ',X_train_norm.shape)\n",
        "print('y_train.shape = ', y_train_norm.shape)"
      ]
    },
    {
      "cell_type": "markdown",
      "metadata": {
        "id": "7d7ed63e"
      },
      "source": [
        "## Base Model LSTM\n",
        "---"
      ]
    },
    {
      "cell_type": "markdown",
      "metadata": {
        "id": "0839d885"
      },
      "source": [
        "**Build Model**\n",
        "--\n",
        "Note : This is the part where the 'parameters' can be changed to create a new model"
      ]
    },
    {
      "cell_type": "code",
      "execution_count": null,
      "metadata": {
        "colab": {
          "base_uri": "https://localhost:8080/"
        },
        "id": "7hCYbOe6qMim",
        "outputId": "22cbac46-0070-41dd-94ea-502a2774b445"
      },
      "outputs": [
        {
          "output_type": "stream",
          "name": "stdout",
          "text": [
            "Model: \"LSTM_base\"\n",
            "_________________________________________________________________\n",
            " Layer (type)                Output Shape              Param #   \n",
            "=================================================================\n",
            " HiddenLayer_1 (LSTM)        (None, 100, 100)          40800     \n",
            "                                                                 \n",
            " HiddenLayer_2 (LSTM)        (None, 100, 100)          80400     \n",
            "                                                                 \n",
            " HiddenLayer_3 (LSTM)        (None, 100)               80400     \n",
            "                                                                 \n",
            " OutputLayer (Dense)         (None, 1)                 101       \n",
            "                                                                 \n",
            "=================================================================\n",
            "Total params: 201,701\n",
            "Trainable params: 201,701\n",
            "Non-trainable params: 0\n",
            "_________________________________________________________________\n"
          ]
        }
      ],
      "source": [
        "# Build Model LSTM\n",
        "\n",
        "# Here, we try without using Dropout\n",
        "\n",
        "# Settings for the model\n",
        "\n",
        "name = \"LSTM_base\" # Nama for the model\n",
        "neuron = 100 # Number of neurons in each hidden layer\n",
        "opt = 'adam' # Method for the optimizer\n",
        "loss = 'MSE' # Loss function used\n",
        "\n",
        "#Build Model\n",
        "lstm_model = Sequential(name=name)\n",
        "\n",
        "lstm_model.add(LSTM(neuron,activation=\"tanh\",return_sequences=True, input_shape=(X_train_norm.shape[1],1), name=\"HiddenLayer_1\"))\n",
        "\n",
        "\n",
        "lstm_model.add(LSTM(neuron,activation=\"tanh\",return_sequences=True, name=\"HiddenLayer_2\"))\n",
        "\n",
        "\n",
        "lstm_model.add(LSTM(neuron,activation=\"tanh\",return_sequences=False, name=\"HiddenLayer_3\"))\n",
        "\n",
        "lstm_model.add(Dense(1, name=\"OutputLayer\"))\n",
        "\n",
        "lstm_model.summary()\n",
        "\n",
        "# Model Compile\n",
        "lstm_model.compile(optimizer=opt,loss=loss)"
      ]
    },
    {
      "cell_type": "code",
      "execution_count": null,
      "metadata": {
        "colab": {
          "base_uri": "https://localhost:8080/"
        },
        "id": "HywkM6vVqTNq",
        "outputId": "a5e009ae-d5f1-45d6-b551-c14c8d68d94b"
      },
      "outputs": [
        {
          "output_type": "stream",
          "name": "stdout",
          "text": [
            "Epoch 1/200\n",
            "35/35 [==============================] - 26s 500ms/step - loss: 0.0401\n",
            "Epoch 2/200\n",
            "35/35 [==============================] - 16s 464ms/step - loss: 0.0040\n",
            "Epoch 3/200\n",
            "35/35 [==============================] - 15s 423ms/step - loss: 0.0030\n",
            "Epoch 4/200\n",
            "35/35 [==============================] - 8s 236ms/step - loss: 0.0028\n",
            "Epoch 5/200\n",
            "35/35 [==============================] - 9s 247ms/step - loss: 0.0024\n",
            "Epoch 7/200\n",
            "35/35 [==============================] - 8s 236ms/step - loss: 0.0029\n",
            "Epoch 8/200\n",
            "35/35 [==============================] - 9s 270ms/step - loss: 0.0020\n",
            "Epoch 9/200\n",
            "35/35 [==============================] - 8s 237ms/step - loss: 0.0019\n",
            "Epoch 10/200\n",
            "35/35 [==============================] - 8s 241ms/step - loss: 0.0016\n",
            "Epoch 11/200\n",
            "35/35 [==============================] - 9s 242ms/step - loss: 0.0017\n",
            "Epoch 12/200\n",
            "35/35 [==============================] - 11s 329ms/step - loss: 0.0016\n",
            "Epoch 13/200\n",
            "35/35 [==============================] - 9s 243ms/step - loss: 0.0015\n",
            "Epoch 14/200\n",
            "35/35 [==============================] - 8s 242ms/step - loss: 0.0014\n",
            "Epoch 15/200\n",
            "35/35 [==============================] - 8s 240ms/step - loss: 0.0015\n",
            "Epoch 16/200\n",
            "35/35 [==============================] - 8s 239ms/step - loss: 0.0016\n",
            "Epoch 17/200\n",
            "35/35 [==============================] - 8s 241ms/step - loss: 0.0013\n",
            "Epoch 18/200\n",
            "35/35 [==============================] - 8s 242ms/step - loss: 0.0012\n",
            "Epoch 19/200\n",
            "35/35 [==============================] - 8s 239ms/step - loss: 0.0011\n",
            "Epoch 20/200\n",
            "35/35 [==============================] - 8s 240ms/step - loss: 0.0012\n",
            "Epoch 21/200\n",
            "35/35 [==============================] - 8s 237ms/step - loss: 0.0011\n",
            "Epoch 22/200\n",
            "35/35 [==============================] - 8s 240ms/step - loss: 0.0012\n",
            "Epoch 23/200\n",
            "35/35 [==============================] - 9s 262ms/step - loss: 0.0012\n",
            "Epoch 24/200\n",
            "35/35 [==============================] - 9s 243ms/step - loss: 9.9897e-04\n",
            "Epoch 25/200\n",
            "35/35 [==============================] - 8s 235ms/step - loss: 0.0011\n",
            "Epoch 26/200\n",
            "35/35 [==============================] - 8s 239ms/step - loss: 9.9582e-04\n",
            "Epoch 27/200\n",
            "35/35 [==============================] - 8s 237ms/step - loss: 9.2826e-04\n",
            "Epoch 28/200\n",
            "35/35 [==============================] - 8s 237ms/step - loss: 0.0010\n",
            "Epoch 29/200\n",
            "35/35 [==============================] - 8s 241ms/step - loss: 9.5872e-04\n",
            "Epoch 30/200\n",
            "35/35 [==============================] - 9s 245ms/step - loss: 9.4909e-04\n",
            "Epoch 31/200\n",
            "35/35 [==============================] - 9s 246ms/step - loss: 8.6507e-04\n",
            "Epoch 32/200\n",
            "35/35 [==============================] - 9s 244ms/step - loss: 8.7803e-04\n",
            "Epoch 33/200\n",
            "35/35 [==============================] - 8s 236ms/step - loss: 7.8028e-04\n",
            "Epoch 34/200\n",
            "35/35 [==============================] - 8s 242ms/step - loss: 8.0813e-04\n",
            "Epoch 35/200\n",
            "35/35 [==============================] - 9s 244ms/step - loss: 7.8840e-04\n",
            "Epoch 36/200\n",
            "35/35 [==============================] - 8s 234ms/step - loss: 7.6119e-04\n",
            "Epoch 37/200\n",
            "35/35 [==============================] - 8s 237ms/step - loss: 6.3965e-04\n",
            "Epoch 38/200\n",
            "35/35 [==============================] - 8s 240ms/step - loss: 6.1462e-04\n",
            "Epoch 39/200\n",
            "35/35 [==============================] - 8s 241ms/step - loss: 7.1338e-04\n",
            "Epoch 40/200\n",
            "35/35 [==============================] - 9s 246ms/step - loss: 6.0564e-04\n",
            "Epoch 41/200\n",
            "35/35 [==============================] - 8s 238ms/step - loss: 6.2485e-04\n",
            "Epoch 42/200\n",
            "35/35 [==============================] - 8s 240ms/step - loss: 6.0310e-04\n",
            "Epoch 43/200\n",
            "35/35 [==============================] - 8s 235ms/step - loss: 5.6183e-04\n",
            "Epoch 44/200\n",
            "35/35 [==============================] - 8s 234ms/step - loss: 5.0213e-04\n",
            "Epoch 45/200\n",
            "35/35 [==============================] - 8s 235ms/step - loss: 5.2573e-04\n",
            "Epoch 46/200\n",
            "35/35 [==============================] - 8s 235ms/step - loss: 4.8668e-04\n",
            "Epoch 47/200\n",
            "35/35 [==============================] - 8s 238ms/step - loss: 4.9770e-04\n",
            "Epoch 48/200\n",
            "35/35 [==============================] - 9s 243ms/step - loss: 4.5395e-04\n",
            "Epoch 49/200\n",
            "35/35 [==============================] - 8s 233ms/step - loss: 4.8397e-04\n",
            "Epoch 50/200\n",
            "35/35 [==============================] - 8s 232ms/step - loss: 4.5112e-04\n",
            "Epoch 51/200\n",
            "35/35 [==============================] - 8s 234ms/step - loss: 6.3029e-04\n",
            "Epoch 52/200\n",
            "35/35 [==============================] - 8s 235ms/step - loss: 5.0252e-04\n",
            "Epoch 53/200\n",
            "35/35 [==============================] - 8s 238ms/step - loss: 4.2387e-04\n",
            "Epoch 54/200\n",
            "35/35 [==============================] - 8s 236ms/step - loss: 4.7641e-04\n",
            "Epoch 55/200\n",
            "35/35 [==============================] - 8s 234ms/step - loss: 4.4292e-04\n",
            "Epoch 56/200\n",
            "35/35 [==============================] - 8s 234ms/step - loss: 4.2761e-04\n",
            "Epoch 57/200\n",
            "35/35 [==============================] - 8s 233ms/step - loss: 5.4884e-04\n",
            "Epoch 58/200\n",
            "35/35 [==============================] - 8s 233ms/step - loss: 4.3241e-04\n",
            "Epoch 59/200\n",
            "35/35 [==============================] - 8s 232ms/step - loss: 4.2930e-04\n",
            "Epoch 60/200\n",
            "35/35 [==============================] - 8s 234ms/step - loss: 3.9281e-04\n",
            "Epoch 61/200\n",
            "35/35 [==============================] - 8s 233ms/step - loss: 4.8547e-04\n",
            "Epoch 62/200\n",
            "35/35 [==============================] - 8s 231ms/step - loss: 4.5977e-04\n",
            "Epoch 63/200\n",
            "35/35 [==============================] - 8s 234ms/step - loss: 4.8542e-04\n",
            "Epoch 64/200\n",
            "35/35 [==============================] - 8s 234ms/step - loss: 4.3496e-04\n",
            "Epoch 65/200\n",
            "35/35 [==============================] - 8s 233ms/step - loss: 4.1755e-04\n",
            "Epoch 66/200\n",
            "35/35 [==============================] - 8s 234ms/step - loss: 4.0813e-04\n",
            "Epoch 67/200\n",
            "35/35 [==============================] - 8s 233ms/step - loss: 3.9828e-04\n",
            "Epoch 68/200\n",
            "35/35 [==============================] - 8s 234ms/step - loss: 4.1649e-04\n",
            "Epoch 69/200\n",
            "35/35 [==============================] - 8s 232ms/step - loss: 4.1236e-04\n",
            "Epoch 70/200\n",
            "35/35 [==============================] - 8s 232ms/step - loss: 3.8651e-04\n",
            "Epoch 71/200\n",
            "35/35 [==============================] - 8s 233ms/step - loss: 4.7637e-04\n",
            "Epoch 72/200\n",
            "35/35 [==============================] - 8s 231ms/step - loss: 3.9366e-04\n",
            "Epoch 73/200\n",
            "35/35 [==============================] - 8s 233ms/step - loss: 3.6580e-04\n",
            "Epoch 74/200\n",
            "35/35 [==============================] - 8s 235ms/step - loss: 4.0125e-04\n",
            "Epoch 75/200\n",
            "35/35 [==============================] - 8s 234ms/step - loss: 4.1049e-04\n",
            "Epoch 76/200\n",
            "35/35 [==============================] - 8s 233ms/step - loss: 5.4948e-04\n",
            "Epoch 77/200\n",
            "35/35 [==============================] - 8s 231ms/step - loss: 3.9033e-04\n",
            "Epoch 78/200\n",
            "35/35 [==============================] - 8s 232ms/step - loss: 4.1782e-04\n",
            "Epoch 79/200\n",
            "35/35 [==============================] - 8s 232ms/step - loss: 3.9635e-04\n",
            "Epoch 80/200\n",
            "35/35 [==============================] - 8s 235ms/step - loss: 4.5665e-04\n",
            "Epoch 81/200\n",
            "35/35 [==============================] - 8s 236ms/step - loss: 3.8328e-04\n",
            "Epoch 82/200\n",
            "35/35 [==============================] - 8s 235ms/step - loss: 4.5098e-04\n",
            "Epoch 83/200\n",
            "35/35 [==============================] - 8s 239ms/step - loss: 4.2737e-04\n",
            "Epoch 84/200\n",
            "35/35 [==============================] - 8s 240ms/step - loss: 4.0704e-04\n",
            "Epoch 85/200\n",
            "35/35 [==============================] - 8s 241ms/step - loss: 4.2631e-04\n",
            "Epoch 86/200\n",
            "35/35 [==============================] - 8s 235ms/step - loss: 4.4676e-04\n",
            "Epoch 87/200\n",
            "35/35 [==============================] - 8s 233ms/step - loss: 4.5629e-04\n",
            "Epoch 88/200\n",
            "35/35 [==============================] - 8s 233ms/step - loss: 5.3992e-04\n",
            "Epoch 89/200\n",
            "35/35 [==============================] - 8s 232ms/step - loss: 4.4830e-04\n",
            "Epoch 90/200\n",
            "35/35 [==============================] - 8s 233ms/step - loss: 4.2668e-04\n",
            "Epoch 91/200\n",
            "35/35 [==============================] - 8s 233ms/step - loss: 5.4813e-04\n",
            "Epoch 92/200\n",
            "35/35 [==============================] - 8s 234ms/step - loss: 3.9805e-04\n",
            "Epoch 93/200\n",
            "35/35 [==============================] - 8s 232ms/step - loss: 3.7605e-04\n",
            "Epoch 94/200\n",
            "35/35 [==============================] - 8s 234ms/step - loss: 4.3230e-04\n",
            "Epoch 95/200\n",
            "35/35 [==============================] - 8s 233ms/step - loss: 3.8707e-04\n",
            "Epoch 96/200\n",
            "35/35 [==============================] - 8s 233ms/step - loss: 3.6401e-04\n",
            "Epoch 97/200\n",
            "35/35 [==============================] - 8s 233ms/step - loss: 4.1832e-04\n",
            "Epoch 98/200\n",
            "35/35 [==============================] - 8s 234ms/step - loss: 3.8799e-04\n",
            "Epoch 99/200\n",
            "35/35 [==============================] - 8s 233ms/step - loss: 4.0714e-04\n",
            "Epoch 100/200\n",
            "35/35 [==============================] - 8s 231ms/step - loss: 3.9913e-04\n",
            "Epoch 101/200\n",
            "35/35 [==============================] - 8s 232ms/step - loss: 4.0446e-04\n",
            "Epoch 102/200\n",
            "35/35 [==============================] - 8s 231ms/step - loss: 3.8897e-04\n",
            "Epoch 103/200\n",
            "35/35 [==============================] - 8s 233ms/step - loss: 3.8940e-04\n",
            "Epoch 104/200\n",
            "35/35 [==============================] - 8s 234ms/step - loss: 4.5989e-04\n",
            "Epoch 105/200\n",
            "35/35 [==============================] - 8s 234ms/step - loss: 3.9637e-04\n",
            "Epoch 106/200\n",
            "35/35 [==============================] - 8s 232ms/step - loss: 4.4103e-04\n",
            "Epoch 107/200\n",
            "35/35 [==============================] - 8s 234ms/step - loss: 4.8022e-04\n",
            "Epoch 108/200\n",
            "35/35 [==============================] - 8s 233ms/step - loss: 4.2300e-04\n",
            "Epoch 109/200\n",
            "35/35 [==============================] - 8s 231ms/step - loss: 4.4038e-04\n",
            "Epoch 110/200\n",
            "35/35 [==============================] - 8s 234ms/step - loss: 3.7781e-04\n",
            "Epoch 111/200\n",
            "35/35 [==============================] - 8s 235ms/step - loss: 4.1180e-04\n",
            "Epoch 112/200\n",
            "35/35 [==============================] - 8s 239ms/step - loss: 5.4885e-04\n",
            "Epoch 113/200\n",
            "35/35 [==============================] - 8s 237ms/step - loss: 4.0531e-04\n",
            "Epoch 114/200\n",
            "35/35 [==============================] - 8s 232ms/step - loss: 4.0124e-04\n",
            "Epoch 115/200\n",
            "35/35 [==============================] - 9s 247ms/step - loss: 3.5336e-04\n",
            "Epoch 116/200\n",
            "35/35 [==============================] - 9s 244ms/step - loss: 4.5550e-04\n",
            "Epoch 117/200\n",
            "35/35 [==============================] - 8s 236ms/step - loss: 3.8631e-04\n",
            "Epoch 118/200\n",
            "35/35 [==============================] - 8s 240ms/step - loss: 3.8763e-04\n",
            "Epoch 119/200\n",
            "35/35 [==============================] - 8s 237ms/step - loss: 3.9152e-04\n",
            "Epoch 120/200\n",
            "35/35 [==============================] - 8s 239ms/step - loss: 3.6015e-04\n",
            "Epoch 121/200\n",
            "35/35 [==============================] - 8s 237ms/step - loss: 3.7049e-04\n",
            "Epoch 122/200\n",
            "35/35 [==============================] - 8s 236ms/step - loss: 3.9992e-04\n",
            "Epoch 123/200\n",
            "35/35 [==============================] - 8s 238ms/step - loss: 3.5341e-04\n",
            "Epoch 124/200\n",
            "35/35 [==============================] - 8s 237ms/step - loss: 3.6098e-04\n",
            "Epoch 125/200\n",
            "35/35 [==============================] - 8s 234ms/step - loss: 4.8220e-04\n",
            "Epoch 126/200\n",
            "35/35 [==============================] - 8s 236ms/step - loss: 3.5855e-04\n",
            "Epoch 127/200\n",
            "35/35 [==============================] - 8s 233ms/step - loss: 3.9848e-04\n",
            "Epoch 128/200\n",
            "35/35 [==============================] - 8s 236ms/step - loss: 4.0651e-04\n",
            "Epoch 129/200\n",
            "35/35 [==============================] - 8s 236ms/step - loss: 5.5756e-04\n",
            "Epoch 130/200\n",
            "35/35 [==============================] - 8s 239ms/step - loss: 4.5052e-04\n",
            "Epoch 131/200\n",
            "35/35 [==============================] - 9s 247ms/step - loss: 4.5324e-04\n",
            "Epoch 132/200\n",
            "35/35 [==============================] - 9s 254ms/step - loss: 3.6762e-04\n",
            "Epoch 133/200\n",
            "35/35 [==============================] - 9s 253ms/step - loss: 3.5629e-04\n",
            "Epoch 134/200\n",
            "35/35 [==============================] - 9s 251ms/step - loss: 3.8109e-04\n",
            "Epoch 135/200\n",
            "35/35 [==============================] - 9s 259ms/step - loss: 3.7969e-04\n",
            "Epoch 136/200\n",
            "35/35 [==============================] - 9s 258ms/step - loss: 3.9104e-04\n",
            "Epoch 137/200\n",
            "35/35 [==============================] - 9s 252ms/step - loss: 4.0336e-04\n",
            "Epoch 138/200\n",
            "35/35 [==============================] - 9s 254ms/step - loss: 4.1314e-04\n",
            "Epoch 139/200\n",
            "35/35 [==============================] - 9s 254ms/step - loss: 3.9070e-04\n",
            "Epoch 140/200\n",
            "35/35 [==============================] - 9s 256ms/step - loss: 4.3507e-04\n",
            "Epoch 141/200\n",
            "35/35 [==============================] - 9s 251ms/step - loss: 3.6621e-04\n",
            "Epoch 142/200\n",
            "35/35 [==============================] - 9s 249ms/step - loss: 3.5493e-04\n",
            "Epoch 143/200\n",
            "35/35 [==============================] - 9s 257ms/step - loss: 3.7729e-04\n",
            "Epoch 144/200\n",
            "35/35 [==============================] - 9s 258ms/step - loss: 3.8996e-04\n",
            "Epoch 145/200\n",
            "35/35 [==============================] - 9s 265ms/step - loss: 4.7740e-04\n",
            "Epoch 146/200\n",
            "35/35 [==============================] - 10s 276ms/step - loss: 4.5705e-04\n",
            "Epoch 147/200\n",
            "35/35 [==============================] - 9s 265ms/step - loss: 3.9196e-04\n",
            "Epoch 148/200\n",
            "35/35 [==============================] - 9s 256ms/step - loss: 3.6734e-04\n",
            "Epoch 149/200\n",
            "35/35 [==============================] - 8s 239ms/step - loss: 4.1001e-04\n",
            "Epoch 150/200\n",
            "35/35 [==============================] - 9s 246ms/step - loss: 3.6204e-04\n",
            "Epoch 151/200\n",
            "35/35 [==============================] - 8s 237ms/step - loss: 3.8278e-04\n",
            "Epoch 152/200\n",
            "35/35 [==============================] - 8s 240ms/step - loss: 4.3257e-04\n",
            "Epoch 153/200\n",
            "35/35 [==============================] - 9s 247ms/step - loss: 3.9535e-04\n",
            "Epoch 154/200\n",
            "35/35 [==============================] - 9s 243ms/step - loss: 3.7427e-04\n",
            "Epoch 155/200\n",
            "35/35 [==============================] - 9s 244ms/step - loss: 3.7710e-04\n",
            "Epoch 156/200\n",
            "35/35 [==============================] - 9s 246ms/step - loss: 4.1175e-04\n",
            "Epoch 157/200\n",
            "35/35 [==============================] - 9s 251ms/step - loss: 4.2081e-04\n",
            "Epoch 158/200\n",
            "35/35 [==============================] - 9s 245ms/step - loss: 4.0353e-04\n",
            "Epoch 159/200\n",
            "35/35 [==============================] - 9s 248ms/step - loss: 3.8954e-04\n",
            "Epoch 160/200\n",
            "35/35 [==============================] - 9s 252ms/step - loss: 3.8462e-04\n",
            "Epoch 161/200\n",
            "35/35 [==============================] - 9s 242ms/step - loss: 3.6477e-04\n",
            "Epoch 162/200\n",
            "35/35 [==============================] - 8s 240ms/step - loss: 3.6160e-04\n",
            "Epoch 163/200\n",
            "35/35 [==============================] - 8s 235ms/step - loss: 3.6816e-04\n",
            "Epoch 164/200\n",
            "35/35 [==============================] - 8s 231ms/step - loss: 3.6179e-04\n",
            "Epoch 165/200\n",
            "35/35 [==============================] - 8s 234ms/step - loss: 3.8211e-04\n",
            "Epoch 166/200\n",
            "35/35 [==============================] - 8s 234ms/step - loss: 4.1231e-04\n",
            "Epoch 167/200\n",
            "35/35 [==============================] - 8s 232ms/step - loss: 3.7590e-04\n",
            "Epoch 168/200\n",
            "35/35 [==============================] - 8s 229ms/step - loss: 4.5255e-04\n",
            "Epoch 169/200\n",
            "35/35 [==============================] - 8s 232ms/step - loss: 3.6180e-04\n",
            "Epoch 170/200\n",
            "35/35 [==============================] - 8s 230ms/step - loss: 3.9430e-04\n",
            "Epoch 171/200\n",
            "35/35 [==============================] - 8s 232ms/step - loss: 3.9592e-04\n",
            "Epoch 172/200\n",
            "35/35 [==============================] - 8s 235ms/step - loss: 4.0587e-04\n",
            "Epoch 173/200\n",
            "35/35 [==============================] - 9s 247ms/step - loss: 3.9749e-04\n",
            "Epoch 174/200\n",
            "35/35 [==============================] - 8s 240ms/step - loss: 5.0016e-04\n",
            "Epoch 175/200\n",
            "35/35 [==============================] - 8s 230ms/step - loss: 3.5587e-04\n",
            "Epoch 176/200\n",
            "35/35 [==============================] - 8s 229ms/step - loss: 3.6190e-04\n",
            "Epoch 177/200\n",
            "35/35 [==============================] - 8s 229ms/step - loss: 3.5106e-04\n",
            "Epoch 178/200\n",
            "35/35 [==============================] - 8s 230ms/step - loss: 3.5243e-04\n",
            "Epoch 179/200\n",
            "35/35 [==============================] - 8s 232ms/step - loss: 3.7769e-04\n",
            "Epoch 180/200\n",
            "35/35 [==============================] - 8s 229ms/step - loss: 3.7109e-04\n",
            "Epoch 181/200\n",
            "35/35 [==============================] - 8s 230ms/step - loss: 3.7218e-04\n",
            "Epoch 182/200\n",
            "35/35 [==============================] - 8s 233ms/step - loss: 3.6999e-04\n",
            "Epoch 183/200\n",
            "35/35 [==============================] - 8s 232ms/step - loss: 3.5640e-04\n",
            "Epoch 184/200\n",
            "35/35 [==============================] - 8s 237ms/step - loss: 3.6629e-04\n",
            "Epoch 185/200\n",
            "35/35 [==============================] - 8s 234ms/step - loss: 3.5739e-04\n",
            "Epoch 186/200\n",
            "35/35 [==============================] - 9s 245ms/step - loss: 3.6027e-04\n",
            "Epoch 187/200\n",
            "35/35 [==============================] - 8s 232ms/step - loss: 4.2793e-04\n",
            "Epoch 188/200\n",
            "35/35 [==============================] - 8s 233ms/step - loss: 3.6012e-04\n",
            "Epoch 189/200\n",
            "35/35 [==============================] - 8s 237ms/step - loss: 3.9219e-04\n",
            "Epoch 190/200\n",
            "35/35 [==============================] - 8s 240ms/step - loss: 4.3644e-04\n",
            "Epoch 191/200\n",
            "35/35 [==============================] - 8s 238ms/step - loss: 3.9994e-04\n",
            "Epoch 192/200\n",
            "35/35 [==============================] - 8s 233ms/step - loss: 3.7146e-04\n",
            "Epoch 193/200\n",
            "35/35 [==============================] - 8s 234ms/step - loss: 3.7042e-04\n",
            "Epoch 194/200\n",
            "35/35 [==============================] - 8s 234ms/step - loss: 3.7091e-04\n",
            "Epoch 195/200\n",
            "35/35 [==============================] - 8s 228ms/step - loss: 3.5597e-04\n",
            "Epoch 196/200\n",
            "35/35 [==============================] - 8s 234ms/step - loss: 3.7016e-04\n",
            "Epoch 197/200\n",
            "35/35 [==============================] - 8s 236ms/step - loss: 3.6202e-04\n",
            "Epoch 198/200\n",
            "35/35 [==============================] - 8s 233ms/step - loss: 4.0874e-04\n",
            "Epoch 199/200\n",
            "35/35 [==============================] - 8s 230ms/step - loss: 3.6734e-04\n",
            "Epoch 200/200\n",
            "35/35 [==============================] - 8s 230ms/step - loss: 3.9224e-04\n"
          ]
        }
      ],
      "source": [
        "# Settings for training\n",
        "epochs = 200 # epoch\n",
        "bz = 32 # bath_size\n",
        "\n",
        "# Training model\n",
        "history = lstm_model.fit(X_train_norm, y_train_norm, epochs=epochs, batch_size=bz)"
      ]
    },
    {
      "cell_type": "markdown",
      "metadata": {
        "id": "fc1ae431"
      },
      "source": [
        "Evaluation\n",
        "--"
      ]
    },
    {
      "cell_type": "code",
      "execution_count": null,
      "metadata": {
        "colab": {
          "base_uri": "https://localhost:8080/"
        },
        "id": "OxfQ-ENsqnrz",
        "outputId": "71eb014e-e9dc-4a6e-9285-789307dbe7e4"
      },
      "outputs": [
        {
          "output_type": "display_data",
          "data": {
            "text/plain": [
              "<Figure size 1080x576 with 1 Axes>"
            ],
            "image/png": "[encoded data removed]"
          },
          "metadata": {
            "needs_background": "light"
          }
        }
      ],
      "source": [
        "plt.figure(figsize=(15,8))\n",
        "\n",
        "plt.plot(history.history['loss'], c=\"orange\", linewidth=3, label=\"Mean Squared Error\")\n",
        "plt.legend()\n",
        "plt.title(\"ISAT Training Loss Value\", fontsize=20)\n",
        "plt.show()"
      ]
    },
    {
      "cell_type": "markdown",
      "metadata": {
        "id": "a1ddc1b2"
      },
      "source": [
        "## Prediction\n",
        "---"
      ]
    },
    {
      "cell_type": "code",
      "execution_count": null,
      "metadata": {
        "id": "2b7e8dec"
      },
      "outputs": [],
      "source": [
        "# Load data and create \"X\" and \"y\" from data testing\n",
        "\n",
        "seq_len = 100\n",
        "\n",
        "# Normalized data -> to be input into the model\n",
        "X_train_norm, y_train_norm = load_data(df_train_norm, seq_len)\n",
        "X_test_norm, y_test_norm = load_data(df_test_norm, seq_len)\n",
        "\n",
        "# Original unnormalized data -> for evaluation\n",
        "X_train, y_train = load_data(df_train, seq_len)\n",
        "X_test, y_test = load_data(df_test, seq_len)"
      ]
    },
    {
      "cell_type": "code",
      "execution_count": null,
      "metadata": {
        "id": "2af946e5"
      },
      "outputs": [],
      "source": [
        "# Prediction LSTM\n",
        "lstm_predictions_training = lstm_model.predict(X_train_norm)\n",
        "lstm_predictions_testing = lstm_model.predict(X_test_norm)\n",
        "\n",
        "# Denormaization\n",
        "lstm_denormalization_train = scaler.inverse_transform(lstm_predictions_training)\n",
        "lstm_denormalization_test = scaler.inverse_transform(lstm_predictions_testing)"
      ]
    },
    {
      "cell_type": "code",
      "execution_count": null,
      "metadata": {
        "id": "ybm0PcIao35e"
      },
      "outputs": [],
      "source": [
        "train =  y_train\n",
        "test =  y_test\n",
        "\n",
        "predict_train = lstm_denormalization_train\n",
        "predict_test = lstm_denormalization_test\n",
        "\n",
        "predict_lstm_train_ISA14_1 = predict_train\n",
        "predict_lstm_test_ISA14_1 = predict_test"
      ]
    },
    {
      "cell_type": "code",
      "execution_count": null,
      "metadata": {
        "id": "STDpps0zo35e",
        "outputId": "8b890e81-4e5d-4534-acf4-e47ff3cb37c4",
        "colab": {
          "base_uri": "https://localhost:8080/",
          "height": 455
        }
      },
      "outputs": [
        {
          "output_type": "execute_result",
          "data": {
            "text/plain": [
              "             Close  ISAT Predictions LSTM Training\n",
              "Date                                              \n",
              "2015-05-28  3630.0                     2797.197754\n",
              "2015-05-29  3740.0                     2717.749268\n",
              "2015-06-01  3725.0                     2797.823242\n",
              "2015-06-03  3610.0                     2790.233643\n",
              "2015-06-04  3610.0                     2699.602295\n",
              "...            ...                             ...\n",
              "2019-09-30  2850.0                     2212.348633\n",
              "2019-10-01  2830.0                     2114.452393\n",
              "2019-10-02  2670.0                     2089.007812\n",
              "2019-10-03  2700.0                     1976.129883\n",
              "2019-10-04  2810.0                     1984.881226\n",
              "\n",
              "[1104 rows x 2 columns]"
            ],
            "text/html": [
              "\n",
              "  <div id=\"df-a39c3827-8c13-41a9-ab61-6181efbd803d\">\n",
              "    <div class=\"colab-df-container\">\n",
              "      <div>\n",
              "<style scoped>\n",
              "    .dataframe tbody tr th:only-of-type {\n",
              "        vertical-align: middle;\n",
              "    }\n",
              "\n",
              "    .dataframe tbody tr th {\n",
              "        vertical-align: top;\n",
              "    }\n",
              "\n",
              "    .dataframe thead th {\n",
              "        text-align: right;\n",
              "    }\n",
              "</style>\n",
              "<table border=\"1\" class=\"dataframe\">\n",
              "  <thead>\n",
              "    <tr style=\"text-align: right;\">\n",
              "      <th></th>\n",
              "      <th>Close</th>\n",
              "      <th>ISAT Predictions LSTM Training</th>\n",
              "    </tr>\n",
              "    <tr>\n",
              "      <th>Date</th>\n",
              "      <th></th>\n",
              "      <th></th>\n",
              "    </tr>\n",
              "  </thead>\n",
              "  <tbody>\n",
              "    <tr>\n",
              "      <th>2015-05-28</th>\n",
              "      <td>3630.0</td>\n",
              "      <td>2797.197754</td>\n",
              "    </tr>\n",
              "    <tr>\n",
              "      <th>2015-05-29</th>\n",
              "      <td>3740.0</td>\n",
              "      <td>2717.749268</td>\n",
              "    </tr>\n",
              "    <tr>\n",
              "      <th>2015-06-01</th>\n",
              "      <td>3725.0</td>\n",
              "      <td>2797.823242</td>\n",
              "    </tr>\n",
              "    <tr>\n",
              "      <th>2015-06-03</th>\n",
              "      <td>3610.0</td>\n",
              "      <td>2790.233643</td>\n",
              "    </tr>\n",
              "    <tr>\n",
              "      <th>2015-06-04</th>\n",
              "      <td>3610.0</td>\n",
              "      <td>2699.602295</td>\n",
              "    </tr>\n",
              "    <tr>\n",
              "      <th>...</th>\n",
              "      <td>...</td>\n",
              "      <td>...</td>\n",
              "    </tr>\n",
              "    <tr>\n",
              "      <th>2019-09-30</th>\n",
              "      <td>2850.0</td>\n",
              "      <td>2212.348633</td>\n",
              "    </tr>\n",
              "    <tr>\n",
              "      <th>2019-10-01</th>\n",
              "      <td>2830.0</td>\n",
              "      <td>2114.452393</td>\n",
              "    </tr>\n",
              "    <tr>\n",
              "      <th>2019-10-02</th>\n",
              "      <td>2670.0</td>\n",
              "      <td>2089.007812</td>\n",
              "    </tr>\n",
              "    <tr>\n",
              "      <th>2019-10-03</th>\n",
              "      <td>2700.0</td>\n",
              "      <td>1976.129883</td>\n",
              "    </tr>\n",
              "    <tr>\n",
              "      <th>2019-10-04</th>\n",
              "      <td>2810.0</td>\n",
              "      <td>1984.881226</td>\n",
              "    </tr>\n",
              "  </tbody>\n",
              "</table>\n",
              "<p>1104 rows × 2 columns</p>\n",
              "</div>\n",
              "      <button class=\"colab-df-convert\" onclick=\"convertToInteractive('df-a39c3827-8c13-41a9-ab61-6181efbd803d')\"\n",
              "              title=\"Convert this dataframe to an interactive table.\"\n",
              "              style=\"display:none;\">\n",
              "        \n",
              "  <svg xmlns=\"http://www.w3.org/2000/svg\" height=\"24px\"viewBox=\"0 0 24 24\"\n",
              "       width=\"24px\">\n",
              "    <path d=\"M0 0h24v24H0V0z\" fill=\"none\"/>\n",
              "    <path d=\"M18.56 5.44l.94 2.06.94-2.06 2.06-.94-2.06-.94-.94-2.06-.94 2.06-2.06.94zm-11 1L8.5 8.5l.94-2.06 2.06-.94-2.06-.94L8.5 2.5l-.94 2.06-2.06.94zm10 10l.94 2.06.94-2.06 2.06-.94-2.06-.94-.94-2.06-.94 2.06-2.06.94z\"/><path d=\"M17.41 7.96l-1.37-1.37c-.4-.4-.92-.59-1.43-.59-.52 0-1.04.2-1.43.59L10.3 9.45l-7.72 7.72c-.78.78-.78 2.05 0 2.83L4 21.41c.39.39.9.59 1.41.59.51 0 1.02-.2 1.41-.59l7.78-7.78 2.81-2.81c.8-.78.8-2.07 0-2.86zM5.41 20L4 18.59l7.72-7.72 1.47 1.35L5.41 20z\"/>\n",
              "  </svg>\n",
              "      </button>\n",
              "      \n",
              "  <style>\n",
              "    .colab-df-container {\n",
              "      display:flex;\n",
              "      flex-wrap:wrap;\n",
              "      gap: 12px;\n",
              "    }\n",
              "\n",
              "    .colab-df-convert {\n",
              "      background-color: #E8F0FE;\n",
              "      border: none;\n",
              "      border-radius: 50%;\n",
              "      cursor: pointer;\n",
              "      display: none;\n",
              "      fill: #1967D2;\n",
              "      height: 32px;\n",
              "      padding: 0 0 0 0;\n",
              "      width: 32px;\n",
              "    }\n",
              "\n",
              "    .colab-df-convert:hover {\n",
              "      background-color: #E2EBFA;\n",
              "      box-shadow: 0px 1px 2px rgba(60, 64, 67, 0.3), 0px 1px 3px 1px rgba(60, 64, 67, 0.15);\n",
              "      fill: #174EA6;\n",
              "    }\n",
              "\n",
              "    [theme=dark] .colab-df-convert {\n",
              "      background-color: #3B4455;\n",
              "      fill: #D2E3FC;\n",
              "    }\n",
              "\n",
              "    [theme=dark] .colab-df-convert:hover {\n",
              "      background-color: #434B5C;\n",
              "      box-shadow: 0px 1px 3px 1px rgba(0, 0, 0, 0.15);\n",
              "      filter: drop-shadow(0px 1px 2px rgba(0, 0, 0, 0.3));\n",
              "      fill: #FFFFFF;\n",
              "    }\n",
              "  </style>\n",
              "\n",
              "      <script>\n",
              "        const buttonEl =\n",
              "          document.querySelector('#df-a39c3827-8c13-41a9-ab61-6181efbd803d button.colab-df-convert');\n",
              "        buttonEl.style.display =\n",
              "          google.colab.kernel.accessAllowed ? 'block' : 'none';\n",
              "\n",
              "        async function convertToInteractive(key) {\n",
              "          const element = document.querySelector('#df-a39c3827-8c13-41a9-ab61-6181efbd803d');\n",
              "          const dataTable =\n",
              "            await google.colab.kernel.invokeFunction('convertToInteractive',\n",
              "                                                     [key], {});\n",
              "          if (!dataTable) return;\n",
              "\n",
              "          const docLinkHtml = 'Like what you see? Visit the ' +\n",
              "            '<a target=\"_blank\" href=https://colab.research.google.com/notebooks/data_table.ipynb>data table notebook</a>'\n",
              "            + ' to learn more about interactive tables.';\n",
              "          element.innerHTML = '';\n",
              "          dataTable['output_type'] = 'display_data';\n",
              "          await google.colab.output.renderOutput(dataTable, element);\n",
              "          const docLink = document.createElement('div');\n",
              "          docLink.innerHTML = docLinkHtml;\n",
              "          element.appendChild(docLink);\n",
              "        }\n",
              "      </script>\n",
              "    </div>\n",
              "  </div>\n",
              "  "
            ]
          },
          "metadata": {},
          "execution_count": 27
        }
      ],
      "source": [
        "#predict data training lstm\n",
        "\n",
        "data_train_lstm = df_train[100:1204]\n",
        "data_train_lstm = pd.DataFrame({'Date':data_train_lstm.index, 'Close':data_train_lstm.values})\n",
        "predict_lstm_train_ISA14_2 = pd.DataFrame(predict_lstm_train_ISA14_1, columns=['ISAT Predictions LSTM Training'])\n",
        "predict_lstm_train_ISA14_3 = data_train_lstm.join(predict_lstm_train_ISA14_2)\n",
        "predict_lstm_train_ISA14_3 = predict_lstm_train_ISA14_3.set_index('Date')\n",
        "predict_lstm_train_ISA14_3"
      ]
    },
    {
      "cell_type": "code",
      "execution_count": null,
      "metadata": {
        "id": "OFeMsuszo35e",
        "outputId": "084b4d5d-a302-43a1-8624-44d19f461462",
        "colab": {
          "base_uri": "https://localhost:8080/",
          "height": 455
        }
      },
      "outputs": [
        {
          "output_type": "execute_result",
          "data": {
            "text/plain": [
              "             Close  ISAT Predictions LSTM Testing\n",
              "Date                                             \n",
              "2020-02-28  2040.0                    2055.183350\n",
              "2020-03-02  2090.0                    2038.571533\n",
              "2020-03-03  2160.0                    2086.620117\n",
              "2020-03-04  2260.0                    2159.562256\n",
              "2020-03-05  2240.0                    2261.426758\n",
              "...            ...                            ...\n",
              "2020-12-22  5250.0                    5686.106445\n",
              "2020-12-23  5650.0                    5133.603027\n",
              "2020-12-28  5650.0                    5744.799316\n",
              "2020-12-29  5275.0                    5639.459473\n",
              "2020-12-30  5050.0                    5258.678711\n",
              "\n",
              "[201 rows x 2 columns]"
            ],
            "text/html": [
              "\n",
              "  <div id=\"df-784ce9d5-6f8e-4c9c-b547-f38744a5ad23\">\n",
              "    <div class=\"colab-df-container\">\n",
              "      <div>\n",
              "<style scoped>\n",
              "    .dataframe tbody tr th:only-of-type {\n",
              "        vertical-align: middle;\n",
              "    }\n",
              "\n",
              "    .dataframe tbody tr th {\n",
              "        vertical-align: top;\n",
              "    }\n",
              "\n",
              "    .dataframe thead th {\n",
              "        text-align: right;\n",
              "    }\n",
              "</style>\n",
              "<table border=\"1\" class=\"dataframe\">\n",
              "  <thead>\n",
              "    <tr style=\"text-align: right;\">\n",
              "      <th></th>\n",
              "      <th>Close</th>\n",
              "      <th>ISAT Predictions LSTM Testing</th>\n",
              "    </tr>\n",
              "    <tr>\n",
              "      <th>Date</th>\n",
              "      <th></th>\n",
              "      <th></th>\n",
              "    </tr>\n",
              "  </thead>\n",
              "  <tbody>\n",
              "    <tr>\n",
              "      <th>2020-02-28</th>\n",
              "      <td>2040.0</td>\n",
              "      <td>2055.183350</td>\n",
              "    </tr>\n",
              "    <tr>\n",
              "      <th>2020-03-02</th>\n",
              "      <td>2090.0</td>\n",
              "      <td>2038.571533</td>\n",
              "    </tr>\n",
              "    <tr>\n",
              "      <th>2020-03-03</th>\n",
              "      <td>2160.0</td>\n",
              "      <td>2086.620117</td>\n",
              "    </tr>\n",
              "    <tr>\n",
              "      <th>2020-03-04</th>\n",
              "      <td>2260.0</td>\n",
              "      <td>2159.562256</td>\n",
              "    </tr>\n",
              "    <tr>\n",
              "      <th>2020-03-05</th>\n",
              "      <td>2240.0</td>\n",
              "      <td>2261.426758</td>\n",
              "    </tr>\n",
              "    <tr>\n",
              "      <th>...</th>\n",
              "      <td>...</td>\n",
              "      <td>...</td>\n",
              "    </tr>\n",
              "    <tr>\n",
              "      <th>2020-12-22</th>\n",
              "      <td>5250.0</td>\n",
              "      <td>5686.106445</td>\n",
              "    </tr>\n",
              "    <tr>\n",
              "      <th>2020-12-23</th>\n",
              "      <td>5650.0</td>\n",
              "      <td>5133.603027</td>\n",
              "    </tr>\n",
              "    <tr>\n",
              "      <th>2020-12-28</th>\n",
              "      <td>5650.0</td>\n",
              "      <td>5744.799316</td>\n",
              "    </tr>\n",
              "    <tr>\n",
              "      <th>2020-12-29</th>\n",
              "      <td>5275.0</td>\n",
              "      <td>5639.459473</td>\n",
              "    </tr>\n",
              "    <tr>\n",
              "      <th>2020-12-30</th>\n",
              "      <td>5050.0</td>\n",
              "      <td>5258.678711</td>\n",
              "    </tr>\n",
              "  </tbody>\n",
              "</table>\n",
              "<p>201 rows × 2 columns</p>\n",
              "</div>\n",
              "      <button class=\"colab-df-convert\" onclick=\"convertToInteractive('df-784ce9d5-6f8e-4c9c-b547-f38744a5ad23')\"\n",
              "              title=\"Convert this dataframe to an interactive table.\"\n",
              "              style=\"display:none;\">\n",
              "        \n",
              "  <svg xmlns=\"http://www.w3.org/2000/svg\" height=\"24px\"viewBox=\"0 0 24 24\"\n",
              "       width=\"24px\">\n",
              "    <path d=\"M0 0h24v24H0V0z\" fill=\"none\"/>\n",
              "    <path d=\"M18.56 5.44l.94 2.06.94-2.06 2.06-.94-2.06-.94-.94-2.06-.94 2.06-2.06.94zm-11 1L8.5 8.5l.94-2.06 2.06-.94-2.06-.94L8.5 2.5l-.94 2.06-2.06.94zm10 10l.94 2.06.94-2.06 2.06-.94-2.06-.94-.94-2.06-.94 2.06-2.06.94z\"/><path d=\"M17.41 7.96l-1.37-1.37c-.4-.4-.92-.59-1.43-.59-.52 0-1.04.2-1.43.59L10.3 9.45l-7.72 7.72c-.78.78-.78 2.05 0 2.83L4 21.41c.39.39.9.59 1.41.59.51 0 1.02-.2 1.41-.59l7.78-7.78 2.81-2.81c.8-.78.8-2.07 0-2.86zM5.41 20L4 18.59l7.72-7.72 1.47 1.35L5.41 20z\"/>\n",
              "  </svg>\n",
              "      </button>\n",
              "      \n",
              "  <style>\n",
              "    .colab-df-container {\n",
              "      display:flex;\n",
              "      flex-wrap:wrap;\n",
              "      gap: 12px;\n",
              "    }\n",
              "\n",
              "    .colab-df-convert {\n",
              "      background-color: #E8F0FE;\n",
              "      border: none;\n",
              "      border-radius: 50%;\n",
              "      cursor: pointer;\n",
              "      display: none;\n",
              "      fill: #1967D2;\n",
              "      height: 32px;\n",
              "      padding: 0 0 0 0;\n",
              "      width: 32px;\n",
              "    }\n",
              "\n",
              "    .colab-df-convert:hover {\n",
              "      background-color: #E2EBFA;\n",
              "      box-shadow: 0px 1px 2px rgba(60, 64, 67, 0.3), 0px 1px 3px 1px rgba(60, 64, 67, 0.15);\n",
              "      fill: #174EA6;\n",
              "    }\n",
              "\n",
              "    [theme=dark] .colab-df-convert {\n",
              "      background-color: #3B4455;\n",
              "      fill: #D2E3FC;\n",
              "    }\n",
              "\n",
              "    [theme=dark] .colab-df-convert:hover {\n",
              "      background-color: #434B5C;\n",
              "      box-shadow: 0px 1px 3px 1px rgba(0, 0, 0, 0.15);\n",
              "      filter: drop-shadow(0px 1px 2px rgba(0, 0, 0, 0.3));\n",
              "      fill: #FFFFFF;\n",
              "    }\n",
              "  </style>\n",
              "\n",
              "      <script>\n",
              "        const buttonEl =\n",
              "          document.querySelector('#df-784ce9d5-6f8e-4c9c-b547-f38744a5ad23 button.colab-df-convert');\n",
              "        buttonEl.style.display =\n",
              "          google.colab.kernel.accessAllowed ? 'block' : 'none';\n",
              "\n",
              "        async function convertToInteractive(key) {\n",
              "          const element = document.querySelector('#df-784ce9d5-6f8e-4c9c-b547-f38744a5ad23');\n",
              "          const dataTable =\n",
              "            await google.colab.kernel.invokeFunction('convertToInteractive',\n",
              "                                                     [key], {});\n",
              "          if (!dataTable) return;\n",
              "\n",
              "          const docLinkHtml = 'Like what you see? Visit the ' +\n",
              "            '<a target=\"_blank\" href=https://colab.research.google.com/notebooks/data_table.ipynb>data table notebook</a>'\n",
              "            + ' to learn more about interactive tables.';\n",
              "          element.innerHTML = '';\n",
              "          dataTable['output_type'] = 'display_data';\n",
              "          await google.colab.output.renderOutput(dataTable, element);\n",
              "          const docLink = document.createElement('div');\n",
              "          docLink.innerHTML = docLinkHtml;\n",
              "          element.appendChild(docLink);\n",
              "        }\n",
              "      </script>\n",
              "    </div>\n",
              "  </div>\n",
              "  "
            ]
          },
          "metadata": {},
          "execution_count": 28
        }
      ],
      "source": [
        "#predict data testing lstm\n",
        "\n",
        "data_test_lstm = df_test[100:301]\n",
        "data_test_lstm = pd.DataFrame({'Date':data_test_lstm.index, 'Close':data_test_lstm.values})\n",
        "predict_lstm_test_ISA14_2 = pd.DataFrame(predict_lstm_test_ISA14_1, columns=['ISAT Predictions LSTM Testing'])\n",
        "predict_lstm_test_ISA14_3 = data_test_lstm.join(predict_lstm_test_ISA14_2)\n",
        "predict_lstm_test_ISA14_3 = predict_lstm_test_ISA14_3.set_index('Date')\n",
        "predict_lstm_test_ISA14_3"
      ]
    },
    {
      "cell_type": "code",
      "execution_count": null,
      "metadata": {
        "colab": {
          "base_uri": "https://localhost:8080/"
        },
        "id": "PWLDl9EnqeWi",
        "outputId": "1b0f3dd1-246c-4690-fb23-5d6fe29f4740"
      },
      "outputs": [
        {
          "output_type": "stream",
          "name": "stdout",
          "text": [
            "R2 Score train of LSTM model =  0.4331892910440215\n",
            "MSE Score train of LSTM model =  1488161.7975798193\n",
            "MAE Score train of LSTM model =  1159.1779075290847\n",
            "RMSE Score train of LSTM model =  1219.9023721510748\n",
            "MAPE Score train of LSTM model =  0.24591070344446617\n"
          ]
        }
      ],
      "source": [
        "## LSTM training accuracy\n",
        "\n",
        "lstm_score1 = r2_score(train, predict_train)\n",
        "print(\"R2 Score train of LSTM model = \", lstm_score1)\n",
        "\n",
        "lstm_score2 = mean_squared_error(train, predict_train)\n",
        "print(\"MSE Score train of LSTM model = \", lstm_score2)\n",
        "\n",
        "lstm_score3 = mean_absolute_error(train, predict_train)\n",
        "print(\"MAE Score train of LSTM model = \", lstm_score3)\n",
        "\n",
        "lstm_score4 = mean_squared_error(train, predict_train, squared=False)\n",
        "print(\"RMSE Score train of LSTM model = \", lstm_score4)\n",
        "\n",
        "lstm_score5 = mean_absolute_percentage_error(train, predict_train)\n",
        "print(\"MAPE Score train of LSTM model = \", lstm_score5)"
      ]
    },
    {
      "cell_type": "code",
      "execution_count": null,
      "metadata": {
        "colab": {
          "base_uri": "https://localhost:8080/"
        },
        "id": "izp1etRYq-ru",
        "outputId": "c437473f-97a2-4caf-a417-96e3fd242640"
      },
      "outputs": [
        {
          "output_type": "stream",
          "name": "stdout",
          "text": [
            "R2 Score of LSTM model =  0.953978587986914\n",
            "MSE Score of LSTM model =  20738.012770575595\n",
            "MAE Score of LSTM model =  80.58660129528141\n",
            "RMSE Score of LSTM model =  144.00698861713482\n",
            "MAPE Score of LSTM model =  0.032625653226493086\n"
          ]
        }
      ],
      "source": [
        "##LSTM testing accuracy\n",
        "\n",
        "lstm_score1 = r2_score(test, predict_test)\n",
        "print(\"R2 Score of LSTM model = \", lstm_score1)\n",
        "\n",
        "lstm_score2 = mean_squared_error(test, predict_test)\n",
        "print(\"MSE Score of LSTM model = \", lstm_score2)\n",
        "\n",
        "lstm_score3 = mean_absolute_error(test, predict_test)\n",
        "print(\"MAE Score of LSTM model = \", lstm_score3)\n",
        "\n",
        "lstm_score4 = mean_squared_error(test, predict_test, squared=False)\n",
        "print(\"RMSE Score of LSTM model = \", lstm_score4)\n",
        "\n",
        "lstm_score5 = mean_absolute_percentage_error(test, predict_test)\n",
        "print(\"MAPE Score of LSTM model = \", lstm_score5)"
      ]
    },
    {
      "cell_type": "code",
      "execution_count": null,
      "metadata": {
        "id": "DpK72RgKo35g",
        "outputId": "1d206cbf-2f11-49ee-d083-d3be49fc3864",
        "colab": {
          "base_uri": "https://localhost:8080/",
          "height": 504
        }
      },
      "outputs": [
        {
          "output_type": "display_data",
          "data": {
            "text/plain": [
              "<Figure size 1080x576 with 1 Axes>"
            ],
            "image/png": "[encoded data removed]"
          },
          "metadata": {
            "needs_background": "light"
          }
        }
      ],
      "source": [
        "##plot lstm training\n",
        "plt.figure(figsize=(15,8))\n",
        "\n",
        "plt.plot(y_train, c=\"orange\", linewidth=3, label=\"Actual Data\")\n",
        "plt.plot(predict_train, c=\"red\", linewidth=3, label=\"LSTM Prediction\")\n",
        "plt.legend()\n",
        "plt.title(\"ISAT Actual vs LSTM Prediction Training\", fontsize=20)\n",
        "plt.show()"
      ]
    },
    {
      "cell_type": "code",
      "execution_count": null,
      "metadata": {
        "id": "xfreaV_ro35g",
        "outputId": "2573c46f-b9ca-4291-c519-e37154b901b1",
        "colab": {
          "base_uri": "https://localhost:8080/",
          "height": 504
        }
      },
      "outputs": [
        {
          "output_type": "display_data",
          "data": {
            "text/plain": [
              "<Figure size 1080x576 with 1 Axes>"
            ],
            "image/png": "[encoded data removed]"
          },
          "metadata": {
            "needs_background": "light"
          }
        }
      ],
      "source": [
        "##plot lstm training\n",
        "plt.figure(figsize=(15,8))\n",
        "\n",
        "plt.plot(y_test, c=\"orange\", linewidth=3, label=\"Actual Data\")\n",
        "plt.plot(predict_test, c=\"red\", linewidth=3, label=\"LSTM Prediction\")\n",
        "plt.legend()\n",
        "plt.title(\"ISAT Actual vs LSTM Prediction Testing\", fontsize=20)\n",
        "plt.show()"
      ]
    },
    {
      "cell_type": "markdown",
      "metadata": {
        "id": "aa6b14f2"
      },
      "source": [
        "---\n",
        "### AUTO ARIMA\n",
        "---"
      ]
    },
    {
      "cell_type": "markdown",
      "metadata": {
        "id": "4c72998b"
      },
      "source": [
        "## Flow Autoarima\n",
        "\n",
        "**Data Preparation**\n",
        "check ADF -> Plot ACF\n",
        "\n",
        "**Build Model**\n",
        "Check the model with AutoARIMA\n",
        "\n",
        "**Prediksi**\n",
        "Make predictions with the best model from AutoARIMA"
      ]
    },
    {
      "cell_type": "markdown",
      "metadata": {
        "id": "09a10ca6"
      },
      "source": [
        "## Data Preparation\n",
        "---"
      ]
    },
    {
      "cell_type": "code",
      "execution_count": null,
      "metadata": {
        "id": "BOMJU1WxreKf",
        "outputId": "1a191a01-cee2-452c-e03f-45a6e5cba907",
        "colab": {
          "base_uri": "https://localhost:8080/"
        }
      },
      "outputs": [
        {
          "output_type": "stream",
          "name": "stdout",
          "text": [
            "df_train:  (1204,)\n",
            "df_test:  (301,)\n"
          ]
        }
      ],
      "source": [
        "# Splitting data into training and testing\n",
        "split_value = df.shape[0] * 0.8\n",
        "\n",
        "df_train = df[:int(split_value)]\n",
        "df_test = df[int(split_value):]\n",
        "\n",
        "# Check the size of the data\n",
        "# df.shape -> (rows, columns) / (number of data points, number of features/variables)\n",
        "print(\"df_train: \", df_train.shape) # -> df_train: (1204,) -> number of data points is 1204\n",
        "print(\"df_test: \", df_test.shape)"
      ]
    },
    {
      "cell_type": "code",
      "execution_count": null,
      "metadata": {
        "id": "b3J6NzcCo35i",
        "outputId": "92e271f2-8bff-4d42-9093-750795114a54",
        "colab": {
          "base_uri": "https://localhost:8080/"
        }
      },
      "outputs": [
        {
          "output_type": "execute_result",
          "data": {
            "text/plain": [
              "<bound method NDFrame.head of Date\n",
              "2015-01-02    4120.0\n",
              "2015-01-05    4200.0\n",
              "2015-01-06    4225.0\n",
              "2015-01-07    4200.0\n",
              "2015-01-08    4250.0\n",
              "               ...  \n",
              "2019-09-30    2850.0\n",
              "2019-10-01    2830.0\n",
              "2019-10-02    2670.0\n",
              "2019-10-03    2700.0\n",
              "2019-10-04    2810.0\n",
              "Name: Close, Length: 1204, dtype: float64>"
            ]
          },
          "metadata": {},
          "execution_count": 34
        }
      ],
      "source": [
        "df_train.head"
      ]
    },
    {
      "cell_type": "code",
      "execution_count": null,
      "metadata": {
        "id": "Bh3aiOlio35i",
        "outputId": "c3d34d3d-da38-4d89-88af-c829712f26d9",
        "colab": {
          "base_uri": "https://localhost:8080/"
        }
      },
      "outputs": [
        {
          "output_type": "execute_result",
          "data": {
            "text/plain": [
              "<bound method NDFrame.head of Date\n",
              "2019-10-07    2730.0\n",
              "2019-10-08    2720.0\n",
              "2019-10-09    2710.0\n",
              "2019-10-10    2670.0\n",
              "2019-10-11    2680.0\n",
              "               ...  \n",
              "2020-12-22    5250.0\n",
              "2020-12-23    5650.0\n",
              "2020-12-28    5650.0\n",
              "2020-12-29    5275.0\n",
              "2020-12-30    5050.0\n",
              "Name: Close, Length: 301, dtype: float64>"
            ]
          },
          "metadata": {},
          "execution_count": 35
        }
      ],
      "source": [
        "df_test.head"
      ]
    },
    {
      "cell_type": "code",
      "execution_count": null,
      "metadata": {
        "id": "DYvLdwHgrgwU",
        "outputId": "82b1f7c3-4dcb-40d3-c759-f24278c093ec",
        "colab": {
          "base_uri": "https://localhost:8080/"
        }
      },
      "outputs": [
        {
          "output_type": "stream",
          "name": "stdout",
          "text": [
            "ADF Statistic: -1.210489210526651\n",
            "p-value: 0.6690673203619893\n"
          ]
        }
      ],
      "source": [
        "# Check if price training series is stationary\n",
        "\n",
        "ADFTR = adfuller(df_train.dropna())\n",
        "print(f\"ADF Statistic: {ADFTR[0]}\")\n",
        "print(f\"p-value: {ADFTR[1]}\")"
      ]
    },
    {
      "cell_type": "code",
      "execution_count": null,
      "metadata": {
        "id": "2cIqbMpOrrWY",
        "outputId": "19a2b633-683f-4c4c-bed1-9e79ba6dd42a",
        "colab": {
          "base_uri": "https://localhost:8080/"
        }
      },
      "outputs": [
        {
          "output_type": "stream",
          "name": "stdout",
          "text": [
            "Performing stepwise search to minimize aic\n",
            " ARIMA(1,1,1)(0,0,0)[0] intercept   : AIC=14581.367, Time=2.00 sec\n",
            " ARIMA(0,1,0)(0,0,0)[0] intercept   : AIC=14580.004, Time=0.05 sec\n",
            " ARIMA(1,1,0)(0,0,0)[0] intercept   : AIC=14581.223, Time=0.12 sec\n",
            " ARIMA(0,1,1)(0,0,0)[0] intercept   : AIC=14581.227, Time=0.20 sec\n",
            " ARIMA(0,1,0)(0,0,0)[0]             : AIC=14578.137, Time=0.06 sec\n",
            "\n",
            "Best model:  ARIMA(0,1,0)(0,0,0)[0]          \n",
            "Total fit time: 2.461 seconds\n"
          ]
        }
      ],
      "source": [
        "model = auto_arima(\n",
        "    df_train,\n",
        "    start_p=1,\n",
        "    start_q=1,\n",
        "    test=\"adf\",\n",
        "    max_p=5,\n",
        "    max_q=5,\n",
        "    m=1,  # frequency of series\n",
        "    d=None,  # determine 'd'\n",
        "    seasonal=False,  # no seasonality\n",
        "    trace=True,\n",
        "    stepwise=True,\n",
        ")"
      ]
    },
    {
      "cell_type": "code",
      "execution_count": null,
      "metadata": {
        "id": "xL5SjBYDr1PQ",
        "outputId": "3aa67652-4f75-4f97-cc05-c29948b13ec8",
        "colab": {
          "base_uri": "https://localhost:8080/"
        }
      },
      "outputs": [
        {
          "output_type": "stream",
          "name": "stdout",
          "text": [
            "                               SARIMAX Results                                \n",
            "==============================================================================\n",
            "Dep. Variable:                  Close   No. Observations:                 1204\n",
            "Model:                 ARIMA(0, 1, 0)   Log Likelihood               -7288.069\n",
            "Date:                Tue, 16 Aug 2022   AIC                          14578.137\n",
            "Time:                        11:07:19   BIC                          14583.230\n",
            "Sample:                             0   HQIC                         14580.056\n",
            "                               - 1204                                         \n",
            "Covariance Type:                  opg                                         \n",
            "==============================================================================\n",
            "                 coef    std err          z      P>|z|      [0.025      0.975]\n",
            "------------------------------------------------------------------------------\n",
            "sigma2       1.07e+04    208.452     51.320      0.000    1.03e+04    1.11e+04\n",
            "===================================================================================\n",
            "Ljung-Box (L1) (Q):                   0.77   Jarque-Bera (JB):              2296.78\n",
            "Prob(Q):                              0.38   Prob(JB):                         0.00\n",
            "Heteroskedasticity (H):               1.33   Skew:                             0.23\n",
            "Prob(H) (two-sided):                  0.00   Kurtosis:                         9.75\n",
            "===================================================================================\n",
            "\n",
            "Warnings:\n",
            "[1] Covariance matrix calculated using the outer product of gradients (complex-step).\n"
          ]
        }
      ],
      "source": [
        "model_train = sm.tsa.arima.ARIMA(df_train, order=(0, 1, 0))\n",
        "result_train = model_train.fit()\n",
        "print(result_train.summary())"
      ]
    },
    {
      "cell_type": "code",
      "execution_count": null,
      "metadata": {
        "id": "hp9tw0OGr3VK",
        "outputId": "15f1bda4-34e9-4426-f841-be7aadf7100f",
        "colab": {
          "base_uri": "https://localhost:8080/"
        }
      },
      "outputs": [
        {
          "output_type": "stream",
          "name": "stdout",
          "text": [
            "                               SARIMAX Results                                \n",
            "==============================================================================\n",
            "Dep. Variable:                  Close   No. Observations:                  301\n",
            "Model:                 ARIMA(0, 1, 0)   Log Likelihood               -1882.801\n",
            "Date:                Tue, 16 Aug 2022   AIC                           3767.603\n",
            "Time:                        11:07:19   BIC                           3771.306\n",
            "Sample:                             0   HQIC                          3769.085\n",
            "                                - 301                                         \n",
            "Covariance Type:                  opg                                         \n",
            "==============================================================================\n",
            "                 coef    std err          z      P>|z|      [0.025      0.975]\n",
            "------------------------------------------------------------------------------\n",
            "sigma2      1.655e+04    424.946     38.946      0.000    1.57e+04    1.74e+04\n",
            "===================================================================================\n",
            "Ljung-Box (L1) (Q):                   0.18   Jarque-Bera (JB):              4342.90\n",
            "Prob(Q):                              0.67   Prob(JB):                         0.00\n",
            "Heteroskedasticity (H):               3.69   Skew:                             3.03\n",
            "Prob(H) (two-sided):                  0.00   Kurtosis:                        20.63\n",
            "===================================================================================\n",
            "\n",
            "Warnings:\n",
            "[1] Covariance matrix calculated using the outer product of gradients (complex-step).\n"
          ]
        }
      ],
      "source": [
        "model_test = sm.tsa.arima.ARIMA(df_test, order=(0, 1, 0))\n",
        "result_test = model_test.fit()\n",
        "print(result_test.summary())"
      ]
    },
    {
      "cell_type": "markdown",
      "metadata": {
        "id": "JTLmRr5bo35k"
      },
      "source": [
        "## Prediction ARIMA\n",
        "---"
      ]
    },
    {
      "cell_type": "code",
      "execution_count": null,
      "metadata": {
        "id": "LBF_qWebo35l",
        "outputId": "a2c39c4f-d36f-42fa-95f7-502e7fd2d109",
        "colab": {
          "base_uri": "https://localhost:8080/"
        }
      },
      "outputs": [
        {
          "output_type": "execute_result",
          "data": {
            "text/plain": [
              "Date\n",
              "2015-01-05    4120.0\n",
              "2015-01-06    4200.0\n",
              "2015-01-07    4225.0\n",
              "2015-01-08    4200.0\n",
              "2015-01-09    4250.0\n",
              "               ...  \n",
              "2019-09-30    2980.0\n",
              "2019-10-01    2850.0\n",
              "2019-10-02    2830.0\n",
              "2019-10-03    2670.0\n",
              "2019-10-04    2700.0\n",
              "Name: predicted_mean, Length: 1203, dtype: float64"
            ]
          },
          "metadata": {},
          "execution_count": 40
        }
      ],
      "source": [
        "predict_arima_train = result_train.predict(start=1, end=1203, dynamic=False)\n",
        "predict_arima_train"
      ]
    },
    {
      "cell_type": "code",
      "execution_count": null,
      "metadata": {
        "id": "uX0MUw8So35l",
        "outputId": "0ba9d230-e1b6-4989-8525-9783468ac7a1",
        "colab": {
          "base_uri": "https://localhost:8080/"
        }
      },
      "outputs": [
        {
          "output_type": "execute_result",
          "data": {
            "text/plain": [
              "Date\n",
              "2019-10-08    2730.0\n",
              "2019-10-09    2720.0\n",
              "2019-10-10    2710.0\n",
              "2019-10-11    2670.0\n",
              "2019-10-14    2680.0\n",
              "               ...  \n",
              "2020-12-22    5500.0\n",
              "2020-12-23    5250.0\n",
              "2020-12-28    5650.0\n",
              "2020-12-29    5650.0\n",
              "2020-12-30    5275.0\n",
              "Name: predicted_mean, Length: 300, dtype: float64"
            ]
          },
          "metadata": {},
          "execution_count": 41
        }
      ],
      "source": [
        "predict_arima_test = result_test.predict(start=1, end=300, dynamic=False)\n",
        "predict_arima_test"
      ]
    },
    {
      "cell_type": "code",
      "execution_count": null,
      "metadata": {
        "id": "K6P4cbsvo35l",
        "outputId": "eafeff28-4827-4b8e-ad54-dcb2fde12936",
        "colab": {
          "base_uri": "https://localhost:8080/",
          "height": 455
        }
      },
      "outputs": [
        {
          "output_type": "execute_result",
          "data": {
            "text/plain": [
              "             Close  ISAT Predictions ARIMA Training\n",
              "Date                                               \n",
              "2015-01-05  4200.0                           4120.0\n",
              "2015-01-06  4225.0                           4200.0\n",
              "2015-01-07  4200.0                           4225.0\n",
              "2015-01-08  4250.0                           4200.0\n",
              "2015-01-09  4300.0                           4250.0\n",
              "...            ...                              ...\n",
              "2019-09-30  2850.0                           2980.0\n",
              "2019-10-01  2830.0                           2850.0\n",
              "2019-10-02  2670.0                           2830.0\n",
              "2019-10-03  2700.0                           2670.0\n",
              "2019-10-04  2810.0                           2700.0\n",
              "\n",
              "[1203 rows x 2 columns]"
            ],
            "text/html": [
              "\n",
              "  <div id=\"df-8c14631e-289e-4299-a883-aeab1c535bf1\">\n",
              "    <div class=\"colab-df-container\">\n",
              "      <div>\n",
              "<style scoped>\n",
              "    .dataframe tbody tr th:only-of-type {\n",
              "        vertical-align: middle;\n",
              "    }\n",
              "\n",
              "    .dataframe tbody tr th {\n",
              "        vertical-align: top;\n",
              "    }\n",
              "\n",
              "    .dataframe thead th {\n",
              "        text-align: right;\n",
              "    }\n",
              "</style>\n",
              "<table border=\"1\" class=\"dataframe\">\n",
              "  <thead>\n",
              "    <tr style=\"text-align: right;\">\n",
              "      <th></th>\n",
              "      <th>Close</th>\n",
              "      <th>ISAT Predictions ARIMA Training</th>\n",
              "    </tr>\n",
              "    <tr>\n",
              "      <th>Date</th>\n",
              "      <th></th>\n",
              "      <th></th>\n",
              "    </tr>\n",
              "  </thead>\n",
              "  <tbody>\n",
              "    <tr>\n",
              "      <th>2015-01-05</th>\n",
              "      <td>4200.0</td>\n",
              "      <td>4120.0</td>\n",
              "    </tr>\n",
              "    <tr>\n",
              "      <th>2015-01-06</th>\n",
              "      <td>4225.0</td>\n",
              "      <td>4200.0</td>\n",
              "    </tr>\n",
              "    <tr>\n",
              "      <th>2015-01-07</th>\n",
              "      <td>4200.0</td>\n",
              "      <td>4225.0</td>\n",
              "    </tr>\n",
              "    <tr>\n",
              "      <th>2015-01-08</th>\n",
              "      <td>4250.0</td>\n",
              "      <td>4200.0</td>\n",
              "    </tr>\n",
              "    <tr>\n",
              "      <th>2015-01-09</th>\n",
              "      <td>4300.0</td>\n",
              "      <td>4250.0</td>\n",
              "    </tr>\n",
              "    <tr>\n",
              "      <th>...</th>\n",
              "      <td>...</td>\n",
              "      <td>...</td>\n",
              "    </tr>\n",
              "    <tr>\n",
              "      <th>2019-09-30</th>\n",
              "      <td>2850.0</td>\n",
              "      <td>2980.0</td>\n",
              "    </tr>\n",
              "    <tr>\n",
              "      <th>2019-10-01</th>\n",
              "      <td>2830.0</td>\n",
              "      <td>2850.0</td>\n",
              "    </tr>\n",
              "    <tr>\n",
              "      <th>2019-10-02</th>\n",
              "      <td>2670.0</td>\n",
              "      <td>2830.0</td>\n",
              "    </tr>\n",
              "    <tr>\n",
              "      <th>2019-10-03</th>\n",
              "      <td>2700.0</td>\n",
              "      <td>2670.0</td>\n",
              "    </tr>\n",
              "    <tr>\n",
              "      <th>2019-10-04</th>\n",
              "      <td>2810.0</td>\n",
              "      <td>2700.0</td>\n",
              "    </tr>\n",
              "  </tbody>\n",
              "</table>\n",
              "<p>1203 rows × 2 columns</p>\n",
              "</div>\n",
              "      <button class=\"colab-df-convert\" onclick=\"convertToInteractive('df-8c14631e-289e-4299-a883-aeab1c535bf1')\"\n",
              "              title=\"Convert this dataframe to an interactive table.\"\n",
              "              style=\"display:none;\">\n",
              "        \n",
              "  <svg xmlns=\"http://www.w3.org/2000/svg\" height=\"24px\"viewBox=\"0 0 24 24\"\n",
              "       width=\"24px\">\n",
              "    <path d=\"M0 0h24v24H0V0z\" fill=\"none\"/>\n",
              "    <path d=\"M18.56 5.44l.94 2.06.94-2.06 2.06-.94-2.06-.94-.94-2.06-.94 2.06-2.06.94zm-11 1L8.5 8.5l.94-2.06 2.06-.94-2.06-.94L8.5 2.5l-.94 2.06-2.06.94zm10 10l.94 2.06.94-2.06 2.06-.94-2.06-.94-.94-2.06-.94 2.06-2.06.94z\"/><path d=\"M17.41 7.96l-1.37-1.37c-.4-.4-.92-.59-1.43-.59-.52 0-1.04.2-1.43.59L10.3 9.45l-7.72 7.72c-.78.78-.78 2.05 0 2.83L4 21.41c.39.39.9.59 1.41.59.51 0 1.02-.2 1.41-.59l7.78-7.78 2.81-2.81c.8-.78.8-2.07 0-2.86zM5.41 20L4 18.59l7.72-7.72 1.47 1.35L5.41 20z\"/>\n",
              "  </svg>\n",
              "      </button>\n",
              "      \n",
              "  <style>\n",
              "    .colab-df-container {\n",
              "      display:flex;\n",
              "      flex-wrap:wrap;\n",
              "      gap: 12px;\n",
              "    }\n",
              "\n",
              "    .colab-df-convert {\n",
              "      background-color: #E8F0FE;\n",
              "      border: none;\n",
              "      border-radius: 50%;\n",
              "      cursor: pointer;\n",
              "      display: none;\n",
              "      fill: #1967D2;\n",
              "      height: 32px;\n",
              "      padding: 0 0 0 0;\n",
              "      width: 32px;\n",
              "    }\n",
              "\n",
              "    .colab-df-convert:hover {\n",
              "      background-color: #E2EBFA;\n",
              "      box-shadow: 0px 1px 2px rgba(60, 64, 67, 0.3), 0px 1px 3px 1px rgba(60, 64, 67, 0.15);\n",
              "      fill: #174EA6;\n",
              "    }\n",
              "\n",
              "    [theme=dark] .colab-df-convert {\n",
              "      background-color: #3B4455;\n",
              "      fill: #D2E3FC;\n",
              "    }\n",
              "\n",
              "    [theme=dark] .colab-df-convert:hover {\n",
              "      background-color: #434B5C;\n",
              "      box-shadow: 0px 1px 3px 1px rgba(0, 0, 0, 0.15);\n",
              "      filter: drop-shadow(0px 1px 2px rgba(0, 0, 0, 0.3));\n",
              "      fill: #FFFFFF;\n",
              "    }\n",
              "  </style>\n",
              "\n",
              "      <script>\n",
              "        const buttonEl =\n",
              "          document.querySelector('#df-8c14631e-289e-4299-a883-aeab1c535bf1 button.colab-df-convert');\n",
              "        buttonEl.style.display =\n",
              "          google.colab.kernel.accessAllowed ? 'block' : 'none';\n",
              "\n",
              "        async function convertToInteractive(key) {\n",
              "          const element = document.querySelector('#df-8c14631e-289e-4299-a883-aeab1c535bf1');\n",
              "          const dataTable =\n",
              "            await google.colab.kernel.invokeFunction('convertToInteractive',\n",
              "                                                     [key], {});\n",
              "          if (!dataTable) return;\n",
              "\n",
              "          const docLinkHtml = 'Like what you see? Visit the ' +\n",
              "            '<a target=\"_blank\" href=https://colab.research.google.com/notebooks/data_table.ipynb>data table notebook</a>'\n",
              "            + ' to learn more about interactive tables.';\n",
              "          element.innerHTML = '';\n",
              "          dataTable['output_type'] = 'display_data';\n",
              "          await google.colab.output.renderOutput(dataTable, element);\n",
              "          const docLink = document.createElement('div');\n",
              "          docLink.innerHTML = docLinkHtml;\n",
              "          element.appendChild(docLink);\n",
              "        }\n",
              "      </script>\n",
              "    </div>\n",
              "  </div>\n",
              "  "
            ]
          },
          "metadata": {},
          "execution_count": 42
        }
      ],
      "source": [
        "data_train_arima = df_train[1:1204]\n",
        "data_train_arima = pd.DataFrame({'Date':data_train_arima.index, 'Close':data_train_arima.values})\n",
        "predict_arima_train_ISA14_1 = pd.DataFrame({'Date':predict_arima_train.index, 'ISAT Predictions ARIMA Training':predict_arima_train.values})\n",
        "predict_arima_train_ISA14_2 = data_train_arima.set_index('Date').join(predict_arima_train_ISA14_1.set_index('Date'))\n",
        "predict_arima_train_ISA14_2"
      ]
    },
    {
      "cell_type": "code",
      "execution_count": null,
      "metadata": {
        "id": "z2TUFGoFo35m",
        "outputId": "9cfcec9b-590a-4c59-89bb-49d6e39daa71",
        "colab": {
          "base_uri": "https://localhost:8080/",
          "height": 455
        }
      },
      "outputs": [
        {
          "output_type": "execute_result",
          "data": {
            "text/plain": [
              "             Close  ISAT Predictions ARIMA Testing\n",
              "Date                                              \n",
              "2019-10-08  2720.0                          2730.0\n",
              "2019-10-09  2710.0                          2720.0\n",
              "2019-10-10  2670.0                          2710.0\n",
              "2019-10-11  2680.0                          2670.0\n",
              "2019-10-14  3040.0                          2680.0\n",
              "...            ...                             ...\n",
              "2020-12-22  5250.0                          5500.0\n",
              "2020-12-23  5650.0                          5250.0\n",
              "2020-12-28  5650.0                          5650.0\n",
              "2020-12-29  5275.0                          5650.0\n",
              "2020-12-30  5050.0                          5275.0\n",
              "\n",
              "[300 rows x 2 columns]"
            ],
            "text/html": [
              "\n",
              "  <div id=\"df-7985f980-5b95-4563-b68a-21f64d0c5d68\">\n",
              "    <div class=\"colab-df-container\">\n",
              "      <div>\n",
              "<style scoped>\n",
              "    .dataframe tbody tr th:only-of-type {\n",
              "        vertical-align: middle;\n",
              "    }\n",
              "\n",
              "    .dataframe tbody tr th {\n",
              "        vertical-align: top;\n",
              "    }\n",
              "\n",
              "    .dataframe thead th {\n",
              "        text-align: right;\n",
              "    }\n",
              "</style>\n",
              "<table border=\"1\" class=\"dataframe\">\n",
              "  <thead>\n",
              "    <tr style=\"text-align: right;\">\n",
              "      <th></th>\n",
              "      <th>Close</th>\n",
              "      <th>ISAT Predictions ARIMA Testing</th>\n",
              "    </tr>\n",
              "    <tr>\n",
              "      <th>Date</th>\n",
              "      <th></th>\n",
              "      <th></th>\n",
              "    </tr>\n",
              "  </thead>\n",
              "  <tbody>\n",
              "    <tr>\n",
              "      <th>2019-10-08</th>\n",
              "      <td>2720.0</td>\n",
              "      <td>2730.0</td>\n",
              "    </tr>\n",
              "    <tr>\n",
              "      <th>2019-10-09</th>\n",
              "      <td>2710.0</td>\n",
              "      <td>2720.0</td>\n",
              "    </tr>\n",
              "    <tr>\n",
              "      <th>2019-10-10</th>\n",
              "      <td>2670.0</td>\n",
              "      <td>2710.0</td>\n",
              "    </tr>\n",
              "    <tr>\n",
              "      <th>2019-10-11</th>\n",
              "      <td>2680.0</td>\n",
              "      <td>2670.0</td>\n",
              "    </tr>\n",
              "    <tr>\n",
              "      <th>2019-10-14</th>\n",
              "      <td>3040.0</td>\n",
              "      <td>2680.0</td>\n",
              "    </tr>\n",
              "    <tr>\n",
              "      <th>...</th>\n",
              "      <td>...</td>\n",
              "      <td>...</td>\n",
              "    </tr>\n",
              "    <tr>\n",
              "      <th>2020-12-22</th>\n",
              "      <td>5250.0</td>\n",
              "      <td>5500.0</td>\n",
              "    </tr>\n",
              "    <tr>\n",
              "      <th>2020-12-23</th>\n",
              "      <td>5650.0</td>\n",
              "      <td>5250.0</td>\n",
              "    </tr>\n",
              "    <tr>\n",
              "      <th>2020-12-28</th>\n",
              "      <td>5650.0</td>\n",
              "      <td>5650.0</td>\n",
              "    </tr>\n",
              "    <tr>\n",
              "      <th>2020-12-29</th>\n",
              "      <td>5275.0</td>\n",
              "      <td>5650.0</td>\n",
              "    </tr>\n",
              "    <tr>\n",
              "      <th>2020-12-30</th>\n",
              "      <td>5050.0</td>\n",
              "      <td>5275.0</td>\n",
              "    </tr>\n",
              "  </tbody>\n",
              "</table>\n",
              "<p>300 rows × 2 columns</p>\n",
              "</div>\n",
              "      <button class=\"colab-df-convert\" onclick=\"convertToInteractive('df-7985f980-5b95-4563-b68a-21f64d0c5d68')\"\n",
              "              title=\"Convert this dataframe to an interactive table.\"\n",
              "              style=\"display:none;\">\n",
              "        \n",
              "  <svg xmlns=\"http://www.w3.org/2000/svg\" height=\"24px\"viewBox=\"0 0 24 24\"\n",
              "       width=\"24px\">\n",
              "    <path d=\"M0 0h24v24H0V0z\" fill=\"none\"/>\n",
              "    <path d=\"M18.56 5.44l.94 2.06.94-2.06 2.06-.94-2.06-.94-.94-2.06-.94 2.06-2.06.94zm-11 1L8.5 8.5l.94-2.06 2.06-.94-2.06-.94L8.5 2.5l-.94 2.06-2.06.94zm10 10l.94 2.06.94-2.06 2.06-.94-2.06-.94-.94-2.06-.94 2.06-2.06.94z\"/><path d=\"M17.41 7.96l-1.37-1.37c-.4-.4-.92-.59-1.43-.59-.52 0-1.04.2-1.43.59L10.3 9.45l-7.72 7.72c-.78.78-.78 2.05 0 2.83L4 21.41c.39.39.9.59 1.41.59.51 0 1.02-.2 1.41-.59l7.78-7.78 2.81-2.81c.8-.78.8-2.07 0-2.86zM5.41 20L4 18.59l7.72-7.72 1.47 1.35L5.41 20z\"/>\n",
              "  </svg>\n",
              "      </button>\n",
              "      \n",
              "  <style>\n",
              "    .colab-df-container {\n",
              "      display:flex;\n",
              "      flex-wrap:wrap;\n",
              "      gap: 12px;\n",
              "    }\n",
              "\n",
              "    .colab-df-convert {\n",
              "      background-color: #E8F0FE;\n",
              "      border: none;\n",
              "      border-radius: 50%;\n",
              "      cursor: pointer;\n",
              "      display: none;\n",
              "      fill: #1967D2;\n",
              "      height: 32px;\n",
              "      padding: 0 0 0 0;\n",
              "      width: 32px;\n",
              "    }\n",
              "\n",
              "    .colab-df-convert:hover {\n",
              "      background-color: #E2EBFA;\n",
              "      box-shadow: 0px 1px 2px rgba(60, 64, 67, 0.3), 0px 1px 3px 1px rgba(60, 64, 67, 0.15);\n",
              "      fill: #174EA6;\n",
              "    }\n",
              "\n",
              "    [theme=dark] .colab-df-convert {\n",
              "      background-color: #3B4455;\n",
              "      fill: #D2E3FC;\n",
              "    }\n",
              "\n",
              "    [theme=dark] .colab-df-convert:hover {\n",
              "      background-color: #434B5C;\n",
              "      box-shadow: 0px 1px 3px 1px rgba(0, 0, 0, 0.15);\n",
              "      filter: drop-shadow(0px 1px 2px rgba(0, 0, 0, 0.3));\n",
              "      fill: #FFFFFF;\n",
              "    }\n",
              "  </style>\n",
              "\n",
              "      <script>\n",
              "        const buttonEl =\n",
              "          document.querySelector('#df-7985f980-5b95-4563-b68a-21f64d0c5d68 button.colab-df-convert');\n",
              "        buttonEl.style.display =\n",
              "          google.colab.kernel.accessAllowed ? 'block' : 'none';\n",
              "\n",
              "        async function convertToInteractive(key) {\n",
              "          const element = document.querySelector('#df-7985f980-5b95-4563-b68a-21f64d0c5d68');\n",
              "          const dataTable =\n",
              "            await google.colab.kernel.invokeFunction('convertToInteractive',\n",
              "                                                     [key], {});\n",
              "          if (!dataTable) return;\n",
              "\n",
              "          const docLinkHtml = 'Like what you see? Visit the ' +\n",
              "            '<a target=\"_blank\" href=https://colab.research.google.com/notebooks/data_table.ipynb>data table notebook</a>'\n",
              "            + ' to learn more about interactive tables.';\n",
              "          element.innerHTML = '';\n",
              "          dataTable['output_type'] = 'display_data';\n",
              "          await google.colab.output.renderOutput(dataTable, element);\n",
              "          const docLink = document.createElement('div');\n",
              "          docLink.innerHTML = docLinkHtml;\n",
              "          element.appendChild(docLink);\n",
              "        }\n",
              "      </script>\n",
              "    </div>\n",
              "  </div>\n",
              "  "
            ]
          },
          "metadata": {},
          "execution_count": 43
        }
      ],
      "source": [
        "data_test_arima = df_test[1:301]\n",
        "data_test_arima = pd.DataFrame({'Date':data_test_arima.index, 'Close':data_test_arima.values})\n",
        "predict_arima_test_ISA14_1 = pd.DataFrame({'Date':predict_arima_test.index, 'ISAT Predictions ARIMA Testing':predict_arima_test.values})\n",
        "predict_arima_test_ISA14_2 = data_test_arima.set_index('Date').join(predict_arima_test_ISA14_1.set_index('Date'))\n",
        "predict_arima_test_ISA14_2"
      ]
    },
    {
      "cell_type": "code",
      "execution_count": null,
      "metadata": {
        "id": "UZVn8p1qo35m",
        "outputId": "f953e023-4c2a-4aae-943b-cb881e3ffad3",
        "colab": {
          "base_uri": "https://localhost:8080/",
          "height": 504
        }
      },
      "outputs": [
        {
          "output_type": "display_data",
          "data": {
            "text/plain": [
              "<Figure size 1080x576 with 1 Axes>"
            ],
            "image/png": "[encoded data removed]"
          },
          "metadata": {
            "needs_background": "light"
          }
        }
      ],
      "source": [
        "##plot training ARIMA\n",
        "plt.figure(figsize=(15,8))\n",
        "\n",
        "plt.plot(df_train, c=\"orange\", linewidth=3, label=\"Actual Data\")\n",
        "plt.plot(predict_arima_train, c=\"black\", linewidth=2, label=\"LSTM Prediction\")\n",
        "plt.legend()\n",
        "plt.title(\"ISAT Actual vs ARIMA Prediction Training\", fontsize=20)\n",
        "plt.show()"
      ]
    },
    {
      "cell_type": "code",
      "execution_count": null,
      "metadata": {
        "id": "laysS5VKo35m",
        "outputId": "d5b471ae-c930-4ae1-8739-834d780f9d6f",
        "colab": {
          "base_uri": "https://localhost:8080/",
          "height": 504
        }
      },
      "outputs": [
        {
          "output_type": "display_data",
          "data": {
            "text/plain": [
              "<Figure size 1080x576 with 1 Axes>"
            ],
            "image/png": "[encoded data removed]"
          },
          "metadata": {
            "needs_background": "light"
          }
        }
      ],
      "source": [
        "##plot testing arima\n",
        "plt.figure(figsize=(15,8))\n",
        "\n",
        "plt.plot(df_test, c=\"orange\", linewidth=3, label=\"Actual Data\")\n",
        "plt.plot(predict_arima_test, c=\"black\", linewidth=3, label=\"LSTM Prediction\")\n",
        "plt.legend()\n",
        "plt.title(\"ISAT Actual vs ARIMA Prediction Testing\", fontsize=20)\n",
        "plt.show()"
      ]
    },
    {
      "cell_type": "code",
      "execution_count": null,
      "metadata": {
        "id": "gpMOWw75o35n",
        "outputId": "ba49f739-4060-4ce5-b9a9-352d8f99f378",
        "colab": {
          "base_uri": "https://localhost:8080/"
        }
      },
      "outputs": [
        {
          "output_type": "stream",
          "name": "stdout",
          "text": [
            "R2 Score train of ARIMA model =  0.9956243704721826\n",
            "MSE Score train of ARIMA model =  10706.566916043224\n",
            "MAE Score train of ARIMA model =  67.96342477140482\n",
            "RMSE Score train of ARIMA model =  103.47254184585988\n",
            "MAPE Score train of ARIMA model =  0.01606934803968406\n"
          ]
        }
      ],
      "source": [
        "#akurasi train arima\n",
        "train_arima = df_train[1:1204]\n",
        "\n",
        "arima_score1 = r2_score(train_arima, predict_arima_train)\n",
        "print(\"R2 Score train of ARIMA model = \", arima_score1)\n",
        "\n",
        "arima_score2 = mean_squared_error(train_arima, predict_arima_train)\n",
        "print(\"MSE Score train of ARIMA model = \", arima_score2)\n",
        "\n",
        "arima_score3 = mean_absolute_error(train_arima, predict_arima_train)\n",
        "print(\"MAE Score train of ARIMA model = \", arima_score3)\n",
        "\n",
        "arima_score4 = mean_squared_error(train_arima, predict_arima_train, squared=False)\n",
        "print(\"RMSE Score train of ARIMA model = \", arima_score4)\n",
        "\n",
        "arima_score5 = mean_absolute_percentage_error(train_arima, predict_arima_train)\n",
        "print(\"MAPE Score train of ARIMA model = \", arima_score5)"
      ]
    },
    {
      "cell_type": "code",
      "execution_count": null,
      "metadata": {
        "id": "sDYhnAjio35n",
        "outputId": "1c163b40-d263-4e66-9a0b-6c3776a0b31d",
        "colab": {
          "base_uri": "https://localhost:8080/"
        }
      },
      "outputs": [
        {
          "output_type": "stream",
          "name": "stdout",
          "text": [
            "R2 Score test of ARIMA model =  0.960292716537542\n",
            "MSE Score test of ARIMA model =  16549.833333333332\n",
            "MAE Score test of ARIMA model =  74.06666666666666\n",
            "RMSE Score test of ARIMA model =  128.64615553265995\n",
            "MAPE Score test of ARIMA model =  0.029092483911858754\n"
          ]
        }
      ],
      "source": [
        "#akurasi test arima\n",
        "test_arima = df_test[1:301]\n",
        "\n",
        "arima_score1 = r2_score(test_arima, predict_arima_test)\n",
        "print(\"R2 Score test of ARIMA model = \", arima_score1)\n",
        "\n",
        "arima_score2 = mean_squared_error(test_arima, predict_arima_test)\n",
        "print(\"MSE Score test of ARIMA model = \", arima_score2)\n",
        "\n",
        "arima_score3 = mean_absolute_error(test_arima, predict_arima_test)\n",
        "print(\"MAE Score test of ARIMA model = \", arima_score3)\n",
        "\n",
        "arima_score4 = mean_squared_error(test_arima, predict_arima_test, squared=False)\n",
        "print(\"RMSE Score test of ARIMA model = \", arima_score4)\n",
        "\n",
        "arima_score5 = mean_absolute_percentage_error(test_arima, predict_arima_test)\n",
        "print(\"MAPE Score test of ARIMA model = \", arima_score5)"
      ]
    },
    {
      "cell_type": "markdown",
      "metadata": {
        "id": "da0aa63c"
      },
      "source": [
        "## LSTM ARIMA\n",
        "---"
      ]
    },
    {
      "cell_type": "code",
      "execution_count": null,
      "metadata": {
        "id": "6VKKHM4io35p",
        "outputId": "54dd2215-91bd-428a-ae49-01a521b1edba",
        "colab": {
          "base_uri": "https://localhost:8080/",
          "height": 455
        }
      },
      "outputs": [
        {
          "output_type": "execute_result",
          "data": {
            "text/plain": [
              "             Close  ISAT Predictions LSTM Training  \\\n",
              "Date                                                 \n",
              "2015-05-28  3630.0                     2797.197754   \n",
              "2015-05-29  3740.0                     2717.749268   \n",
              "2015-06-01  3725.0                     2797.823242   \n",
              "2015-06-03  3610.0                     2790.233643   \n",
              "2015-06-04  3610.0                     2699.602295   \n",
              "...            ...                             ...   \n",
              "2019-09-30  2850.0                     2212.348633   \n",
              "2019-10-01  2830.0                     2114.452393   \n",
              "2019-10-02  2670.0                     2089.007812   \n",
              "2019-10-03  2700.0                     1976.129883   \n",
              "2019-10-04  2810.0                     1984.881226   \n",
              "\n",
              "            ISAT Predictions ARIMA Training  \n",
              "Date                                         \n",
              "2015-05-28                           3735.0  \n",
              "2015-05-29                           3630.0  \n",
              "2015-06-01                           3740.0  \n",
              "2015-06-03                           3725.0  \n",
              "2015-06-04                           3610.0  \n",
              "...                                     ...  \n",
              "2019-09-30                           2980.0  \n",
              "2019-10-01                           2850.0  \n",
              "2019-10-02                           2830.0  \n",
              "2019-10-03                           2670.0  \n",
              "2019-10-04                           2700.0  \n",
              "\n",
              "[1104 rows x 3 columns]"
            ],
            "text/html": [
              "\n",
              "  <div id=\"df-bdcb80f1-f04b-4944-93c5-4c7d77e06347\">\n",
              "    <div class=\"colab-df-container\">\n",
              "      <div>\n",
              "<style scoped>\n",
              "    .dataframe tbody tr th:only-of-type {\n",
              "        vertical-align: middle;\n",
              "    }\n",
              "\n",
              "    .dataframe tbody tr th {\n",
              "        vertical-align: top;\n",
              "    }\n",
              "\n",
              "    .dataframe thead th {\n",
              "        text-align: right;\n",
              "    }\n",
              "</style>\n",
              "<table border=\"1\" class=\"dataframe\">\n",
              "  <thead>\n",
              "    <tr style=\"text-align: right;\">\n",
              "      <th></th>\n",
              "      <th>Close</th>\n",
              "      <th>ISAT Predictions LSTM Training</th>\n",
              "      <th>ISAT Predictions ARIMA Training</th>\n",
              "    </tr>\n",
              "    <tr>\n",
              "      <th>Date</th>\n",
              "      <th></th>\n",
              "      <th></th>\n",
              "      <th></th>\n",
              "    </tr>\n",
              "  </thead>\n",
              "  <tbody>\n",
              "    <tr>\n",
              "      <th>2015-05-28</th>\n",
              "      <td>3630.0</td>\n",
              "      <td>2797.197754</td>\n",
              "      <td>3735.0</td>\n",
              "    </tr>\n",
              "    <tr>\n",
              "      <th>2015-05-29</th>\n",
              "      <td>3740.0</td>\n",
              "      <td>2717.749268</td>\n",
              "      <td>3630.0</td>\n",
              "    </tr>\n",
              "    <tr>\n",
              "      <th>2015-06-01</th>\n",
              "      <td>3725.0</td>\n",
              "      <td>2797.823242</td>\n",
              "      <td>3740.0</td>\n",
              "    </tr>\n",
              "    <tr>\n",
              "      <th>2015-06-03</th>\n",
              "      <td>3610.0</td>\n",
              "      <td>2790.233643</td>\n",
              "      <td>3725.0</td>\n",
              "    </tr>\n",
              "    <tr>\n",
              "      <th>2015-06-04</th>\n",
              "      <td>3610.0</td>\n",
              "      <td>2699.602295</td>\n",
              "      <td>3610.0</td>\n",
              "    </tr>\n",
              "    <tr>\n",
              "      <th>...</th>\n",
              "      <td>...</td>\n",
              "      <td>...</td>\n",
              "      <td>...</td>\n",
              "    </tr>\n",
              "    <tr>\n",
              "      <th>2019-09-30</th>\n",
              "      <td>2850.0</td>\n",
              "      <td>2212.348633</td>\n",
              "      <td>2980.0</td>\n",
              "    </tr>\n",
              "    <tr>\n",
              "      <th>2019-10-01</th>\n",
              "      <td>2830.0</td>\n",
              "      <td>2114.452393</td>\n",
              "      <td>2850.0</td>\n",
              "    </tr>\n",
              "    <tr>\n",
              "      <th>2019-10-02</th>\n",
              "      <td>2670.0</td>\n",
              "      <td>2089.007812</td>\n",
              "      <td>2830.0</td>\n",
              "    </tr>\n",
              "    <tr>\n",
              "      <th>2019-10-03</th>\n",
              "      <td>2700.0</td>\n",
              "      <td>1976.129883</td>\n",
              "      <td>2670.0</td>\n",
              "    </tr>\n",
              "    <tr>\n",
              "      <th>2019-10-04</th>\n",
              "      <td>2810.0</td>\n",
              "      <td>1984.881226</td>\n",
              "      <td>2700.0</td>\n",
              "    </tr>\n",
              "  </tbody>\n",
              "</table>\n",
              "<p>1104 rows × 3 columns</p>\n",
              "</div>\n",
              "      <button class=\"colab-df-convert\" onclick=\"convertToInteractive('df-bdcb80f1-f04b-4944-93c5-4c7d77e06347')\"\n",
              "              title=\"Convert this dataframe to an interactive table.\"\n",
              "              style=\"display:none;\">\n",
              "        \n",
              "  <svg xmlns=\"http://www.w3.org/2000/svg\" height=\"24px\"viewBox=\"0 0 24 24\"\n",
              "       width=\"24px\">\n",
              "    <path d=\"M0 0h24v24H0V0z\" fill=\"none\"/>\n",
              "    <path d=\"M18.56 5.44l.94 2.06.94-2.06 2.06-.94-2.06-.94-.94-2.06-.94 2.06-2.06.94zm-11 1L8.5 8.5l.94-2.06 2.06-.94-2.06-.94L8.5 2.5l-.94 2.06-2.06.94zm10 10l.94 2.06.94-2.06 2.06-.94-2.06-.94-.94-2.06-.94 2.06-2.06.94z\"/><path d=\"M17.41 7.96l-1.37-1.37c-.4-.4-.92-.59-1.43-.59-.52 0-1.04.2-1.43.59L10.3 9.45l-7.72 7.72c-.78.78-.78 2.05 0 2.83L4 21.41c.39.39.9.59 1.41.59.51 0 1.02-.2 1.41-.59l7.78-7.78 2.81-2.81c.8-.78.8-2.07 0-2.86zM5.41 20L4 18.59l7.72-7.72 1.47 1.35L5.41 20z\"/>\n",
              "  </svg>\n",
              "      </button>\n",
              "      \n",
              "  <style>\n",
              "    .colab-df-container {\n",
              "      display:flex;\n",
              "      flex-wrap:wrap;\n",
              "      gap: 12px;\n",
              "    }\n",
              "\n",
              "    .colab-df-convert {\n",
              "      background-color: #E8F0FE;\n",
              "      border: none;\n",
              "      border-radius: 50%;\n",
              "      cursor: pointer;\n",
              "      display: none;\n",
              "      fill: #1967D2;\n",
              "      height: 32px;\n",
              "      padding: 0 0 0 0;\n",
              "      width: 32px;\n",
              "    }\n",
              "\n",
              "    .colab-df-convert:hover {\n",
              "      background-color: #E2EBFA;\n",
              "      box-shadow: 0px 1px 2px rgba(60, 64, 67, 0.3), 0px 1px 3px 1px rgba(60, 64, 67, 0.15);\n",
              "      fill: #174EA6;\n",
              "    }\n",
              "\n",
              "    [theme=dark] .colab-df-convert {\n",
              "      background-color: #3B4455;\n",
              "      fill: #D2E3FC;\n",
              "    }\n",
              "\n",
              "    [theme=dark] .colab-df-convert:hover {\n",
              "      background-color: #434B5C;\n",
              "      box-shadow: 0px 1px 3px 1px rgba(0, 0, 0, 0.15);\n",
              "      filter: drop-shadow(0px 1px 2px rgba(0, 0, 0, 0.3));\n",
              "      fill: #FFFFFF;\n",
              "    }\n",
              "  </style>\n",
              "\n",
              "      <script>\n",
              "        const buttonEl =\n",
              "          document.querySelector('#df-bdcb80f1-f04b-4944-93c5-4c7d77e06347 button.colab-df-convert');\n",
              "        buttonEl.style.display =\n",
              "          google.colab.kernel.accessAllowed ? 'block' : 'none';\n",
              "\n",
              "        async function convertToInteractive(key) {\n",
              "          const element = document.querySelector('#df-bdcb80f1-f04b-4944-93c5-4c7d77e06347');\n",
              "          const dataTable =\n",
              "            await google.colab.kernel.invokeFunction('convertToInteractive',\n",
              "                                                     [key], {});\n",
              "          if (!dataTable) return;\n",
              "\n",
              "          const docLinkHtml = 'Like what you see? Visit the ' +\n",
              "            '<a target=\"_blank\" href=https://colab.research.google.com/notebooks/data_table.ipynb>data table notebook</a>'\n",
              "            + ' to learn more about interactive tables.';\n",
              "          element.innerHTML = '';\n",
              "          dataTable['output_type'] = 'display_data';\n",
              "          await google.colab.output.renderOutput(dataTable, element);\n",
              "          const docLink = document.createElement('div');\n",
              "          docLink.innerHTML = docLinkHtml;\n",
              "          element.appendChild(docLink);\n",
              "        }\n",
              "      </script>\n",
              "    </div>\n",
              "  </div>\n",
              "  "
            ]
          },
          "metadata": {},
          "execution_count": 48
        }
      ],
      "source": [
        "#arima train\n",
        "predict_arima_train_ISA14_3 = result_train.predict(start=100, end=1203, dynamic=False)\n",
        "predict_arima_train_ISA14_4 = pd.DataFrame({'Date':predict_arima_train_ISA14_3.index, 'ISAT Predictions ARIMA Training':predict_arima_train_ISA14_3.values})\n",
        "\n",
        "#lstm arima train\n",
        "predict_lstm_arima_train_ISA14 = predict_lstm_train_ISA14_3.join(predict_arima_train_ISA14_4.set_index('Date'))\n",
        "predict_lstm_arima_train_ISA14"
      ]
    },
    {
      "cell_type": "code",
      "execution_count": null,
      "metadata": {
        "id": "O9QIL2DIo35p",
        "outputId": "b9947685-14f8-449d-8824-eeea51be22e0",
        "colab": {
          "base_uri": "https://localhost:8080/",
          "height": 455
        }
      },
      "outputs": [
        {
          "output_type": "execute_result",
          "data": {
            "text/plain": [
              "             Close  ISAT Predictions LSTM Testing  \\\n",
              "Date                                                \n",
              "2020-02-28  2040.0                    2055.183350   \n",
              "2020-03-02  2090.0                    2038.571533   \n",
              "2020-03-03  2160.0                    2086.620117   \n",
              "2020-03-04  2260.0                    2159.562256   \n",
              "2020-03-05  2240.0                    2261.426758   \n",
              "...            ...                            ...   \n",
              "2020-12-22  5250.0                    5686.106445   \n",
              "2020-12-23  5650.0                    5133.603027   \n",
              "2020-12-28  5650.0                    5744.799316   \n",
              "2020-12-29  5275.0                    5639.459473   \n",
              "2020-12-30  5050.0                    5258.678711   \n",
              "\n",
              "            ISAT Predictions ARIMA Testing  \n",
              "Date                                        \n",
              "2020-02-28                          2050.0  \n",
              "2020-03-02                          2040.0  \n",
              "2020-03-03                          2090.0  \n",
              "2020-03-04                          2160.0  \n",
              "2020-03-05                          2260.0  \n",
              "...                                    ...  \n",
              "2020-12-22                          5500.0  \n",
              "2020-12-23                          5250.0  \n",
              "2020-12-28                          5650.0  \n",
              "2020-12-29                          5650.0  \n",
              "2020-12-30                          5275.0  \n",
              "\n",
              "[201 rows x 3 columns]"
            ],
            "text/html": [
              "\n",
              "  <div id=\"df-2bfc041d-9d43-4991-a9a7-69f7ae4e8900\">\n",
              "    <div class=\"colab-df-container\">\n",
              "      <div>\n",
              "<style scoped>\n",
              "    .dataframe tbody tr th:only-of-type {\n",
              "        vertical-align: middle;\n",
              "    }\n",
              "\n",
              "    .dataframe tbody tr th {\n",
              "        vertical-align: top;\n",
              "    }\n",
              "\n",
              "    .dataframe thead th {\n",
              "        text-align: right;\n",
              "    }\n",
              "</style>\n",
              "<table border=\"1\" class=\"dataframe\">\n",
              "  <thead>\n",
              "    <tr style=\"text-align: right;\">\n",
              "      <th></th>\n",
              "      <th>Close</th>\n",
              "      <th>ISAT Predictions LSTM Testing</th>\n",
              "      <th>ISAT Predictions ARIMA Testing</th>\n",
              "    </tr>\n",
              "    <tr>\n",
              "      <th>Date</th>\n",
              "      <th></th>\n",
              "      <th></th>\n",
              "      <th></th>\n",
              "    </tr>\n",
              "  </thead>\n",
              "  <tbody>\n",
              "    <tr>\n",
              "      <th>2020-02-28</th>\n",
              "      <td>2040.0</td>\n",
              "      <td>2055.183350</td>\n",
              "      <td>2050.0</td>\n",
              "    </tr>\n",
              "    <tr>\n",
              "      <th>2020-03-02</th>\n",
              "      <td>2090.0</td>\n",
              "      <td>2038.571533</td>\n",
              "      <td>2040.0</td>\n",
              "    </tr>\n",
              "    <tr>\n",
              "      <th>2020-03-03</th>\n",
              "      <td>2160.0</td>\n",
              "      <td>2086.620117</td>\n",
              "      <td>2090.0</td>\n",
              "    </tr>\n",
              "    <tr>\n",
              "      <th>2020-03-04</th>\n",
              "      <td>2260.0</td>\n",
              "      <td>2159.562256</td>\n",
              "      <td>2160.0</td>\n",
              "    </tr>\n",
              "    <tr>\n",
              "      <th>2020-03-05</th>\n",
              "      <td>2240.0</td>\n",
              "      <td>2261.426758</td>\n",
              "      <td>2260.0</td>\n",
              "    </tr>\n",
              "    <tr>\n",
              "      <th>...</th>\n",
              "      <td>...</td>\n",
              "      <td>...</td>\n",
              "      <td>...</td>\n",
              "    </tr>\n",
              "    <tr>\n",
              "      <th>2020-12-22</th>\n",
              "      <td>5250.0</td>\n",
              "      <td>5686.106445</td>\n",
              "      <td>5500.0</td>\n",
              "    </tr>\n",
              "    <tr>\n",
              "      <th>2020-12-23</th>\n",
              "      <td>5650.0</td>\n",
              "      <td>5133.603027</td>\n",
              "      <td>5250.0</td>\n",
              "    </tr>\n",
              "    <tr>\n",
              "      <th>2020-12-28</th>\n",
              "      <td>5650.0</td>\n",
              "      <td>5744.799316</td>\n",
              "      <td>5650.0</td>\n",
              "    </tr>\n",
              "    <tr>\n",
              "      <th>2020-12-29</th>\n",
              "      <td>5275.0</td>\n",
              "      <td>5639.459473</td>\n",
              "      <td>5650.0</td>\n",
              "    </tr>\n",
              "    <tr>\n",
              "      <th>2020-12-30</th>\n",
              "      <td>5050.0</td>\n",
              "      <td>5258.678711</td>\n",
              "      <td>5275.0</td>\n",
              "    </tr>\n",
              "  </tbody>\n",
              "</table>\n",
              "<p>201 rows × 3 columns</p>\n",
              "</div>\n",
              "      <button class=\"colab-df-convert\" onclick=\"convertToInteractive('df-2bfc041d-9d43-4991-a9a7-69f7ae4e8900')\"\n",
              "              title=\"Convert this dataframe to an interactive table.\"\n",
              "              style=\"display:none;\">\n",
              "        \n",
              "  <svg xmlns=\"http://www.w3.org/2000/svg\" height=\"24px\"viewBox=\"0 0 24 24\"\n",
              "       width=\"24px\">\n",
              "    <path d=\"M0 0h24v24H0V0z\" fill=\"none\"/>\n",
              "    <path d=\"M18.56 5.44l.94 2.06.94-2.06 2.06-.94-2.06-.94-.94-2.06-.94 2.06-2.06.94zm-11 1L8.5 8.5l.94-2.06 2.06-.94-2.06-.94L8.5 2.5l-.94 2.06-2.06.94zm10 10l.94 2.06.94-2.06 2.06-.94-2.06-.94-.94-2.06-.94 2.06-2.06.94z\"/><path d=\"M17.41 7.96l-1.37-1.37c-.4-.4-.92-.59-1.43-.59-.52 0-1.04.2-1.43.59L10.3 9.45l-7.72 7.72c-.78.78-.78 2.05 0 2.83L4 21.41c.39.39.9.59 1.41.59.51 0 1.02-.2 1.41-.59l7.78-7.78 2.81-2.81c.8-.78.8-2.07 0-2.86zM5.41 20L4 18.59l7.72-7.72 1.47 1.35L5.41 20z\"/>\n",
              "  </svg>\n",
              "      </button>\n",
              "      \n",
              "  <style>\n",
              "    .colab-df-container {\n",
              "      display:flex;\n",
              "      flex-wrap:wrap;\n",
              "      gap: 12px;\n",
              "    }\n",
              "\n",
              "    .colab-df-convert {\n",
              "      background-color: #E8F0FE;\n",
              "      border: none;\n",
              "      border-radius: 50%;\n",
              "      cursor: pointer;\n",
              "      display: none;\n",
              "      fill: #1967D2;\n",
              "      height: 32px;\n",
              "      padding: 0 0 0 0;\n",
              "      width: 32px;\n",
              "    }\n",
              "\n",
              "    .colab-df-convert:hover {\n",
              "      background-color: #E2EBFA;\n",
              "      box-shadow: 0px 1px 2px rgba(60, 64, 67, 0.3), 0px 1px 3px 1px rgba(60, 64, 67, 0.15);\n",
              "      fill: #174EA6;\n",
              "    }\n",
              "\n",
              "    [theme=dark] .colab-df-convert {\n",
              "      background-color: #3B4455;\n",
              "      fill: #D2E3FC;\n",
              "    }\n",
              "\n",
              "    [theme=dark] .colab-df-convert:hover {\n",
              "      background-color: #434B5C;\n",
              "      box-shadow: 0px 1px 3px 1px rgba(0, 0, 0, 0.15);\n",
              "      filter: drop-shadow(0px 1px 2px rgba(0, 0, 0, 0.3));\n",
              "      fill: #FFFFFF;\n",
              "    }\n",
              "  </style>\n",
              "\n",
              "      <script>\n",
              "        const buttonEl =\n",
              "          document.querySelector('#df-2bfc041d-9d43-4991-a9a7-69f7ae4e8900 button.colab-df-convert');\n",
              "        buttonEl.style.display =\n",
              "          google.colab.kernel.accessAllowed ? 'block' : 'none';\n",
              "\n",
              "        async function convertToInteractive(key) {\n",
              "          const element = document.querySelector('#df-2bfc041d-9d43-4991-a9a7-69f7ae4e8900');\n",
              "          const dataTable =\n",
              "            await google.colab.kernel.invokeFunction('convertToInteractive',\n",
              "                                                     [key], {});\n",
              "          if (!dataTable) return;\n",
              "\n",
              "          const docLinkHtml = 'Like what you see? Visit the ' +\n",
              "            '<a target=\"_blank\" href=https://colab.research.google.com/notebooks/data_table.ipynb>data table notebook</a>'\n",
              "            + ' to learn more about interactive tables.';\n",
              "          element.innerHTML = '';\n",
              "          dataTable['output_type'] = 'display_data';\n",
              "          await google.colab.output.renderOutput(dataTable, element);\n",
              "          const docLink = document.createElement('div');\n",
              "          docLink.innerHTML = docLinkHtml;\n",
              "          element.appendChild(docLink);\n",
              "        }\n",
              "      </script>\n",
              "    </div>\n",
              "  </div>\n",
              "  "
            ]
          },
          "metadata": {},
          "execution_count": 49
        }
      ],
      "source": [
        "#arima test\n",
        "predict_arima_test_ISA14_3 = result_test.predict(start=100, end=300, dynamic=False)\n",
        "predict_arima_test_ISA14_4 = pd.DataFrame({'Date':predict_arima_test_ISA14_3.index, 'ISAT Predictions ARIMA Testing':predict_arima_test_ISA14_3.values})\n",
        "\n",
        "#lstm arima train\n",
        "predict_lstm_arima_test_ISA14 = predict_lstm_test_ISA14_3.join(predict_arima_test_ISA14_4.set_index('Date'))\n",
        "predict_lstm_arima_test_ISA14"
      ]
    },
    {
      "cell_type": "code",
      "execution_count": null,
      "metadata": {
        "id": "Metki3MWo35q",
        "outputId": "abefa3fd-b774-4814-d4e8-5abece51c388",
        "colab": {
          "base_uri": "https://localhost:8080/"
        }
      },
      "outputs": [
        {
          "output_type": "stream",
          "name": "stdout",
          "text": [
            "R2 Score train of LSTM model =  0.4331892910440215\n",
            "MSE Score train of LSTM model =  1488161.7975798193\n",
            "MAE Score train of LSTM model =  1159.1779075290847\n",
            "RMSE Score train of LSTM model =  1219.9023721510748\n",
            "MAPE Score train of LSTM model =  0.24591070344446617\n"
          ]
        }
      ],
      "source": [
        "## LSTM training accuracy\n",
        "\n",
        "lstm_score1 = r2_score(train, predict_train)\n",
        "print(\"R2 Score train of LSTM model = \", lstm_score1)\n",
        "\n",
        "lstm_score2 = mean_squared_error(train, predict_train)\n",
        "print(\"MSE Score train of LSTM model = \", lstm_score2)\n",
        "\n",
        "lstm_score3 = mean_absolute_error(train, predict_train)\n",
        "print(\"MAE Score train of LSTM model = \", lstm_score3)\n",
        "\n",
        "lstm_score4 = mean_squared_error(train, predict_train, squared=False)\n",
        "print(\"RMSE Score train of LSTM model = \", lstm_score4)\n",
        "\n",
        "lstm_score5 = mean_absolute_percentage_error(train, predict_train)\n",
        "print(\"MAPE Score train of LSTM model = \", lstm_score5)"
      ]
    },
    {
      "cell_type": "code",
      "execution_count": null,
      "metadata": {
        "id": "F_B3A4wio35q",
        "outputId": "5f72dece-ea39-4146-8ada-03262626a60d",
        "colab": {
          "base_uri": "https://localhost:8080/"
        }
      },
      "outputs": [
        {
          "output_type": "stream",
          "name": "stdout",
          "text": [
            "R2 Score train of ARIMA model =  0.9956782998432143\n",
            "MSE Score train of ARIMA model =  11346.625905797102\n",
            "MAE Score train of ARIMA model =  70.13134057971014\n",
            "RMSE Score train of ARIMA model =  106.52054217754011\n",
            "MAPE Score train of ARIMA model =  0.016544925991065468\n"
          ]
        }
      ],
      "source": [
        "#ARIMA training accuracy\n",
        "\n",
        "arima_score1 = r2_score(train, predict_arima_train_ISA14_3)\n",
        "print(\"R2 Score train of ARIMA model = \", arima_score1)\n",
        "\n",
        "arima_score2 = mean_squared_error(train, predict_arima_train_ISA14_3)\n",
        "print(\"MSE Score train of ARIMA model = \", arima_score2)\n",
        "\n",
        "arima_score3 = mean_absolute_error(train, predict_arima_train_ISA14_3)\n",
        "print(\"MAE Score train of ARIMA model = \", arima_score3)\n",
        "\n",
        "arima_score4 = mean_squared_error(train, predict_arima_train_ISA14_3, squared=False)\n",
        "print(\"RMSE Score train of ARIMA model = \", arima_score4)\n",
        "\n",
        "arima_score5 = mean_absolute_percentage_error(train, predict_arima_train_ISA14_3)\n",
        "print(\"MAPE Score train of ARIMA model = \", arima_score5)"
      ]
    },
    {
      "cell_type": "code",
      "execution_count": null,
      "metadata": {
        "id": "F4Cu2MtVo35q",
        "outputId": "78f01443-72fd-4070-d60b-b60584420a4b",
        "colab": {
          "base_uri": "https://localhost:8080/"
        }
      },
      "outputs": [
        {
          "output_type": "stream",
          "name": "stdout",
          "text": [
            "R2 Score of LSTM model =  0.953978587986914\n",
            "MSE Score of LSTM model =  20738.012770575595\n",
            "MAE Score of LSTM model =  80.58660129528141\n",
            "RMSE Score of LSTM model =  144.00698861713482\n",
            "MAPE Score of LSTM model =  0.032625653226493086\n"
          ]
        }
      ],
      "source": [
        "##LSTM testing accuracy\n",
        "\n",
        "lstm_score1 = r2_score(test, predict_test)\n",
        "print(\"R2 Score of LSTM model = \", lstm_score1)\n",
        "\n",
        "lstm_score2 = mean_squared_error(test, predict_test)\n",
        "print(\"MSE Score of LSTM model = \", lstm_score2)\n",
        "\n",
        "lstm_score3 = mean_absolute_error(test, predict_test)\n",
        "print(\"MAE Score of LSTM model = \", lstm_score3)\n",
        "\n",
        "lstm_score4 = mean_squared_error(test, predict_test, squared=False)\n",
        "print(\"RMSE Score of LSTM model = \", lstm_score4)\n",
        "\n",
        "lstm_score5 = mean_absolute_percentage_error(test, predict_test)\n",
        "print(\"MAPE Score of LSTM model = \", lstm_score5)"
      ]
    },
    {
      "cell_type": "code",
      "execution_count": null,
      "metadata": {
        "id": "63piPHR5o35r",
        "outputId": "3bb28f3d-c662-4881-90a6-10ebe859278c",
        "colab": {
          "base_uri": "https://localhost:8080/"
        }
      },
      "outputs": [
        {
          "output_type": "stream",
          "name": "stdout",
          "text": [
            "R2 Score test of ARIMA model =  0.954992020413986\n",
            "MSE Score test of ARIMA model =  20281.343283582093\n",
            "MAE Score test of ARIMA model =  77.01492537313433\n",
            "RMSE Score test of ARIMA model =  142.41258119836917\n",
            "MAPE Score test of ARIMA model =  0.03126772651704256\n"
          ]
        }
      ],
      "source": [
        "#ARIMA testing accuracy\n",
        "\n",
        "\n",
        "arima_score1 = r2_score(test, predict_arima_test_ISA14_3)\n",
        "print(\"R2 Score test of ARIMA model = \", arima_score1)\n",
        "\n",
        "arima_score2 = mean_squared_error(test, predict_arima_test_ISA14_3)\n",
        "print(\"MSE Score test of ARIMA model = \", arima_score2)\n",
        "\n",
        "arima_score3 = mean_absolute_error(test, predict_arima_test_ISA14_3)\n",
        "print(\"MAE Score test of ARIMA model = \", arima_score3)\n",
        "\n",
        "arima_score4 = mean_squared_error(test, predict_arima_test_ISA14_3, squared=False)\n",
        "print(\"RMSE Score test of ARIMA model = \", arima_score4)\n",
        "\n",
        "arima_score5 = mean_absolute_percentage_error(test, predict_arima_test_ISA14_3)\n",
        "print(\"MAPE Score test of ARIMA model = \", arima_score5)"
      ]
    },
    {
      "cell_type": "code",
      "execution_count": null,
      "metadata": {
        "id": "3AFROgwCskYb",
        "outputId": "f64d6090-0b82-41f2-faa2-65d800949895",
        "colab": {
          "base_uri": "https://localhost:8080/",
          "height": 513
        }
      },
      "outputs": [
        {
          "output_type": "display_data",
          "data": {
            "text/plain": [
              "<Figure size 1080x576 with 1 Axes>"
            ],
            "image/png": "[encoded data removed]"
          },
          "metadata": {
            "needs_background": "light"
          }
        }
      ],
      "source": [
        "#Visualisation Predict LSTM ARIMA Train\n",
        "train_ISA14 = predict_lstm_arima_train_ISA14.Close\n",
        "lstm_train_ISA14 = predict_lstm_arima_train_ISA14[\"ISAT Predictions LSTM Training\"]\n",
        "arima_train_ISA14 = predict_lstm_arima_train_ISA14[\"ISAT Predictions ARIMA Training\"]\n",
        "\n",
        "def plot_predictionscoba(clse, plstm, parima, title):\n",
        "    plt.figure(figsize=(15,8))\n",
        "    plt.plot(train_ISA14, linewidth=3, color='orange',label='ISAT Actual TLKM Close Stock Data')\n",
        "    plt.plot(lstm_train_ISA14, linewidth=2, color='red',label='ISAT Predicted LSTM Training TLKM Close Stock Data')\n",
        "    plt.plot(arima_train_ISA14, linewidth=2, color='black',label='ISAT Predicted ARIMA Training TLKM Close Stock Data')\n",
        "    plt.title(title)\n",
        "    plt.xlabel('Date')\n",
        "    plt.ylabel('Actual Close Stock TLKM Training')\n",
        "    plt.legend()\n",
        "    plt.show()\n",
        "plot_predictionscoba(train_ISA14, lstm_train_ISA14, arima_train_ISA14, \"ISAT Actual vs Prediction Training 28-05-2015 to 04-10-2019\")"
      ]
    },
    {
      "cell_type": "code",
      "execution_count": null,
      "metadata": {
        "id": "eCv_mSr0o35s",
        "outputId": "4b5f9dec-16e6-4d7c-e1b6-cb33eacb723c",
        "colab": {
          "base_uri": "https://localhost:8080/",
          "height": 513
        }
      },
      "outputs": [
        {
          "output_type": "display_data",
          "data": {
            "text/plain": [
              "<Figure size 1080x576 with 1 Axes>"
            ],
            "image/png": "[encoded data removed]"
          },
          "metadata": {
            "needs_background": "light"
          }
        }
      ],
      "source": [
        "#Visualisation Predict LSTM ARIMA Test\n",
        "test_ISA14 = predict_lstm_arima_test_ISA14.Close\n",
        "lstm_test_ISA14 = predict_lstm_arima_test_ISA14[\"ISAT Predictions LSTM Testing\"]\n",
        "arima_test_ISA14 = predict_lstm_arima_test_ISA14[\"ISAT Predictions ARIMA Testing\"]\n",
        "\n",
        "def plot_predictionscoba(clse, plstm, parima, title):\n",
        "    plt.figure(figsize=(15,8))\n",
        "    plt.plot(test_ISA14, linewidth=3, color='orange',label='ISAT Actual TLKM Close Stock Data')\n",
        "    plt.plot(lstm_test_ISA14, linewidth=2, color='red',label='ISAT Predicted LSTM TLKM Close Stock Data')\n",
        "    plt.plot(arima_test_ISA14, linewidth=2, color='black',label='ISAT Predicted ARIMA TLKM Close Stock Data')\n",
        "    plt.title(title)\n",
        "    plt.xlabel('Date')\n",
        "    plt.ylabel('Actual Close Stock TLKM')\n",
        "    plt.legend()\n",
        "    plt.show()\n",
        "plot_predictionscoba(test_ISA14, lstm_test_ISA14, arima_test_ISA14, \"ISAT Actual vs Prediction 28-02-2020 to 30-12-2020\")"
      ]
    },
    {
      "cell_type": "markdown",
      "metadata": {
        "id": "mQxUNVkOrdjn"
      },
      "source": [
        "---\n",
        "## File\n",
        "---\n",
        "\n",
        "Create a file from the prediction results\n",
        "\n",
        "This step works for those using the application on a computer"
      ]
    },
    {
      "cell_type": "code",
      "execution_count": null,
      "metadata": {
        "id": "X5t7DEPark1Z",
        "outputId": "2fdbe99a-1884-423a-f127-2c3bb22927c5"
      },
      "outputs": [
        {
          "data": {
            "text/html": [
              "<div>\n",
              "<style scoped>\n",
              "    .dataframe tbody tr th:only-of-type {\n",
              "        vertical-align: middle;\n",
              "    }\n",
              "\n",
              "    .dataframe tbody tr th {\n",
              "        vertical-align: top;\n",
              "    }\n",
              "\n",
              "    .dataframe thead th {\n",
              "        text-align: right;\n",
              "    }\n",
              "</style>\n",
              "<table border=\"1\" class=\"dataframe\">\n",
              "  <thead>\n",
              "    <tr style=\"text-align: right;\">\n",
              "      <th></th>\n",
              "      <th>Date</th>\n",
              "      <th>Close</th>\n",
              "    </tr>\n",
              "  </thead>\n",
              "  <tbody>\n",
              "    <tr>\n",
              "      <th>0</th>\n",
              "      <td>2015-01-02</td>\n",
              "      <td>2344.27</td>\n",
              "    </tr>\n",
              "    <tr>\n",
              "      <th>1</th>\n",
              "      <td>2015-01-05</td>\n",
              "      <td>2323.78</td>\n",
              "    </tr>\n",
              "    <tr>\n",
              "      <th>2</th>\n",
              "      <td>2015-01-06</td>\n",
              "      <td>2307.38</td>\n",
              "    </tr>\n",
              "    <tr>\n",
              "      <th>3</th>\n",
              "      <td>2015-01-07</td>\n",
              "      <td>2303.28</td>\n",
              "    </tr>\n",
              "    <tr>\n",
              "      <th>4</th>\n",
              "      <td>2015-01-08</td>\n",
              "      <td>2323.78</td>\n",
              "    </tr>\n",
              "    <tr>\n",
              "      <th>...</th>\n",
              "      <td>...</td>\n",
              "      <td>...</td>\n",
              "    </tr>\n",
              "    <tr>\n",
              "      <th>1500</th>\n",
              "      <td>2020-12-22</td>\n",
              "      <td>3085.84</td>\n",
              "    </tr>\n",
              "    <tr>\n",
              "      <th>1501</th>\n",
              "      <td>2020-12-23</td>\n",
              "      <td>3049.10</td>\n",
              "    </tr>\n",
              "    <tr>\n",
              "      <th>1502</th>\n",
              "      <td>2020-12-28</td>\n",
              "      <td>3150.13</td>\n",
              "    </tr>\n",
              "    <tr>\n",
              "      <th>1503</th>\n",
              "      <td>2020-12-29</td>\n",
              "      <td>3140.95</td>\n",
              "    </tr>\n",
              "    <tr>\n",
              "      <th>1504</th>\n",
              "      <td>2020-12-30</td>\n",
              "      <td>3039.92</td>\n",
              "    </tr>\n",
              "  </tbody>\n",
              "</table>\n",
              "<p>1505 rows × 2 columns</p>\n",
              "</div>"
            ],
            "text/plain": [
              "           Date    Close\n",
              "0    2015-01-02  2344.27\n",
              "1    2015-01-05  2323.78\n",
              "2    2015-01-06  2307.38\n",
              "3    2015-01-07  2303.28\n",
              "4    2015-01-08  2323.78\n",
              "...         ...      ...\n",
              "1500 2020-12-22  3085.84\n",
              "1501 2020-12-23  3049.10\n",
              "1502 2020-12-28  3150.13\n",
              "1503 2020-12-29  3140.95\n",
              "1504 2020-12-30  3039.92\n",
              "\n",
              "[1505 rows x 2 columns]"
            ]
          },
          "execution_count": 54,
          "metadata": {},
          "output_type": "execute_result"
        }
      ],
      "source": [
        "##data\n",
        "dataused = pd.DataFrame({'Date':df.index, 'Close':df.values})\n",
        "dataused = dataused.set_index('Date')\n",
        "dataused.to_excel(\"D:\\Python\\Hasil\\Python5\\E10\\Data Used.xlsx\")\n",
        "dataused = pd.read_excel(\"D:\\Python\\Hasil\\Python5\\E10\\Data Used.xlsx\")\n",
        "dataused"
      ]
    },
    {
      "cell_type": "code",
      "execution_count": null,
      "metadata": {
        "id": "Ee-jSxijo35t",
        "outputId": "b60b1521-81f3-43b1-e926-d114220c515a"
      },
      "outputs": [
        {
          "data": {
            "text/html": [
              "<div>\n",
              "<style scoped>\n",
              "    .dataframe tbody tr th:only-of-type {\n",
              "        vertical-align: middle;\n",
              "    }\n",
              "\n",
              "    .dataframe tbody tr th {\n",
              "        vertical-align: top;\n",
              "    }\n",
              "\n",
              "    .dataframe thead th {\n",
              "        text-align: right;\n",
              "    }\n",
              "</style>\n",
              "<table border=\"1\" class=\"dataframe\">\n",
              "  <thead>\n",
              "    <tr style=\"text-align: right;\">\n",
              "      <th></th>\n",
              "      <th>Date</th>\n",
              "      <th>Close</th>\n",
              "      <th>Predictions LSTM Training</th>\n",
              "    </tr>\n",
              "  </thead>\n",
              "  <tbody>\n",
              "    <tr>\n",
              "      <th>0</th>\n",
              "      <td>2015-01-09</td>\n",
              "      <td>2344.27</td>\n",
              "      <td>2440.362061</td>\n",
              "    </tr>\n",
              "    <tr>\n",
              "      <th>1</th>\n",
              "      <td>2015-01-12</td>\n",
              "      <td>2323.78</td>\n",
              "      <td>2449.731445</td>\n",
              "    </tr>\n",
              "    <tr>\n",
              "      <th>2</th>\n",
              "      <td>2015-01-13</td>\n",
              "      <td>2327.87</td>\n",
              "      <td>2441.711914</td>\n",
              "    </tr>\n",
              "    <tr>\n",
              "      <th>3</th>\n",
              "      <td>2015-01-14</td>\n",
              "      <td>2315.58</td>\n",
              "      <td>2442.800049</td>\n",
              "    </tr>\n",
              "    <tr>\n",
              "      <th>4</th>\n",
              "      <td>2015-01-15</td>\n",
              "      <td>2319.68</td>\n",
              "      <td>2437.914795</td>\n",
              "    </tr>\n",
              "    <tr>\n",
              "      <th>...</th>\n",
              "      <td>...</td>\n",
              "      <td>...</td>\n",
              "      <td>...</td>\n",
              "    </tr>\n",
              "    <tr>\n",
              "      <th>1344</th>\n",
              "      <td>2020-05-06</td>\n",
              "      <td>2831.47</td>\n",
              "      <td>2725.708496</td>\n",
              "    </tr>\n",
              "    <tr>\n",
              "      <th>1345</th>\n",
              "      <td>2020-05-08</td>\n",
              "      <td>2787.77</td>\n",
              "      <td>2696.467773</td>\n",
              "    </tr>\n",
              "    <tr>\n",
              "      <th>1346</th>\n",
              "      <td>2020-05-11</td>\n",
              "      <td>2813.99</td>\n",
              "      <td>2676.837891</td>\n",
              "    </tr>\n",
              "    <tr>\n",
              "      <th>1347</th>\n",
              "      <td>2020-05-12</td>\n",
              "      <td>2752.81</td>\n",
              "      <td>2685.355469</td>\n",
              "    </tr>\n",
              "    <tr>\n",
              "      <th>1348</th>\n",
              "      <td>2020-05-13</td>\n",
              "      <td>2761.55</td>\n",
              "      <td>2657.117920</td>\n",
              "    </tr>\n",
              "  </tbody>\n",
              "</table>\n",
              "<p>1349 rows × 3 columns</p>\n",
              "</div>"
            ],
            "text/plain": [
              "           Date    Close  Predictions LSTM Training\n",
              "0    2015-01-09  2344.27                2440.362061\n",
              "1    2015-01-12  2323.78                2449.731445\n",
              "2    2015-01-13  2327.87                2441.711914\n",
              "3    2015-01-14  2315.58                2442.800049\n",
              "4    2015-01-15  2319.68                2437.914795\n",
              "...         ...      ...                        ...\n",
              "1344 2020-05-06  2831.47                2725.708496\n",
              "1345 2020-05-08  2787.77                2696.467773\n",
              "1346 2020-05-11  2813.99                2676.837891\n",
              "1347 2020-05-12  2752.81                2685.355469\n",
              "1348 2020-05-13  2761.55                2657.117920\n",
              "\n",
              "[1349 rows x 3 columns]"
            ]
          },
          "execution_count": 55,
          "metadata": {},
          "output_type": "execute_result"
        }
      ],
      "source": [
        "#file predict data training lstm\n",
        "predict_lstm_train_E10_3.to_excel(\"D:\\Python\\Hasil\\Python5\\E10\\Predict Data Training LSTM.xlsx\")\n",
        "predict_lstm_train_E10_3 = pd.read_excel(\"D:\\Python\\Hasil\\Python5\\E10\\Predict Data Training LSTM.xlsx\")\n",
        "predict_lstm_train_E10_3"
      ]
    },
    {
      "cell_type": "code",
      "execution_count": null,
      "metadata": {
        "id": "CWKPZJsxo35t",
        "outputId": "473d700e-41c1-4f3d-d57d-6a9739d2bb80"
      },
      "outputs": [
        {
          "data": {
            "text/html": [
              "<div>\n",
              "<style scoped>\n",
              "    .dataframe tbody tr th:only-of-type {\n",
              "        vertical-align: middle;\n",
              "    }\n",
              "\n",
              "    .dataframe tbody tr th {\n",
              "        vertical-align: top;\n",
              "    }\n",
              "\n",
              "    .dataframe thead th {\n",
              "        text-align: right;\n",
              "    }\n",
              "</style>\n",
              "<table border=\"1\" class=\"dataframe\">\n",
              "  <thead>\n",
              "    <tr style=\"text-align: right;\">\n",
              "      <th></th>\n",
              "      <th>Date</th>\n",
              "      <th>Close</th>\n",
              "      <th>Predictions LSTM Testing</th>\n",
              "    </tr>\n",
              "  </thead>\n",
              "  <tbody>\n",
              "    <tr>\n",
              "      <th>0</th>\n",
              "      <td>2020-05-26</td>\n",
              "      <td>2840.20</td>\n",
              "      <td>2774.841797</td>\n",
              "    </tr>\n",
              "    <tr>\n",
              "      <th>1</th>\n",
              "      <td>2020-05-27</td>\n",
              "      <td>2770.29</td>\n",
              "      <td>2837.265137</td>\n",
              "    </tr>\n",
              "    <tr>\n",
              "      <th>2</th>\n",
              "      <td>2020-05-28</td>\n",
              "      <td>2735.34</td>\n",
              "      <td>2773.565918</td>\n",
              "    </tr>\n",
              "    <tr>\n",
              "      <th>3</th>\n",
              "      <td>2020-05-29</td>\n",
              "      <td>2752.81</td>\n",
              "      <td>2743.172607</td>\n",
              "    </tr>\n",
              "    <tr>\n",
              "      <th>4</th>\n",
              "      <td>2020-06-02</td>\n",
              "      <td>2840.20</td>\n",
              "      <td>2757.115967</td>\n",
              "    </tr>\n",
              "    <tr>\n",
              "      <th>...</th>\n",
              "      <td>...</td>\n",
              "      <td>...</td>\n",
              "      <td>...</td>\n",
              "    </tr>\n",
              "    <tr>\n",
              "      <th>141</th>\n",
              "      <td>2020-12-22</td>\n",
              "      <td>3085.84</td>\n",
              "      <td>3230.173584</td>\n",
              "    </tr>\n",
              "    <tr>\n",
              "      <th>142</th>\n",
              "      <td>2020-12-23</td>\n",
              "      <td>3049.10</td>\n",
              "      <td>3081.946289</td>\n",
              "    </tr>\n",
              "    <tr>\n",
              "      <th>143</th>\n",
              "      <td>2020-12-28</td>\n",
              "      <td>3150.13</td>\n",
              "      <td>3064.074219</td>\n",
              "    </tr>\n",
              "    <tr>\n",
              "      <th>144</th>\n",
              "      <td>2020-12-29</td>\n",
              "      <td>3140.95</td>\n",
              "      <td>3162.147217</td>\n",
              "    </tr>\n",
              "    <tr>\n",
              "      <th>145</th>\n",
              "      <td>2020-12-30</td>\n",
              "      <td>3039.92</td>\n",
              "      <td>3134.477539</td>\n",
              "    </tr>\n",
              "  </tbody>\n",
              "</table>\n",
              "<p>146 rows × 3 columns</p>\n",
              "</div>"
            ],
            "text/plain": [
              "          Date    Close  Predictions LSTM Testing\n",
              "0   2020-05-26  2840.20               2774.841797\n",
              "1   2020-05-27  2770.29               2837.265137\n",
              "2   2020-05-28  2735.34               2773.565918\n",
              "3   2020-05-29  2752.81               2743.172607\n",
              "4   2020-06-02  2840.20               2757.115967\n",
              "..         ...      ...                       ...\n",
              "141 2020-12-22  3085.84               3230.173584\n",
              "142 2020-12-23  3049.10               3081.946289\n",
              "143 2020-12-28  3150.13               3064.074219\n",
              "144 2020-12-29  3140.95               3162.147217\n",
              "145 2020-12-30  3039.92               3134.477539\n",
              "\n",
              "[146 rows x 3 columns]"
            ]
          },
          "execution_count": 56,
          "metadata": {},
          "output_type": "execute_result"
        }
      ],
      "source": [
        "#file predict data testing lstm\n",
        "predict_lstm_test_E10_3.to_excel(\"D:\\Python\\Hasil\\Python5\\E10\\Predict Data Testing LSTM.xlsx\")\n",
        "predict_lstm_test_E10_3 = pd.read_excel(\"D:\\Python\\Hasil\\Python5\\E10\\Predict Data Testing LSTM.xlsx\")\n",
        "predict_lstm_test_E10_3"
      ]
    },
    {
      "cell_type": "code",
      "execution_count": null,
      "metadata": {
        "id": "LpUnyOwyo35t",
        "outputId": "6dd987cc-f171-483d-da45-8c7ebcf9ecd7"
      },
      "outputs": [
        {
          "data": {
            "text/html": [
              "<div>\n",
              "<style scoped>\n",
              "    .dataframe tbody tr th:only-of-type {\n",
              "        vertical-align: middle;\n",
              "    }\n",
              "\n",
              "    .dataframe tbody tr th {\n",
              "        vertical-align: top;\n",
              "    }\n",
              "\n",
              "    .dataframe thead th {\n",
              "        text-align: right;\n",
              "    }\n",
              "</style>\n",
              "<table border=\"1\" class=\"dataframe\">\n",
              "  <thead>\n",
              "    <tr style=\"text-align: right;\">\n",
              "      <th></th>\n",
              "      <th>Date</th>\n",
              "      <th>Close</th>\n",
              "      <th>Predictions ARIMA Training</th>\n",
              "    </tr>\n",
              "  </thead>\n",
              "  <tbody>\n",
              "    <tr>\n",
              "      <th>0</th>\n",
              "      <td>2015-01-05</td>\n",
              "      <td>2323.78</td>\n",
              "      <td>2343.984729</td>\n",
              "    </tr>\n",
              "    <tr>\n",
              "      <th>1</th>\n",
              "      <td>2015-01-06</td>\n",
              "      <td>2307.38</td>\n",
              "      <td>2324.000475</td>\n",
              "    </tr>\n",
              "    <tr>\n",
              "      <th>2</th>\n",
              "      <td>2015-01-07</td>\n",
              "      <td>2303.28</td>\n",
              "      <td>2310.087449</td>\n",
              "    </tr>\n",
              "    <tr>\n",
              "      <th>3</th>\n",
              "      <td>2015-01-08</td>\n",
              "      <td>2323.78</td>\n",
              "      <td>2304.494127</td>\n",
              "    </tr>\n",
              "    <tr>\n",
              "      <th>4</th>\n",
              "      <td>2015-01-09</td>\n",
              "      <td>2344.27</td>\n",
              "      <td>2324.676504</td>\n",
              "    </tr>\n",
              "    <tr>\n",
              "      <th>...</th>\n",
              "      <td>...</td>\n",
              "      <td>...</td>\n",
              "      <td>...</td>\n",
              "    </tr>\n",
              "    <tr>\n",
              "      <th>1348</th>\n",
              "      <td>2020-05-06</td>\n",
              "      <td>2831.47</td>\n",
              "      <td>2902.829749</td>\n",
              "    </tr>\n",
              "    <tr>\n",
              "      <th>1349</th>\n",
              "      <td>2020-05-08</td>\n",
              "      <td>2787.77</td>\n",
              "      <td>2825.065991</td>\n",
              "    </tr>\n",
              "    <tr>\n",
              "      <th>1350</th>\n",
              "      <td>2020-05-11</td>\n",
              "      <td>2813.99</td>\n",
              "      <td>2795.783442</td>\n",
              "    </tr>\n",
              "    <tr>\n",
              "      <th>1351</th>\n",
              "      <td>2020-05-12</td>\n",
              "      <td>2752.81</td>\n",
              "      <td>2815.982043</td>\n",
              "    </tr>\n",
              "    <tr>\n",
              "      <th>1352</th>\n",
              "      <td>2020-05-13</td>\n",
              "      <td>2761.55</td>\n",
              "      <td>2752.143374</td>\n",
              "    </tr>\n",
              "  </tbody>\n",
              "</table>\n",
              "<p>1353 rows × 3 columns</p>\n",
              "</div>"
            ],
            "text/plain": [
              "           Date    Close  Predictions ARIMA Training\n",
              "0    2015-01-05  2323.78                 2343.984729\n",
              "1    2015-01-06  2307.38                 2324.000475\n",
              "2    2015-01-07  2303.28                 2310.087449\n",
              "3    2015-01-08  2323.78                 2304.494127\n",
              "4    2015-01-09  2344.27                 2324.676504\n",
              "...         ...      ...                         ...\n",
              "1348 2020-05-06  2831.47                 2902.829749\n",
              "1349 2020-05-08  2787.77                 2825.065991\n",
              "1350 2020-05-11  2813.99                 2795.783442\n",
              "1351 2020-05-12  2752.81                 2815.982043\n",
              "1352 2020-05-13  2761.55                 2752.143374\n",
              "\n",
              "[1353 rows x 3 columns]"
            ]
          },
          "execution_count": 57,
          "metadata": {},
          "output_type": "execute_result"
        }
      ],
      "source": [
        "#file predict data training arima\n",
        "predict_arima_train_E10_2.to_excel(\"D:\\Python\\Hasil\\Python5\\E10\\Predict Data Training ARIMA.xlsx\")\n",
        "predict_arima_train_E10_2 = pd.read_excel(\"D:\\Python\\Hasil\\Python5\\E10\\Predict Data Training ARIMA.xlsx\")\n",
        "predict_arima_train_E10_2"
      ]
    },
    {
      "cell_type": "code",
      "execution_count": null,
      "metadata": {
        "id": "UstBRxCQo35u",
        "outputId": "fefa6344-d2f2-4518-a5ed-fc721bf00747"
      },
      "outputs": [
        {
          "data": {
            "text/html": [
              "<div>\n",
              "<style scoped>\n",
              "    .dataframe tbody tr th:only-of-type {\n",
              "        vertical-align: middle;\n",
              "    }\n",
              "\n",
              "    .dataframe tbody tr th {\n",
              "        vertical-align: top;\n",
              "    }\n",
              "\n",
              "    .dataframe thead th {\n",
              "        text-align: right;\n",
              "    }\n",
              "</style>\n",
              "<table border=\"1\" class=\"dataframe\">\n",
              "  <thead>\n",
              "    <tr style=\"text-align: right;\">\n",
              "      <th></th>\n",
              "      <th>Date</th>\n",
              "      <th>Close</th>\n",
              "      <th>Predictions ARIMA Testing</th>\n",
              "    </tr>\n",
              "  </thead>\n",
              "  <tbody>\n",
              "    <tr>\n",
              "      <th>0</th>\n",
              "      <td>2020-05-15</td>\n",
              "      <td>2709.12</td>\n",
              "      <td>2682.633922</td>\n",
              "    </tr>\n",
              "    <tr>\n",
              "      <th>1</th>\n",
              "      <td>2020-05-18</td>\n",
              "      <td>2813.99</td>\n",
              "      <td>2705.962545</td>\n",
              "    </tr>\n",
              "    <tr>\n",
              "      <th>2</th>\n",
              "      <td>2020-05-19</td>\n",
              "      <td>2857.68</td>\n",
              "      <td>2805.568802</td>\n",
              "    </tr>\n",
              "    <tr>\n",
              "      <th>3</th>\n",
              "      <td>2020-05-20</td>\n",
              "      <td>2779.03</td>\n",
              "      <td>2837.519097</td>\n",
              "    </tr>\n",
              "    <tr>\n",
              "      <th>4</th>\n",
              "      <td>2020-05-26</td>\n",
              "      <td>2840.20</td>\n",
              "      <td>2788.060825</td>\n",
              "    </tr>\n",
              "    <tr>\n",
              "      <th>...</th>\n",
              "      <td>...</td>\n",
              "      <td>...</td>\n",
              "      <td>...</td>\n",
              "    </tr>\n",
              "    <tr>\n",
              "      <th>145</th>\n",
              "      <td>2020-12-22</td>\n",
              "      <td>3085.84</td>\n",
              "      <td>3224.382740</td>\n",
              "    </tr>\n",
              "    <tr>\n",
              "      <th>146</th>\n",
              "      <td>2020-12-23</td>\n",
              "      <td>3049.10</td>\n",
              "      <td>3058.451178</td>\n",
              "    </tr>\n",
              "    <tr>\n",
              "      <th>147</th>\n",
              "      <td>2020-12-28</td>\n",
              "      <td>3150.13</td>\n",
              "      <td>3080.356391</td>\n",
              "    </tr>\n",
              "    <tr>\n",
              "      <th>148</th>\n",
              "      <td>2020-12-29</td>\n",
              "      <td>3140.95</td>\n",
              "      <td>3155.706644</td>\n",
              "    </tr>\n",
              "    <tr>\n",
              "      <th>149</th>\n",
              "      <td>2020-12-30</td>\n",
              "      <td>3039.92</td>\n",
              "      <td>3103.877229</td>\n",
              "    </tr>\n",
              "  </tbody>\n",
              "</table>\n",
              "<p>150 rows × 3 columns</p>\n",
              "</div>"
            ],
            "text/plain": [
              "          Date    Close  Predictions ARIMA Testing\n",
              "0   2020-05-15  2709.12                2682.633922\n",
              "1   2020-05-18  2813.99                2705.962545\n",
              "2   2020-05-19  2857.68                2805.568802\n",
              "3   2020-05-20  2779.03                2837.519097\n",
              "4   2020-05-26  2840.20                2788.060825\n",
              "..         ...      ...                        ...\n",
              "145 2020-12-22  3085.84                3224.382740\n",
              "146 2020-12-23  3049.10                3058.451178\n",
              "147 2020-12-28  3150.13                3080.356391\n",
              "148 2020-12-29  3140.95                3155.706644\n",
              "149 2020-12-30  3039.92                3103.877229\n",
              "\n",
              "[150 rows x 3 columns]"
            ]
          },
          "execution_count": 58,
          "metadata": {},
          "output_type": "execute_result"
        }
      ],
      "source": [
        "#file predict data testing arima\n",
        "predict_arima_test_E10_2.to_excel(\"D:\\Python\\Hasil\\Python5\\E10\\Predict Data Testing ARIMA.xlsx\")\n",
        "predict_arima_test_E10_2 = pd.read_excel(\"D:\\Python\\Hasil\\Python5\\E10\\Predict Data Testing ARIMA.xlsx\")\n",
        "predict_arima_test_E10_2"
      ]
    },
    {
      "cell_type": "code",
      "execution_count": null,
      "metadata": {
        "id": "pMjeIkN1o35u",
        "outputId": "909681ce-15ac-4478-d518-92adc9117b68"
      },
      "outputs": [
        {
          "data": {
            "text/html": [
              "<div>\n",
              "<style scoped>\n",
              "    .dataframe tbody tr th:only-of-type {\n",
              "        vertical-align: middle;\n",
              "    }\n",
              "\n",
              "    .dataframe tbody tr th {\n",
              "        vertical-align: top;\n",
              "    }\n",
              "\n",
              "    .dataframe thead th {\n",
              "        text-align: right;\n",
              "    }\n",
              "</style>\n",
              "<table border=\"1\" class=\"dataframe\">\n",
              "  <thead>\n",
              "    <tr style=\"text-align: right;\">\n",
              "      <th></th>\n",
              "      <th>Date</th>\n",
              "      <th>Close</th>\n",
              "      <th>Predictions LSTM Training</th>\n",
              "      <th>Predictions ARIMA Training</th>\n",
              "    </tr>\n",
              "  </thead>\n",
              "  <tbody>\n",
              "    <tr>\n",
              "      <th>0</th>\n",
              "      <td>2015-01-09</td>\n",
              "      <td>2344.27</td>\n",
              "      <td>2440.362061</td>\n",
              "      <td>2324.676504</td>\n",
              "    </tr>\n",
              "    <tr>\n",
              "      <th>1</th>\n",
              "      <td>2015-01-12</td>\n",
              "      <td>2323.78</td>\n",
              "      <td>2449.731445</td>\n",
              "      <td>2342.574168</td>\n",
              "    </tr>\n",
              "    <tr>\n",
              "      <th>2</th>\n",
              "      <td>2015-01-13</td>\n",
              "      <td>2327.87</td>\n",
              "      <td>2441.711914</td>\n",
              "      <td>2323.238578</td>\n",
              "    </tr>\n",
              "    <tr>\n",
              "      <th>3</th>\n",
              "      <td>2015-01-14</td>\n",
              "      <td>2315.58</td>\n",
              "      <td>2442.800049</td>\n",
              "      <td>2329.546613</td>\n",
              "    </tr>\n",
              "    <tr>\n",
              "      <th>4</th>\n",
              "      <td>2015-01-15</td>\n",
              "      <td>2319.68</td>\n",
              "      <td>2437.914795</td>\n",
              "      <td>2314.159394</td>\n",
              "    </tr>\n",
              "    <tr>\n",
              "      <th>...</th>\n",
              "      <td>...</td>\n",
              "      <td>...</td>\n",
              "      <td>...</td>\n",
              "      <td>...</td>\n",
              "    </tr>\n",
              "    <tr>\n",
              "      <th>1344</th>\n",
              "      <td>2020-05-06</td>\n",
              "      <td>2831.47</td>\n",
              "      <td>2725.708496</td>\n",
              "      <td>2902.829749</td>\n",
              "    </tr>\n",
              "    <tr>\n",
              "      <th>1345</th>\n",
              "      <td>2020-05-08</td>\n",
              "      <td>2787.77</td>\n",
              "      <td>2696.467773</td>\n",
              "      <td>2825.065991</td>\n",
              "    </tr>\n",
              "    <tr>\n",
              "      <th>1346</th>\n",
              "      <td>2020-05-11</td>\n",
              "      <td>2813.99</td>\n",
              "      <td>2676.837891</td>\n",
              "      <td>2795.783442</td>\n",
              "    </tr>\n",
              "    <tr>\n",
              "      <th>1347</th>\n",
              "      <td>2020-05-12</td>\n",
              "      <td>2752.81</td>\n",
              "      <td>2685.355469</td>\n",
              "      <td>2815.982043</td>\n",
              "    </tr>\n",
              "    <tr>\n",
              "      <th>1348</th>\n",
              "      <td>2020-05-13</td>\n",
              "      <td>2761.55</td>\n",
              "      <td>2657.117920</td>\n",
              "      <td>2752.143374</td>\n",
              "    </tr>\n",
              "  </tbody>\n",
              "</table>\n",
              "<p>1349 rows × 4 columns</p>\n",
              "</div>"
            ],
            "text/plain": [
              "           Date    Close  Predictions LSTM Training  \\\n",
              "0    2015-01-09  2344.27                2440.362061   \n",
              "1    2015-01-12  2323.78                2449.731445   \n",
              "2    2015-01-13  2327.87                2441.711914   \n",
              "3    2015-01-14  2315.58                2442.800049   \n",
              "4    2015-01-15  2319.68                2437.914795   \n",
              "...         ...      ...                        ...   \n",
              "1344 2020-05-06  2831.47                2725.708496   \n",
              "1345 2020-05-08  2787.77                2696.467773   \n",
              "1346 2020-05-11  2813.99                2676.837891   \n",
              "1347 2020-05-12  2752.81                2685.355469   \n",
              "1348 2020-05-13  2761.55                2657.117920   \n",
              "\n",
              "      Predictions ARIMA Training  \n",
              "0                    2324.676504  \n",
              "1                    2342.574168  \n",
              "2                    2323.238578  \n",
              "3                    2329.546613  \n",
              "4                    2314.159394  \n",
              "...                          ...  \n",
              "1344                 2902.829749  \n",
              "1345                 2825.065991  \n",
              "1346                 2795.783442  \n",
              "1347                 2815.982043  \n",
              "1348                 2752.143374  \n",
              "\n",
              "[1349 rows x 4 columns]"
            ]
          },
          "execution_count": 59,
          "metadata": {},
          "output_type": "execute_result"
        }
      ],
      "source": [
        "#file predict data training lstm arima\n",
        "\n",
        "predict_lstm_arima_train_E10.to_excel(\"D:\\Python\\Hasil\\Python5\\E10\\Predict Data Training LSTM ARIMA.xlsx\")\n",
        "predict_lstm_arima_train_E10 = pd.read_excel(\"D:\\Python\\Hasil\\Python5\\E10\\Predict Data Training LSTM ARIMA.xlsx\")\n",
        "predict_lstm_arima_train_E10"
      ]
    },
    {
      "cell_type": "code",
      "execution_count": null,
      "metadata": {
        "id": "3jaDYLhro35u",
        "outputId": "a92c4ee7-126e-469f-d34a-67f12ad32b62"
      },
      "outputs": [
        {
          "data": {
            "text/html": [
              "<div>\n",
              "<style scoped>\n",
              "    .dataframe tbody tr th:only-of-type {\n",
              "        vertical-align: middle;\n",
              "    }\n",
              "\n",
              "    .dataframe tbody tr th {\n",
              "        vertical-align: top;\n",
              "    }\n",
              "\n",
              "    .dataframe thead th {\n",
              "        text-align: right;\n",
              "    }\n",
              "</style>\n",
              "<table border=\"1\" class=\"dataframe\">\n",
              "  <thead>\n",
              "    <tr style=\"text-align: right;\">\n",
              "      <th></th>\n",
              "      <th>Date</th>\n",
              "      <th>Close</th>\n",
              "      <th>Predictions LSTM Testing</th>\n",
              "      <th>Predictions ARIMA Testing</th>\n",
              "    </tr>\n",
              "  </thead>\n",
              "  <tbody>\n",
              "    <tr>\n",
              "      <th>0</th>\n",
              "      <td>2020-05-26</td>\n",
              "      <td>2840.20</td>\n",
              "      <td>2774.841797</td>\n",
              "      <td>2788.060825</td>\n",
              "    </tr>\n",
              "    <tr>\n",
              "      <th>1</th>\n",
              "      <td>2020-05-27</td>\n",
              "      <td>2770.29</td>\n",
              "      <td>2837.265137</td>\n",
              "      <td>2870.756871</td>\n",
              "    </tr>\n",
              "    <tr>\n",
              "      <th>2</th>\n",
              "      <td>2020-05-28</td>\n",
              "      <td>2735.34</td>\n",
              "      <td>2773.565918</td>\n",
              "      <td>2744.302415</td>\n",
              "    </tr>\n",
              "    <tr>\n",
              "      <th>3</th>\n",
              "      <td>2020-05-29</td>\n",
              "      <td>2752.81</td>\n",
              "      <td>2743.172607</td>\n",
              "      <td>2738.383434</td>\n",
              "    </tr>\n",
              "    <tr>\n",
              "      <th>4</th>\n",
              "      <td>2020-06-02</td>\n",
              "      <td>2840.20</td>\n",
              "      <td>2757.115967</td>\n",
              "      <td>2763.864944</td>\n",
              "    </tr>\n",
              "    <tr>\n",
              "      <th>...</th>\n",
              "      <td>...</td>\n",
              "      <td>...</td>\n",
              "      <td>...</td>\n",
              "      <td>...</td>\n",
              "    </tr>\n",
              "    <tr>\n",
              "      <th>141</th>\n",
              "      <td>2020-12-22</td>\n",
              "      <td>3085.84</td>\n",
              "      <td>3230.173584</td>\n",
              "      <td>3224.382740</td>\n",
              "    </tr>\n",
              "    <tr>\n",
              "      <th>142</th>\n",
              "      <td>2020-12-23</td>\n",
              "      <td>3049.10</td>\n",
              "      <td>3081.946289</td>\n",
              "      <td>3058.451178</td>\n",
              "    </tr>\n",
              "    <tr>\n",
              "      <th>143</th>\n",
              "      <td>2020-12-28</td>\n",
              "      <td>3150.13</td>\n",
              "      <td>3064.074219</td>\n",
              "      <td>3080.356391</td>\n",
              "    </tr>\n",
              "    <tr>\n",
              "      <th>144</th>\n",
              "      <td>2020-12-29</td>\n",
              "      <td>3140.95</td>\n",
              "      <td>3162.147217</td>\n",
              "      <td>3155.706644</td>\n",
              "    </tr>\n",
              "    <tr>\n",
              "      <th>145</th>\n",
              "      <td>2020-12-30</td>\n",
              "      <td>3039.92</td>\n",
              "      <td>3134.477539</td>\n",
              "      <td>3103.877229</td>\n",
              "    </tr>\n",
              "  </tbody>\n",
              "</table>\n",
              "<p>146 rows × 4 columns</p>\n",
              "</div>"
            ],
            "text/plain": [
              "          Date    Close  Predictions LSTM Testing  Predictions ARIMA Testing\n",
              "0   2020-05-26  2840.20               2774.841797                2788.060825\n",
              "1   2020-05-27  2770.29               2837.265137                2870.756871\n",
              "2   2020-05-28  2735.34               2773.565918                2744.302415\n",
              "3   2020-05-29  2752.81               2743.172607                2738.383434\n",
              "4   2020-06-02  2840.20               2757.115967                2763.864944\n",
              "..         ...      ...                       ...                        ...\n",
              "141 2020-12-22  3085.84               3230.173584                3224.382740\n",
              "142 2020-12-23  3049.10               3081.946289                3058.451178\n",
              "143 2020-12-28  3150.13               3064.074219                3080.356391\n",
              "144 2020-12-29  3140.95               3162.147217                3155.706644\n",
              "145 2020-12-30  3039.92               3134.477539                3103.877229\n",
              "\n",
              "[146 rows x 4 columns]"
            ]
          },
          "execution_count": 60,
          "metadata": {},
          "output_type": "execute_result"
        }
      ],
      "source": [
        "#file predict data testing lstm arima\n",
        "\n",
        "predict_lstm_arima_test_E10.to_excel(\"D:\\Python\\Hasil\\Python5\\E10\\Predict Data Testing LSTM ARIMA.xlsx\")\n",
        "predict_lstm_arima_test_E10 = pd.read_excel(\"D:\\Python\\Hasil\\Python5\\E10\\Predict Data Testing LSTM ARIMA.xlsx\")\n",
        "predict_lstm_arima_test_E10"
      ]
    },
    {
      "cell_type": "markdown",
      "source": [
        "---\n",
        "## Special google colab\n",
        "---\n",
        "\n",
        "Create a file from the prediction results\n",
        "\n",
        "This step works for those using Google Colab"
      ],
      "metadata": {
        "id": "OMfwCArWSTIZ"
      }
    },
    {
      "cell_type": "code",
      "source": [
        "from google.colab import files"
      ],
      "metadata": {
        "id": "W-fCZ5wrb-7I"
      },
      "execution_count": null,
      "outputs": []
    },
    {
      "cell_type": "code",
      "source": [
        "##data\n",
        "dataused = pd.DataFrame({'Date':df.index, 'Close':df.values})\n",
        "dataused = dataused.set_index('Date')\n",
        "dataused.to_excel(\"ISA14 Data Used.xlsx\")\n",
        "dataused = pd.read_excel(\"ISA14 Data Used.xlsx\")\n",
        "dataused"
      ],
      "metadata": {
        "colab": {
          "base_uri": "https://localhost:8080/",
          "height": 424
        },
        "id": "jxUti-GCcBzw",
        "outputId": "e1b78b7f-1d05-4a16-823b-1182c7ca461b"
      },
      "execution_count": null,
      "outputs": [
        {
          "output_type": "execute_result",
          "data": {
            "text/plain": [
              "           Date  Close\n",
              "0    2015-01-02   4120\n",
              "1    2015-01-05   4200\n",
              "2    2015-01-06   4225\n",
              "3    2015-01-07   4200\n",
              "4    2015-01-08   4250\n",
              "...         ...    ...\n",
              "1500 2020-12-22   5250\n",
              "1501 2020-12-23   5650\n",
              "1502 2020-12-28   5650\n",
              "1503 2020-12-29   5275\n",
              "1504 2020-12-30   5050\n",
              "\n",
              "[1505 rows x 2 columns]"
            ],
            "text/html": [
              "\n",
              "  <div id=\"df-ea66128c-3857-4248-92cd-5109b225dabc\">\n",
              "    <div class=\"colab-df-container\">\n",
              "      <div>\n",
              "<style scoped>\n",
              "    .dataframe tbody tr th:only-of-type {\n",
              "        vertical-align: middle;\n",
              "    }\n",
              "\n",
              "    .dataframe tbody tr th {\n",
              "        vertical-align: top;\n",
              "    }\n",
              "\n",
              "    .dataframe thead th {\n",
              "        text-align: right;\n",
              "    }\n",
              "</style>\n",
              "<table border=\"1\" class=\"dataframe\">\n",
              "  <thead>\n",
              "    <tr style=\"text-align: right;\">\n",
              "      <th></th>\n",
              "      <th>Date</th>\n",
              "      <th>Close</th>\n",
              "    </tr>\n",
              "  </thead>\n",
              "  <tbody>\n",
              "    <tr>\n",
              "      <th>0</th>\n",
              "      <td>2015-01-02</td>\n",
              "      <td>4120</td>\n",
              "    </tr>\n",
              "    <tr>\n",
              "      <th>1</th>\n",
              "      <td>2015-01-05</td>\n",
              "      <td>4200</td>\n",
              "    </tr>\n",
              "    <tr>\n",
              "      <th>2</th>\n",
              "      <td>2015-01-06</td>\n",
              "      <td>4225</td>\n",
              "    </tr>\n",
              "    <tr>\n",
              "      <th>3</th>\n",
              "      <td>2015-01-07</td>\n",
              "      <td>4200</td>\n",
              "    </tr>\n",
              "    <tr>\n",
              "      <th>4</th>\n",
              "      <td>2015-01-08</td>\n",
              "      <td>4250</td>\n",
              "    </tr>\n",
              "    <tr>\n",
              "      <th>...</th>\n",
              "      <td>...</td>\n",
              "      <td>...</td>\n",
              "    </tr>\n",
              "    <tr>\n",
              "      <th>1500</th>\n",
              "      <td>2020-12-22</td>\n",
              "      <td>5250</td>\n",
              "    </tr>\n",
              "    <tr>\n",
              "      <th>1501</th>\n",
              "      <td>2020-12-23</td>\n",
              "      <td>5650</td>\n",
              "    </tr>\n",
              "    <tr>\n",
              "      <th>1502</th>\n",
              "      <td>2020-12-28</td>\n",
              "      <td>5650</td>\n",
              "    </tr>\n",
              "    <tr>\n",
              "      <th>1503</th>\n",
              "      <td>2020-12-29</td>\n",
              "      <td>5275</td>\n",
              "    </tr>\n",
              "    <tr>\n",
              "      <th>1504</th>\n",
              "      <td>2020-12-30</td>\n",
              "      <td>5050</td>\n",
              "    </tr>\n",
              "  </tbody>\n",
              "</table>\n",
              "<p>1505 rows × 2 columns</p>\n",
              "</div>\n",
              "      <button class=\"colab-df-convert\" onclick=\"convertToInteractive('df-ea66128c-3857-4248-92cd-5109b225dabc')\"\n",
              "              title=\"Convert this dataframe to an interactive table.\"\n",
              "              style=\"display:none;\">\n",
              "        \n",
              "  <svg xmlns=\"http://www.w3.org/2000/svg\" height=\"24px\"viewBox=\"0 0 24 24\"\n",
              "       width=\"24px\">\n",
              "    <path d=\"M0 0h24v24H0V0z\" fill=\"none\"/>\n",
              "    <path d=\"M18.56 5.44l.94 2.06.94-2.06 2.06-.94-2.06-.94-.94-2.06-.94 2.06-2.06.94zm-11 1L8.5 8.5l.94-2.06 2.06-.94-2.06-.94L8.5 2.5l-.94 2.06-2.06.94zm10 10l.94 2.06.94-2.06 2.06-.94-2.06-.94-.94-2.06-.94 2.06-2.06.94z\"/><path d=\"M17.41 7.96l-1.37-1.37c-.4-.4-.92-.59-1.43-.59-.52 0-1.04.2-1.43.59L10.3 9.45l-7.72 7.72c-.78.78-.78 2.05 0 2.83L4 21.41c.39.39.9.59 1.41.59.51 0 1.02-.2 1.41-.59l7.78-7.78 2.81-2.81c.8-.78.8-2.07 0-2.86zM5.41 20L4 18.59l7.72-7.72 1.47 1.35L5.41 20z\"/>\n",
              "  </svg>\n",
              "      </button>\n",
              "      \n",
              "  <style>\n",
              "    .colab-df-container {\n",
              "      display:flex;\n",
              "      flex-wrap:wrap;\n",
              "      gap: 12px;\n",
              "    }\n",
              "\n",
              "    .colab-df-convert {\n",
              "      background-color: #E8F0FE;\n",
              "      border: none;\n",
              "      border-radius: 50%;\n",
              "      cursor: pointer;\n",
              "      display: none;\n",
              "      fill: #1967D2;\n",
              "      height: 32px;\n",
              "      padding: 0 0 0 0;\n",
              "      width: 32px;\n",
              "    }\n",
              "\n",
              "    .colab-df-convert:hover {\n",
              "      background-color: #E2EBFA;\n",
              "      box-shadow: 0px 1px 2px rgba(60, 64, 67, 0.3), 0px 1px 3px 1px rgba(60, 64, 67, 0.15);\n",
              "      fill: #174EA6;\n",
              "    }\n",
              "\n",
              "    [theme=dark] .colab-df-convert {\n",
              "      background-color: #3B4455;\n",
              "      fill: #D2E3FC;\n",
              "    }\n",
              "\n",
              "    [theme=dark] .colab-df-convert:hover {\n",
              "      background-color: #434B5C;\n",
              "      box-shadow: 0px 1px 3px 1px rgba(0, 0, 0, 0.15);\n",
              "      filter: drop-shadow(0px 1px 2px rgba(0, 0, 0, 0.3));\n",
              "      fill: #FFFFFF;\n",
              "    }\n",
              "  </style>\n",
              "\n",
              "      <script>\n",
              "        const buttonEl =\n",
              "          document.querySelector('#df-ea66128c-3857-4248-92cd-5109b225dabc button.colab-df-convert');\n",
              "        buttonEl.style.display =\n",
              "          google.colab.kernel.accessAllowed ? 'block' : 'none';\n",
              "\n",
              "        async function convertToInteractive(key) {\n",
              "          const element = document.querySelector('#df-ea66128c-3857-4248-92cd-5109b225dabc');\n",
              "          const dataTable =\n",
              "            await google.colab.kernel.invokeFunction('convertToInteractive',\n",
              "                                                     [key], {});\n",
              "          if (!dataTable) return;\n",
              "\n",
              "          const docLinkHtml = 'Like what you see? Visit the ' +\n",
              "            '<a target=\"_blank\" href=https://colab.research.google.com/notebooks/data_table.ipynb>data table notebook</a>'\n",
              "            + ' to learn more about interactive tables.';\n",
              "          element.innerHTML = '';\n",
              "          dataTable['output_type'] = 'display_data';\n",
              "          await google.colab.output.renderOutput(dataTable, element);\n",
              "          const docLink = document.createElement('div');\n",
              "          docLink.innerHTML = docLinkHtml;\n",
              "          element.appendChild(docLink);\n",
              "        }\n",
              "      </script>\n",
              "    </div>\n",
              "  </div>\n",
              "  "
            ]
          },
          "metadata": {},
          "execution_count": 59
        }
      ]
    },
    {
      "cell_type": "code",
      "source": [
        "dataused.to_excel(\"ISA14 Data Used.xlsx\")\n",
        "files.download(\"ISA14 Data Used.xlsx\")"
      ],
      "metadata": {
        "colab": {
          "base_uri": "https://localhost:8080/",
          "height": 17
        },
        "id": "_lqmIfPPcab3",
        "outputId": "aa879a1a-7baf-4120-c3cf-312fd7c141c2"
      },
      "execution_count": null,
      "outputs": [
        {
          "output_type": "display_data",
          "data": {
            "text/plain": [
              "<IPython.core.display.Javascript object>"
            ],
            "application/javascript": [
              "\n",
              "    async function download(id, filename, size) {\n",
              "      if (!google.colab.kernel.accessAllowed) {\n",
              "        return;\n",
              "      }\n",
              "      const div = document.createElement('div');\n",
              "      const label = document.createElement('label');\n",
              "      label.textContent = `Downloading \"${filename}\": `;\n",
              "      div.appendChild(label);\n",
              "      const progress = document.createElement('progress');\n",
              "      progress.max = size;\n",
              "      div.appendChild(progress);\n",
              "      document.body.appendChild(div);\n",
              "\n",
              "      const buffers = [];\n",
              "      let downloaded = 0;\n",
              "\n",
              "      const channel = await google.colab.kernel.comms.open(id);\n",
              "      // Send a message to notify the kernel that we're ready.\n",
              "      channel.send({})\n",
              "\n",
              "      for await (const message of channel.messages) {\n",
              "        // Send a message to notify the kernel that we're ready.\n",
              "        channel.send({})\n",
              "        if (message.buffers) {\n",
              "          for (const buffer of message.buffers) {\n",
              "            buffers.push(buffer);\n",
              "            downloaded += buffer.byteLength;\n",
              "            progress.value = downloaded;\n",
              "          }\n",
              "        }\n",
              "      }\n",
              "      const blob = new Blob(buffers, {type: 'application/binary'});\n",
              "      const a = document.createElement('a');\n",
              "      a.href = window.URL.createObjectURL(blob);\n",
              "      a.download = filename;\n",
              "      div.appendChild(a);\n",
              "      a.click();\n",
              "      div.remove();\n",
              "    }\n",
              "  "
            ]
          },
          "metadata": {}
        },
        {
          "output_type": "display_data",
          "data": {
            "text/plain": [
              "<IPython.core.display.Javascript object>"
            ],
            "application/javascript": [
              "download(\"download_684c2d18-6d69-428e-bee3-fe9a7725fd56\", \"ISA14 Data Used.xlsx\", 34514)"
            ]
          },
          "metadata": {}
        }
      ]
    },
    {
      "cell_type": "code",
      "source": [
        "#file predict data training lstm\n",
        "predict_lstm_train_ISA14_3.to_excel(\"ISA14 Predict Data Training LSTM.xlsx\")\n",
        "files.download(\"ISA14 Predict Data Training LSTM.xlsx\")"
      ],
      "metadata": {
        "colab": {
          "base_uri": "https://localhost:8080/",
          "height": 17
        },
        "id": "uHjXJrT4d-nI",
        "outputId": "45726f06-73b7-4bc3-e409-3ba25bb5f4d4"
      },
      "execution_count": null,
      "outputs": [
        {
          "output_type": "display_data",
          "data": {
            "text/plain": [
              "<IPython.core.display.Javascript object>"
            ],
            "application/javascript": [
              "\n",
              "    async function download(id, filename, size) {\n",
              "      if (!google.colab.kernel.accessAllowed) {\n",
              "        return;\n",
              "      }\n",
              "      const div = document.createElement('div');\n",
              "      const label = document.createElement('label');\n",
              "      label.textContent = `Downloading \"${filename}\": `;\n",
              "      div.appendChild(label);\n",
              "      const progress = document.createElement('progress');\n",
              "      progress.max = size;\n",
              "      div.appendChild(progress);\n",
              "      document.body.appendChild(div);\n",
              "\n",
              "      const buffers = [];\n",
              "      let downloaded = 0;\n",
              "\n",
              "      const channel = await google.colab.kernel.comms.open(id);\n",
              "      // Send a message to notify the kernel that we're ready.\n",
              "      channel.send({})\n",
              "\n",
              "      for await (const message of channel.messages) {\n",
              "        // Send a message to notify the kernel that we're ready.\n",
              "        channel.send({})\n",
              "        if (message.buffers) {\n",
              "          for (const buffer of message.buffers) {\n",
              "            buffers.push(buffer);\n",
              "            downloaded += buffer.byteLength;\n",
              "            progress.value = downloaded;\n",
              "          }\n",
              "        }\n",
              "      }\n",
              "      const blob = new Blob(buffers, {type: 'application/binary'});\n",
              "      const a = document.createElement('a');\n",
              "      a.href = window.URL.createObjectURL(blob);\n",
              "      a.download = filename;\n",
              "      div.appendChild(a);\n",
              "      a.click();\n",
              "      div.remove();\n",
              "    }\n",
              "  "
            ]
          },
          "metadata": {}
        },
        {
          "output_type": "display_data",
          "data": {
            "text/plain": [
              "<IPython.core.display.Javascript object>"
            ],
            "application/javascript": [
              "download(\"download_1e7710d9-5909-407b-863e-7437ca92ccb9\", \"ISA14 Predict Data Training LSTM.xlsx\", 30865)"
            ]
          },
          "metadata": {}
        }
      ]
    },
    {
      "cell_type": "code",
      "source": [
        "#file predict data testing lstm\n",
        "predict_lstm_test_ISA14_3.to_excel(\"ISA14 Predict Data Testing LSTM.xlsx\")\n",
        "files.download(\"ISA14 Predict Data Testing LSTM.xlsx\")\n"
      ],
      "metadata": {
        "colab": {
          "base_uri": "https://localhost:8080/",
          "height": 17
        },
        "id": "DGz7B6xsd__L",
        "outputId": "23e1edcc-5323-4a29-ddf7-f995707b273a"
      },
      "execution_count": null,
      "outputs": [
        {
          "output_type": "display_data",
          "data": {
            "text/plain": [
              "<IPython.core.display.Javascript object>"
            ],
            "application/javascript": [
              "\n",
              "    async function download(id, filename, size) {\n",
              "      if (!google.colab.kernel.accessAllowed) {\n",
              "        return;\n",
              "      }\n",
              "      const div = document.createElement('div');\n",
              "      const label = document.createElement('label');\n",
              "      label.textContent = `Downloading \"${filename}\": `;\n",
              "      div.appendChild(label);\n",
              "      const progress = document.createElement('progress');\n",
              "      progress.max = size;\n",
              "      div.appendChild(progress);\n",
              "      document.body.appendChild(div);\n",
              "\n",
              "      const buffers = [];\n",
              "      let downloaded = 0;\n",
              "\n",
              "      const channel = await google.colab.kernel.comms.open(id);\n",
              "      // Send a message to notify the kernel that we're ready.\n",
              "      channel.send({})\n",
              "\n",
              "      for await (const message of channel.messages) {\n",
              "        // Send a message to notify the kernel that we're ready.\n",
              "        channel.send({})\n",
              "        if (message.buffers) {\n",
              "          for (const buffer of message.buffers) {\n",
              "            buffers.push(buffer);\n",
              "            downloaded += buffer.byteLength;\n",
              "            progress.value = downloaded;\n",
              "          }\n",
              "        }\n",
              "      }\n",
              "      const blob = new Blob(buffers, {type: 'application/binary'});\n",
              "      const a = document.createElement('a');\n",
              "      a.href = window.URL.createObjectURL(blob);\n",
              "      a.download = filename;\n",
              "      div.appendChild(a);\n",
              "      a.click();\n",
              "      div.remove();\n",
              "    }\n",
              "  "
            ]
          },
          "metadata": {}
        },
        {
          "output_type": "display_data",
          "data": {
            "text/plain": [
              "<IPython.core.display.Javascript object>"
            ],
            "application/javascript": [
              "download(\"download_ba1cc7a6-a3ac-4353-aa83-db07013ac53c\", \"ISA14 Predict Data Testing LSTM.xlsx\", 9789)"
            ]
          },
          "metadata": {}
        }
      ]
    },
    {
      "cell_type": "code",
      "source": [
        "#file predict data training arima\n",
        "predict_arima_train_ISA14_2.to_excel(\"ISA14 Predict Data Training ARIMA.xlsx\")\n",
        "files.download(\"ISA14 Predict Data Training ARIMA.xlsx\")"
      ],
      "metadata": {
        "colab": {
          "base_uri": "https://localhost:8080/",
          "height": 17
        },
        "id": "RNOnZRheeCZz",
        "outputId": "0d02b1e0-65de-4035-c1c7-a889aaf9e06c"
      },
      "execution_count": null,
      "outputs": [
        {
          "output_type": "display_data",
          "data": {
            "text/plain": [
              "<IPython.core.display.Javascript object>"
            ],
            "application/javascript": [
              "\n",
              "    async function download(id, filename, size) {\n",
              "      if (!google.colab.kernel.accessAllowed) {\n",
              "        return;\n",
              "      }\n",
              "      const div = document.createElement('div');\n",
              "      const label = document.createElement('label');\n",
              "      label.textContent = `Downloading \"${filename}\": `;\n",
              "      div.appendChild(label);\n",
              "      const progress = document.createElement('progress');\n",
              "      progress.max = size;\n",
              "      div.appendChild(progress);\n",
              "      document.body.appendChild(div);\n",
              "\n",
              "      const buffers = [];\n",
              "      let downloaded = 0;\n",
              "\n",
              "      const channel = await google.colab.kernel.comms.open(id);\n",
              "      // Send a message to notify the kernel that we're ready.\n",
              "      channel.send({})\n",
              "\n",
              "      for await (const message of channel.messages) {\n",
              "        // Send a message to notify the kernel that we're ready.\n",
              "        channel.send({})\n",
              "        if (message.buffers) {\n",
              "          for (const buffer of message.buffers) {\n",
              "            buffers.push(buffer);\n",
              "            downloaded += buffer.byteLength;\n",
              "            progress.value = downloaded;\n",
              "          }\n",
              "        }\n",
              "      }\n",
              "      const blob = new Blob(buffers, {type: 'application/binary'});\n",
              "      const a = document.createElement('a');\n",
              "      a.href = window.URL.createObjectURL(blob);\n",
              "      a.download = filename;\n",
              "      div.appendChild(a);\n",
              "      a.click();\n",
              "      div.remove();\n",
              "    }\n",
              "  "
            ]
          },
          "metadata": {}
        },
        {
          "output_type": "display_data",
          "data": {
            "text/plain": [
              "<IPython.core.display.Javascript object>"
            ],
            "application/javascript": [
              "download(\"download_e089e6e5-06a2-45d1-aaf2-991057f498cb\", \"ISA14 Predict Data Training ARIMA.xlsx\", 26128)"
            ]
          },
          "metadata": {}
        }
      ]
    },
    {
      "cell_type": "code",
      "source": [
        "#file predict data testing arima\n",
        "predict_arima_test_ISA14_2.to_excel(\"ISA14 Predict Data Testing ARIMA.xlsx\")\n",
        "files.download(\"ISA14 Predict Data Testing ARIMA.xlsx\")"
      ],
      "metadata": {
        "colab": {
          "base_uri": "https://localhost:8080/",
          "height": 17
        },
        "id": "J_ka-rNaeE5n",
        "outputId": "d1fe6286-7bdd-4fbd-a63c-c6ab10adffa0"
      },
      "execution_count": null,
      "outputs": [
        {
          "output_type": "display_data",
          "data": {
            "text/plain": [
              "<IPython.core.display.Javascript object>"
            ],
            "application/javascript": [
              "\n",
              "    async function download(id, filename, size) {\n",
              "      if (!google.colab.kernel.accessAllowed) {\n",
              "        return;\n",
              "      }\n",
              "      const div = document.createElement('div');\n",
              "      const label = document.createElement('label');\n",
              "      label.textContent = `Downloading \"${filename}\": `;\n",
              "      div.appendChild(label);\n",
              "      const progress = document.createElement('progress');\n",
              "      progress.max = size;\n",
              "      div.appendChild(progress);\n",
              "      document.body.appendChild(div);\n",
              "\n",
              "      const buffers = [];\n",
              "      let downloaded = 0;\n",
              "\n",
              "      const channel = await google.colab.kernel.comms.open(id);\n",
              "      // Send a message to notify the kernel that we're ready.\n",
              "      channel.send({})\n",
              "\n",
              "      for await (const message of channel.messages) {\n",
              "        // Send a message to notify the kernel that we're ready.\n",
              "        channel.send({})\n",
              "        if (message.buffers) {\n",
              "          for (const buffer of message.buffers) {\n",
              "            buffers.push(buffer);\n",
              "            downloaded += buffer.byteLength;\n",
              "            progress.value = downloaded;\n",
              "          }\n",
              "        }\n",
              "      }\n",
              "      const blob = new Blob(buffers, {type: 'application/binary'});\n",
              "      const a = document.createElement('a');\n",
              "      a.href = window.URL.createObjectURL(blob);\n",
              "      a.download = filename;\n",
              "      div.appendChild(a);\n",
              "      a.click();\n",
              "      div.remove();\n",
              "    }\n",
              "  "
            ]
          },
          "metadata": {}
        },
        {
          "output_type": "display_data",
          "data": {
            "text/plain": [
              "<IPython.core.display.Javascript object>"
            ],
            "application/javascript": [
              "download(\"download_aaee51e0-32ab-4a95-97f4-24671c11e21e\", \"ISA14 Predict Data Testing ARIMA.xlsx\", 10458)"
            ]
          },
          "metadata": {}
        }
      ]
    },
    {
      "cell_type": "code",
      "source": [
        "#file predict data training lstm arima\n",
        "predict_lstm_arima_train_ISA14.to_excel(\"ISA14 Predict Data Training LSTM ARIMA.xlsx\")\n",
        "files.download(\"ISA14 Predict Data Training LSTM ARIMA.xlsx\")"
      ],
      "metadata": {
        "colab": {
          "base_uri": "https://localhost:8080/",
          "height": 17
        },
        "id": "Yu_4DQGjeG1i",
        "outputId": "1847f375-d579-4f00-e51e-b30af250f057"
      },
      "execution_count": null,
      "outputs": [
        {
          "output_type": "display_data",
          "data": {
            "text/plain": [
              "<IPython.core.display.Javascript object>"
            ],
            "application/javascript": [
              "\n",
              "    async function download(id, filename, size) {\n",
              "      if (!google.colab.kernel.accessAllowed) {\n",
              "        return;\n",
              "      }\n",
              "      const div = document.createElement('div');\n",
              "      const label = document.createElement('label');\n",
              "      label.textContent = `Downloading \"${filename}\": `;\n",
              "      div.appendChild(label);\n",
              "      const progress = document.createElement('progress');\n",
              "      progress.max = size;\n",
              "      div.appendChild(progress);\n",
              "      document.body.appendChild(div);\n",
              "\n",
              "      const buffers = [];\n",
              "      let downloaded = 0;\n",
              "\n",
              "      const channel = await google.colab.kernel.comms.open(id);\n",
              "      // Send a message to notify the kernel that we're ready.\n",
              "      channel.send({})\n",
              "\n",
              "      for await (const message of channel.messages) {\n",
              "        // Send a message to notify the kernel that we're ready.\n",
              "        channel.send({})\n",
              "        if (message.buffers) {\n",
              "          for (const buffer of message.buffers) {\n",
              "            buffers.push(buffer);\n",
              "            downloaded += buffer.byteLength;\n",
              "            progress.value = downloaded;\n",
              "          }\n",
              "        }\n",
              "      }\n",
              "      const blob = new Blob(buffers, {type: 'application/binary'});\n",
              "      const a = document.createElement('a');\n",
              "      a.href = window.URL.createObjectURL(blob);\n",
              "      a.download = filename;\n",
              "      div.appendChild(a);\n",
              "      a.click();\n",
              "      div.remove();\n",
              "    }\n",
              "  "
            ]
          },
          "metadata": {}
        },
        {
          "output_type": "display_data",
          "data": {
            "text/plain": [
              "<IPython.core.display.Javascript object>"
            ],
            "application/javascript": [
              "download(\"download_376b6b3e-a834-42bf-a2c0-1fed83d0ffb3\", \"ISA14 Predict Data Training LSTM ARIMA.xlsx\", 35057)"
            ]
          },
          "metadata": {}
        }
      ]
    },
    {
      "cell_type": "code",
      "source": [
        " #file predict data testing lstm arima\n",
        "predict_lstm_arima_test_ISA14.to_excel(\"ISA14 Predict Data Testing LSTM ARIMA.xlsx\")\n",
        "files.download(\"ISA14 Predict Data Testing LSTM ARIMA.xlsx\")"
      ],
      "metadata": {
        "colab": {
          "base_uri": "https://localhost:8080/",
          "height": 17
        },
        "id": "wlG7Z9iHdizx",
        "outputId": "39374aff-4267-4bb1-8393-84b0400af816"
      },
      "execution_count": null,
      "outputs": [
        {
          "output_type": "display_data",
          "data": {
            "text/plain": [
              "<IPython.core.display.Javascript object>"
            ],
            "application/javascript": [
              "\n",
              "    async function download(id, filename, size) {\n",
              "      if (!google.colab.kernel.accessAllowed) {\n",
              "        return;\n",
              "      }\n",
              "      const div = document.createElement('div');\n",
              "      const label = document.createElement('label');\n",
              "      label.textContent = `Downloading \"${filename}\": `;\n",
              "      div.appendChild(label);\n",
              "      const progress = document.createElement('progress');\n",
              "      progress.max = size;\n",
              "      div.appendChild(progress);\n",
              "      document.body.appendChild(div);\n",
              "\n",
              "      const buffers = [];\n",
              "      let downloaded = 0;\n",
              "\n",
              "      const channel = await google.colab.kernel.comms.open(id);\n",
              "      // Send a message to notify the kernel that we're ready.\n",
              "      channel.send({})\n",
              "\n",
              "      for await (const message of channel.messages) {\n",
              "        // Send a message to notify the kernel that we're ready.\n",
              "        channel.send({})\n",
              "        if (message.buffers) {\n",
              "          for (const buffer of message.buffers) {\n",
              "            buffers.push(buffer);\n",
              "            downloaded += buffer.byteLength;\n",
              "            progress.value = downloaded;\n",
              "          }\n",
              "        }\n",
              "      }\n",
              "      const blob = new Blob(buffers, {type: 'application/binary'});\n",
              "      const a = document.createElement('a');\n",
              "      a.href = window.URL.createObjectURL(blob);\n",
              "      a.download = filename;\n",
              "      div.appendChild(a);\n",
              "      a.click();\n",
              "      div.remove();\n",
              "    }\n",
              "  "
            ]
          },
          "metadata": {}
        },
        {
          "output_type": "display_data",
          "data": {
            "text/plain": [
              "<IPython.core.display.Javascript object>"
            ],
            "application/javascript": [
              "download(\"download_8b70920f-5c92-46ce-aefd-49fa48bfd509\", \"ISA14 Predict Data Testing LSTM ARIMA.xlsx\", 10565)"
            ]
          },
          "metadata": {}
        }
      ]
    }
  ],
  "metadata": {
    "colab": {
      "collapsed_sections": [
        "QbH3_Exn7iVN",
        "r__Tns7doBDc",
        "eAITV3o1pAXE",
        "cf8e850c",
        "7d7ed63e",
        "0839d885",
        "fc1ae431",
        "a1ddc1b2",
        "aa6b14f2",
        "4c72998b",
        "09a10ca6",
        "JTLmRr5bo35k",
        "da0aa63c",
        "mQxUNVkOrdjn",
        "OMfwCArWSTIZ"
      ],
      "provenance": []
    },
    "interpreter": {
      "hash": "11938c6bc6919ae2720b4d5011047913343b08a43b18698fd82dedb0d4417594"
    },
    "kernelspec": {
      "display_name": "Python 3.9.7 64-bit",
      "language": "python",
      "name": "python3"
    },
    "language_info": {
      "codemirror_mode": {
        "name": "ipython",
        "version": 3
      },
      "file_extension": ".py",
      "mimetype": "text/x-python",
      "name": "python",
      "nbconvert_exporter": "python",
      "pygments_lexer": "ipython3",
      "version": "3.9.7"
    }
  },
  "nbformat": 4,
  "nbformat_minor": 0
}